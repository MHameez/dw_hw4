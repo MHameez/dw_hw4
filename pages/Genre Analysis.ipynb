{
 "cells": [
  {
   "cell_type": "code",
   "execution_count": 137,
   "metadata": {},
   "outputs": [],
   "source": [
    "import pandas as pd\n",
    "import numpy as np\n",
    "import json\n",
    "import plotly.express as px\n",
    "import plotly.graph_objects as go"
   ]
  },
  {
   "cell_type": "markdown",
   "metadata": {},
   "source": [
    "#### Json to Dataframe"
   ]
  },
  {
   "cell_type": "code",
   "execution_count": 138,
   "metadata": {},
   "outputs": [],
   "source": [
    "# #Convert nested Json to Dataframe\n",
    "# def json_to_dataframe(json_data):\n",
    "    \n",
    "#     new = pd.DataFrame.from_dict({(i,j): json_data[i][j] \n",
    "#                                for i in json_data.keys() \n",
    "#                                for j in json_data[i].keys()},\n",
    "#                            orient='index')\n",
    "#     return new\n",
    "\n"
   ]
  },
  {
   "cell_type": "code",
   "execution_count": 142,
   "metadata": {},
   "outputs": [
    {
     "data": {
      "text/html": [
       "<div>\n",
       "<style scoped>\n",
       "    .dataframe tbody tr th:only-of-type {\n",
       "        vertical-align: middle;\n",
       "    }\n",
       "\n",
       "    .dataframe tbody tr th {\n",
       "        vertical-align: top;\n",
       "    }\n",
       "\n",
       "    .dataframe thead th {\n",
       "        text-align: right;\n",
       "    }\n",
       "</style>\n",
       "<table border=\"1\" class=\"dataframe\">\n",
       "  <thead>\n",
       "    <tr style=\"text-align: right;\">\n",
       "      <th></th>\n",
       "      <th>artist</th>\n",
       "      <th>title</th>\n",
       "      <th>title_index</th>\n",
       "      <th>release_year</th>\n",
       "      <th>hp</th>\n",
       "      <th>bill_year</th>\n",
       "      <th>bill_ranking</th>\n",
       "      <th>popularity</th>\n",
       "      <th>loudness</th>\n",
       "      <th>tempo</th>\n",
       "      <th>time</th>\n",
       "      <th>modality</th>\n",
       "      <th>danceability</th>\n",
       "      <th>energy</th>\n",
       "      <th>speechiness</th>\n",
       "      <th>instrumentalness</th>\n",
       "      <th>liveness</th>\n",
       "      <th>valence</th>\n",
       "      <th>genre</th>\n",
       "    </tr>\n",
       "  </thead>\n",
       "  <tbody>\n",
       "    <tr>\n",
       "      <th>0</th>\n",
       "      <td>Queen</td>\n",
       "      <td>Bohemian Rhapsody</td>\n",
       "      <td>1</td>\n",
       "      <td>1975</td>\n",
       "      <td>1</td>\n",
       "      <td>1975</td>\n",
       "      <td>1</td>\n",
       "      <td>75</td>\n",
       "      <td>-9.961</td>\n",
       "      <td>143.883</td>\n",
       "      <td>4</td>\n",
       "      <td>0</td>\n",
       "      <td>0.392</td>\n",
       "      <td>0.402</td>\n",
       "      <td>0.0536</td>\n",
       "      <td>0.000000</td>\n",
       "      <td>0.243</td>\n",
       "      <td>0.228</td>\n",
       "      <td>rock</td>\n",
       "    </tr>\n",
       "    <tr>\n",
       "      <th>1</th>\n",
       "      <td>Queen</td>\n",
       "      <td>Bohemian Rhapsody</td>\n",
       "      <td>1</td>\n",
       "      <td>1975</td>\n",
       "      <td>1</td>\n",
       "      <td>1999</td>\n",
       "      <td>1</td>\n",
       "      <td>75</td>\n",
       "      <td>-9.961</td>\n",
       "      <td>143.883</td>\n",
       "      <td>4</td>\n",
       "      <td>0</td>\n",
       "      <td>0.392</td>\n",
       "      <td>0.402</td>\n",
       "      <td>0.0536</td>\n",
       "      <td>0.000000</td>\n",
       "      <td>0.243</td>\n",
       "      <td>0.228</td>\n",
       "      <td>rock</td>\n",
       "    </tr>\n",
       "    <tr>\n",
       "      <th>2</th>\n",
       "      <td>Queen</td>\n",
       "      <td>Bohemian Rhapsody</td>\n",
       "      <td>1</td>\n",
       "      <td>1975</td>\n",
       "      <td>1</td>\n",
       "      <td>2000</td>\n",
       "      <td>1</td>\n",
       "      <td>75</td>\n",
       "      <td>-9.961</td>\n",
       "      <td>143.883</td>\n",
       "      <td>4</td>\n",
       "      <td>0</td>\n",
       "      <td>0.392</td>\n",
       "      <td>0.402</td>\n",
       "      <td>0.0536</td>\n",
       "      <td>0.000000</td>\n",
       "      <td>0.243</td>\n",
       "      <td>0.228</td>\n",
       "      <td>rock</td>\n",
       "    </tr>\n",
       "    <tr>\n",
       "      <th>3</th>\n",
       "      <td>Queen</td>\n",
       "      <td>Bohemian Rhapsody</td>\n",
       "      <td>1</td>\n",
       "      <td>1975</td>\n",
       "      <td>1</td>\n",
       "      <td>2001</td>\n",
       "      <td>1</td>\n",
       "      <td>75</td>\n",
       "      <td>-9.961</td>\n",
       "      <td>143.883</td>\n",
       "      <td>4</td>\n",
       "      <td>0</td>\n",
       "      <td>0.392</td>\n",
       "      <td>0.402</td>\n",
       "      <td>0.0536</td>\n",
       "      <td>0.000000</td>\n",
       "      <td>0.243</td>\n",
       "      <td>0.228</td>\n",
       "      <td>rock</td>\n",
       "    </tr>\n",
       "    <tr>\n",
       "      <th>4</th>\n",
       "      <td>Queen</td>\n",
       "      <td>Bohemian Rhapsody</td>\n",
       "      <td>1</td>\n",
       "      <td>1975</td>\n",
       "      <td>1</td>\n",
       "      <td>2002</td>\n",
       "      <td>1</td>\n",
       "      <td>75</td>\n",
       "      <td>-9.961</td>\n",
       "      <td>143.883</td>\n",
       "      <td>4</td>\n",
       "      <td>0</td>\n",
       "      <td>0.392</td>\n",
       "      <td>0.402</td>\n",
       "      <td>0.0536</td>\n",
       "      <td>0.000000</td>\n",
       "      <td>0.243</td>\n",
       "      <td>0.228</td>\n",
       "      <td>rock</td>\n",
       "    </tr>\n",
       "    <tr>\n",
       "      <th>...</th>\n",
       "      <td>...</td>\n",
       "      <td>...</td>\n",
       "      <td>...</td>\n",
       "      <td>...</td>\n",
       "      <td>...</td>\n",
       "      <td>...</td>\n",
       "      <td>...</td>\n",
       "      <td>...</td>\n",
       "      <td>...</td>\n",
       "      <td>...</td>\n",
       "      <td>...</td>\n",
       "      <td>...</td>\n",
       "      <td>...</td>\n",
       "      <td>...</td>\n",
       "      <td>...</td>\n",
       "      <td>...</td>\n",
       "      <td>...</td>\n",
       "      <td>...</td>\n",
       "      <td>...</td>\n",
       "    </tr>\n",
       "    <tr>\n",
       "      <th>350</th>\n",
       "      <td>Earth, Wind &amp; Fire</td>\n",
       "      <td>September</td>\n",
       "      <td>20</td>\n",
       "      <td>1979</td>\n",
       "      <td>117</td>\n",
       "      <td>2015</td>\n",
       "      <td>243</td>\n",
       "      <td>81</td>\n",
       "      <td>-7.288</td>\n",
       "      <td>125.901</td>\n",
       "      <td>4</td>\n",
       "      <td>1</td>\n",
       "      <td>0.694</td>\n",
       "      <td>0.831</td>\n",
       "      <td>0.0301</td>\n",
       "      <td>0.000892</td>\n",
       "      <td>0.250</td>\n",
       "      <td>0.980</td>\n",
       "      <td>soul</td>\n",
       "    </tr>\n",
       "    <tr>\n",
       "      <th>351</th>\n",
       "      <td>Earth, Wind &amp; Fire</td>\n",
       "      <td>September</td>\n",
       "      <td>20</td>\n",
       "      <td>1979</td>\n",
       "      <td>117</td>\n",
       "      <td>2016</td>\n",
       "      <td>147</td>\n",
       "      <td>81</td>\n",
       "      <td>-7.288</td>\n",
       "      <td>125.901</td>\n",
       "      <td>4</td>\n",
       "      <td>1</td>\n",
       "      <td>0.694</td>\n",
       "      <td>0.831</td>\n",
       "      <td>0.0301</td>\n",
       "      <td>0.000892</td>\n",
       "      <td>0.250</td>\n",
       "      <td>0.980</td>\n",
       "      <td>soul</td>\n",
       "    </tr>\n",
       "    <tr>\n",
       "      <th>352</th>\n",
       "      <td>Earth, Wind &amp; Fire</td>\n",
       "      <td>September</td>\n",
       "      <td>20</td>\n",
       "      <td>1979</td>\n",
       "      <td>117</td>\n",
       "      <td>2017</td>\n",
       "      <td>149</td>\n",
       "      <td>81</td>\n",
       "      <td>-7.288</td>\n",
       "      <td>125.901</td>\n",
       "      <td>4</td>\n",
       "      <td>1</td>\n",
       "      <td>0.694</td>\n",
       "      <td>0.831</td>\n",
       "      <td>0.0301</td>\n",
       "      <td>0.000892</td>\n",
       "      <td>0.250</td>\n",
       "      <td>0.980</td>\n",
       "      <td>soul</td>\n",
       "    </tr>\n",
       "    <tr>\n",
       "      <th>353</th>\n",
       "      <td>Earth, Wind &amp; Fire</td>\n",
       "      <td>September</td>\n",
       "      <td>20</td>\n",
       "      <td>1979</td>\n",
       "      <td>117</td>\n",
       "      <td>2018</td>\n",
       "      <td>117</td>\n",
       "      <td>81</td>\n",
       "      <td>-7.288</td>\n",
       "      <td>125.901</td>\n",
       "      <td>4</td>\n",
       "      <td>1</td>\n",
       "      <td>0.694</td>\n",
       "      <td>0.831</td>\n",
       "      <td>0.0301</td>\n",
       "      <td>0.000892</td>\n",
       "      <td>0.250</td>\n",
       "      <td>0.980</td>\n",
       "      <td>soul</td>\n",
       "    </tr>\n",
       "    <tr>\n",
       "      <th>354</th>\n",
       "      <td>Earth, Wind &amp; Fire</td>\n",
       "      <td>September</td>\n",
       "      <td>20</td>\n",
       "      <td>1979</td>\n",
       "      <td>117</td>\n",
       "      <td>2019</td>\n",
       "      <td>170</td>\n",
       "      <td>81</td>\n",
       "      <td>-7.288</td>\n",
       "      <td>125.901</td>\n",
       "      <td>4</td>\n",
       "      <td>1</td>\n",
       "      <td>0.694</td>\n",
       "      <td>0.831</td>\n",
       "      <td>0.0301</td>\n",
       "      <td>0.000892</td>\n",
       "      <td>0.250</td>\n",
       "      <td>0.980</td>\n",
       "      <td>soul</td>\n",
       "    </tr>\n",
       "  </tbody>\n",
       "</table>\n",
       "<p>355 rows × 19 columns</p>\n",
       "</div>"
      ],
      "text/plain": [
       "                 artist              title  title_index  release_year   hp  \\\n",
       "0                 Queen  Bohemian Rhapsody            1          1975    1   \n",
       "1                 Queen  Bohemian Rhapsody            1          1975    1   \n",
       "2                 Queen  Bohemian Rhapsody            1          1975    1   \n",
       "3                 Queen  Bohemian Rhapsody            1          1975    1   \n",
       "4                 Queen  Bohemian Rhapsody            1          1975    1   \n",
       "..                  ...                ...          ...           ...  ...   \n",
       "350  Earth, Wind & Fire          September           20          1979  117   \n",
       "351  Earth, Wind & Fire          September           20          1979  117   \n",
       "352  Earth, Wind & Fire          September           20          1979  117   \n",
       "353  Earth, Wind & Fire          September           20          1979  117   \n",
       "354  Earth, Wind & Fire          September           20          1979  117   \n",
       "\n",
       "     bill_year  bill_ranking  popularity  loudness    tempo  time  modality  \\\n",
       "0         1975             1          75    -9.961  143.883     4         0   \n",
       "1         1999             1          75    -9.961  143.883     4         0   \n",
       "2         2000             1          75    -9.961  143.883     4         0   \n",
       "3         2001             1          75    -9.961  143.883     4         0   \n",
       "4         2002             1          75    -9.961  143.883     4         0   \n",
       "..         ...           ...         ...       ...      ...   ...       ...   \n",
       "350       2015           243          81    -7.288  125.901     4         1   \n",
       "351       2016           147          81    -7.288  125.901     4         1   \n",
       "352       2017           149          81    -7.288  125.901     4         1   \n",
       "353       2018           117          81    -7.288  125.901     4         1   \n",
       "354       2019           170          81    -7.288  125.901     4         1   \n",
       "\n",
       "     danceability  energy  speechiness  instrumentalness  liveness  valence  \\\n",
       "0           0.392   0.402       0.0536          0.000000     0.243    0.228   \n",
       "1           0.392   0.402       0.0536          0.000000     0.243    0.228   \n",
       "2           0.392   0.402       0.0536          0.000000     0.243    0.228   \n",
       "3           0.392   0.402       0.0536          0.000000     0.243    0.228   \n",
       "4           0.392   0.402       0.0536          0.000000     0.243    0.228   \n",
       "..            ...     ...          ...               ...       ...      ...   \n",
       "350         0.694   0.831       0.0301          0.000892     0.250    0.980   \n",
       "351         0.694   0.831       0.0301          0.000892     0.250    0.980   \n",
       "352         0.694   0.831       0.0301          0.000892     0.250    0.980   \n",
       "353         0.694   0.831       0.0301          0.000892     0.250    0.980   \n",
       "354         0.694   0.831       0.0301          0.000892     0.250    0.980   \n",
       "\n",
       "    genre  \n",
       "0    rock  \n",
       "1    rock  \n",
       "2    rock  \n",
       "3    rock  \n",
       "4    rock  \n",
       "..    ...  \n",
       "350  soul  \n",
       "351  soul  \n",
       "352  soul  \n",
       "353  soul  \n",
       "354  soul  \n",
       "\n",
       "[355 rows x 19 columns]"
      ]
     },
     "execution_count": 142,
     "metadata": {},
     "output_type": "execute_result"
    }
   ],
   "source": [
    "#load data\n",
    "sample_set = pd.read_csv(\"Data/genre_analysis_set.csv\")\n",
    "sample_set_two = pd.read_csv(\"Data/myset_time_sample.csv\")\n",
    "sample_set"
   ]
  },
  {
   "cell_type": "markdown",
   "metadata": {},
   "source": [
    "### Working version (dropdown issue)"
   ]
  },
  {
   "cell_type": "code",
   "execution_count": 162,
   "metadata": {},
   "outputs": [
    {
     "data": {
      "application/vnd.plotly.v1+json": {
       "config": {
        "plotlyServerURL": "https://plot.ly"
       },
       "data": [
        {
         "line": {
          "color": "#316fd4"
         },
         "mode": "lines+markers",
         "name": "Rock",
         "text": "Avond",
         "type": "scatter",
         "visible": true,
         "x": [
          1997,
          1999,
          2000,
          2001,
          2002,
          2003,
          2004,
          2005,
          2006,
          2007,
          2008,
          2009,
          2010,
          2011,
          2012,
          2013,
          2014,
          2015,
          2016,
          2017,
          2018,
          2019
         ],
         "y": [
          1,
          428,
          121,
          41,
          25,
          8,
          5,
          1,
          2,
          2,
          3,
          3,
          3,
          4,
          5,
          5,
          5,
          7,
          6,
          9,
          10,
          6
         ]
        },
        {
         "line": {
          "color": "#316fd4"
         },
         "mode": "lines+markers",
         "name": "Rock",
         "text": "Bohemian Rhapsody",
         "type": "scatter",
         "visible": true,
         "x": [
          1975,
          1999,
          2000,
          2001,
          2002,
          2003,
          2004,
          2005,
          2006,
          2007,
          2008,
          2009,
          2010,
          2011,
          2012,
          2013,
          2014,
          2015,
          2016,
          2017,
          2018,
          2019
         ],
         "y": [
          1,
          1,
          1,
          1,
          1,
          1,
          1,
          2,
          1,
          1,
          1,
          1,
          2,
          1,
          1,
          1,
          2,
          2,
          1,
          1,
          1,
          1
         ]
        },
        {
         "line": {
          "color": "#316fd4"
         },
         "mode": "lines+markers",
         "name": "Rock",
         "text": "Hotel California",
         "type": "scatter",
         "visible": true,
         "x": [
          1977,
          1999,
          2000,
          2001,
          2002,
          2003,
          2004,
          2005,
          2006,
          2007,
          2008,
          2009,
          2010,
          2011,
          2012,
          2013,
          2014,
          2015,
          2016,
          2017,
          2018,
          2019
         ],
         "y": [
          1,
          2,
          4,
          3,
          3,
          2,
          2,
          3,
          3,
          3,
          2,
          2,
          1,
          2,
          2,
          2,
          1,
          3,
          2,
          2,
          2,
          2
         ]
        },
        {
         "line": {
          "color": "#316fd4"
         },
         "mode": "lines+markers",
         "name": "Rock",
         "text": "Imagine",
         "type": "scatter",
         "visible": true,
         "x": [
          1971,
          1999,
          2000,
          2001,
          2002,
          2003,
          2004,
          2005,
          2006,
          2007,
          2008,
          2009,
          2010,
          2011,
          2012,
          2013,
          2014,
          2015,
          2016,
          2017,
          2018,
          2019
         ],
         "y": [
          1,
          7,
          7,
          11,
          11,
          13,
          9,
          15,
          15,
          41,
          15,
          41,
          26,
          28,
          22,
          23,
          38,
          1,
          12,
          16,
          16,
          29
         ]
        }
       ],
       "layout": {
        "hoverlabel": {
         "bgcolor": "white",
         "font": {
          "family": "Rockwell",
          "size": 16
         }
        },
        "legend": {
         "tracegroupgap": 0
        },
        "margin": {
         "t": 60
        },
        "template": {
         "data": {
          "bar": [
           {
            "error_x": {
             "color": "#2a3f5f"
            },
            "error_y": {
             "color": "#2a3f5f"
            },
            "marker": {
             "line": {
              "color": "#E5ECF6",
              "width": 0.5
             }
            },
            "type": "bar"
           }
          ],
          "barpolar": [
           {
            "marker": {
             "line": {
              "color": "#E5ECF6",
              "width": 0.5
             }
            },
            "type": "barpolar"
           }
          ],
          "carpet": [
           {
            "aaxis": {
             "endlinecolor": "#2a3f5f",
             "gridcolor": "white",
             "linecolor": "white",
             "minorgridcolor": "white",
             "startlinecolor": "#2a3f5f"
            },
            "baxis": {
             "endlinecolor": "#2a3f5f",
             "gridcolor": "white",
             "linecolor": "white",
             "minorgridcolor": "white",
             "startlinecolor": "#2a3f5f"
            },
            "type": "carpet"
           }
          ],
          "choropleth": [
           {
            "colorbar": {
             "outlinewidth": 0,
             "ticks": ""
            },
            "type": "choropleth"
           }
          ],
          "contour": [
           {
            "colorbar": {
             "outlinewidth": 0,
             "ticks": ""
            },
            "colorscale": [
             [
              0,
              "#0d0887"
             ],
             [
              0.1111111111111111,
              "#46039f"
             ],
             [
              0.2222222222222222,
              "#7201a8"
             ],
             [
              0.3333333333333333,
              "#9c179e"
             ],
             [
              0.4444444444444444,
              "#bd3786"
             ],
             [
              0.5555555555555556,
              "#d8576b"
             ],
             [
              0.6666666666666666,
              "#ed7953"
             ],
             [
              0.7777777777777778,
              "#fb9f3a"
             ],
             [
              0.8888888888888888,
              "#fdca26"
             ],
             [
              1,
              "#f0f921"
             ]
            ],
            "type": "contour"
           }
          ],
          "contourcarpet": [
           {
            "colorbar": {
             "outlinewidth": 0,
             "ticks": ""
            },
            "type": "contourcarpet"
           }
          ],
          "heatmap": [
           {
            "colorbar": {
             "outlinewidth": 0,
             "ticks": ""
            },
            "colorscale": [
             [
              0,
              "#0d0887"
             ],
             [
              0.1111111111111111,
              "#46039f"
             ],
             [
              0.2222222222222222,
              "#7201a8"
             ],
             [
              0.3333333333333333,
              "#9c179e"
             ],
             [
              0.4444444444444444,
              "#bd3786"
             ],
             [
              0.5555555555555556,
              "#d8576b"
             ],
             [
              0.6666666666666666,
              "#ed7953"
             ],
             [
              0.7777777777777778,
              "#fb9f3a"
             ],
             [
              0.8888888888888888,
              "#fdca26"
             ],
             [
              1,
              "#f0f921"
             ]
            ],
            "type": "heatmap"
           }
          ],
          "heatmapgl": [
           {
            "colorbar": {
             "outlinewidth": 0,
             "ticks": ""
            },
            "colorscale": [
             [
              0,
              "#0d0887"
             ],
             [
              0.1111111111111111,
              "#46039f"
             ],
             [
              0.2222222222222222,
              "#7201a8"
             ],
             [
              0.3333333333333333,
              "#9c179e"
             ],
             [
              0.4444444444444444,
              "#bd3786"
             ],
             [
              0.5555555555555556,
              "#d8576b"
             ],
             [
              0.6666666666666666,
              "#ed7953"
             ],
             [
              0.7777777777777778,
              "#fb9f3a"
             ],
             [
              0.8888888888888888,
              "#fdca26"
             ],
             [
              1,
              "#f0f921"
             ]
            ],
            "type": "heatmapgl"
           }
          ],
          "histogram": [
           {
            "marker": {
             "colorbar": {
              "outlinewidth": 0,
              "ticks": ""
             }
            },
            "type": "histogram"
           }
          ],
          "histogram2d": [
           {
            "colorbar": {
             "outlinewidth": 0,
             "ticks": ""
            },
            "colorscale": [
             [
              0,
              "#0d0887"
             ],
             [
              0.1111111111111111,
              "#46039f"
             ],
             [
              0.2222222222222222,
              "#7201a8"
             ],
             [
              0.3333333333333333,
              "#9c179e"
             ],
             [
              0.4444444444444444,
              "#bd3786"
             ],
             [
              0.5555555555555556,
              "#d8576b"
             ],
             [
              0.6666666666666666,
              "#ed7953"
             ],
             [
              0.7777777777777778,
              "#fb9f3a"
             ],
             [
              0.8888888888888888,
              "#fdca26"
             ],
             [
              1,
              "#f0f921"
             ]
            ],
            "type": "histogram2d"
           }
          ],
          "histogram2dcontour": [
           {
            "colorbar": {
             "outlinewidth": 0,
             "ticks": ""
            },
            "colorscale": [
             [
              0,
              "#0d0887"
             ],
             [
              0.1111111111111111,
              "#46039f"
             ],
             [
              0.2222222222222222,
              "#7201a8"
             ],
             [
              0.3333333333333333,
              "#9c179e"
             ],
             [
              0.4444444444444444,
              "#bd3786"
             ],
             [
              0.5555555555555556,
              "#d8576b"
             ],
             [
              0.6666666666666666,
              "#ed7953"
             ],
             [
              0.7777777777777778,
              "#fb9f3a"
             ],
             [
              0.8888888888888888,
              "#fdca26"
             ],
             [
              1,
              "#f0f921"
             ]
            ],
            "type": "histogram2dcontour"
           }
          ],
          "mesh3d": [
           {
            "colorbar": {
             "outlinewidth": 0,
             "ticks": ""
            },
            "type": "mesh3d"
           }
          ],
          "parcoords": [
           {
            "line": {
             "colorbar": {
              "outlinewidth": 0,
              "ticks": ""
             }
            },
            "type": "parcoords"
           }
          ],
          "pie": [
           {
            "automargin": true,
            "type": "pie"
           }
          ],
          "scatter": [
           {
            "marker": {
             "colorbar": {
              "outlinewidth": 0,
              "ticks": ""
             }
            },
            "type": "scatter"
           }
          ],
          "scatter3d": [
           {
            "line": {
             "colorbar": {
              "outlinewidth": 0,
              "ticks": ""
             }
            },
            "marker": {
             "colorbar": {
              "outlinewidth": 0,
              "ticks": ""
             }
            },
            "type": "scatter3d"
           }
          ],
          "scattercarpet": [
           {
            "marker": {
             "colorbar": {
              "outlinewidth": 0,
              "ticks": ""
             }
            },
            "type": "scattercarpet"
           }
          ],
          "scattergeo": [
           {
            "marker": {
             "colorbar": {
              "outlinewidth": 0,
              "ticks": ""
             }
            },
            "type": "scattergeo"
           }
          ],
          "scattergl": [
           {
            "marker": {
             "colorbar": {
              "outlinewidth": 0,
              "ticks": ""
             }
            },
            "type": "scattergl"
           }
          ],
          "scattermapbox": [
           {
            "marker": {
             "colorbar": {
              "outlinewidth": 0,
              "ticks": ""
             }
            },
            "type": "scattermapbox"
           }
          ],
          "scatterpolar": [
           {
            "marker": {
             "colorbar": {
              "outlinewidth": 0,
              "ticks": ""
             }
            },
            "type": "scatterpolar"
           }
          ],
          "scatterpolargl": [
           {
            "marker": {
             "colorbar": {
              "outlinewidth": 0,
              "ticks": ""
             }
            },
            "type": "scatterpolargl"
           }
          ],
          "scatterternary": [
           {
            "marker": {
             "colorbar": {
              "outlinewidth": 0,
              "ticks": ""
             }
            },
            "type": "scatterternary"
           }
          ],
          "surface": [
           {
            "colorbar": {
             "outlinewidth": 0,
             "ticks": ""
            },
            "colorscale": [
             [
              0,
              "#0d0887"
             ],
             [
              0.1111111111111111,
              "#46039f"
             ],
             [
              0.2222222222222222,
              "#7201a8"
             ],
             [
              0.3333333333333333,
              "#9c179e"
             ],
             [
              0.4444444444444444,
              "#bd3786"
             ],
             [
              0.5555555555555556,
              "#d8576b"
             ],
             [
              0.6666666666666666,
              "#ed7953"
             ],
             [
              0.7777777777777778,
              "#fb9f3a"
             ],
             [
              0.8888888888888888,
              "#fdca26"
             ],
             [
              1,
              "#f0f921"
             ]
            ],
            "type": "surface"
           }
          ],
          "table": [
           {
            "cells": {
             "fill": {
              "color": "#EBF0F8"
             },
             "line": {
              "color": "white"
             }
            },
            "header": {
             "fill": {
              "color": "#C8D4E3"
             },
             "line": {
              "color": "white"
             }
            },
            "type": "table"
           }
          ]
         },
         "layout": {
          "annotationdefaults": {
           "arrowcolor": "#2a3f5f",
           "arrowhead": 0,
           "arrowwidth": 1
          },
          "coloraxis": {
           "colorbar": {
            "outlinewidth": 0,
            "ticks": ""
           }
          },
          "colorscale": {
           "diverging": [
            [
             0,
             "#8e0152"
            ],
            [
             0.1,
             "#c51b7d"
            ],
            [
             0.2,
             "#de77ae"
            ],
            [
             0.3,
             "#f1b6da"
            ],
            [
             0.4,
             "#fde0ef"
            ],
            [
             0.5,
             "#f7f7f7"
            ],
            [
             0.6,
             "#e6f5d0"
            ],
            [
             0.7,
             "#b8e186"
            ],
            [
             0.8,
             "#7fbc41"
            ],
            [
             0.9,
             "#4d9221"
            ],
            [
             1,
             "#276419"
            ]
           ],
           "sequential": [
            [
             0,
             "#0d0887"
            ],
            [
             0.1111111111111111,
             "#46039f"
            ],
            [
             0.2222222222222222,
             "#7201a8"
            ],
            [
             0.3333333333333333,
             "#9c179e"
            ],
            [
             0.4444444444444444,
             "#bd3786"
            ],
            [
             0.5555555555555556,
             "#d8576b"
            ],
            [
             0.6666666666666666,
             "#ed7953"
            ],
            [
             0.7777777777777778,
             "#fb9f3a"
            ],
            [
             0.8888888888888888,
             "#fdca26"
            ],
            [
             1,
             "#f0f921"
            ]
           ],
           "sequentialminus": [
            [
             0,
             "#0d0887"
            ],
            [
             0.1111111111111111,
             "#46039f"
            ],
            [
             0.2222222222222222,
             "#7201a8"
            ],
            [
             0.3333333333333333,
             "#9c179e"
            ],
            [
             0.4444444444444444,
             "#bd3786"
            ],
            [
             0.5555555555555556,
             "#d8576b"
            ],
            [
             0.6666666666666666,
             "#ed7953"
            ],
            [
             0.7777777777777778,
             "#fb9f3a"
            ],
            [
             0.8888888888888888,
             "#fdca26"
            ],
            [
             1,
             "#f0f921"
            ]
           ]
          },
          "colorway": [
           "#636efa",
           "#EF553B",
           "#00cc96",
           "#ab63fa",
           "#FFA15A",
           "#19d3f3",
           "#FF6692",
           "#B6E880",
           "#FF97FF",
           "#FECB52"
          ],
          "font": {
           "color": "#2a3f5f"
          },
          "geo": {
           "bgcolor": "white",
           "lakecolor": "white",
           "landcolor": "#E5ECF6",
           "showlakes": true,
           "showland": true,
           "subunitcolor": "white"
          },
          "hoverlabel": {
           "align": "left"
          },
          "hovermode": "closest",
          "mapbox": {
           "style": "light"
          },
          "paper_bgcolor": "white",
          "plot_bgcolor": "#E5ECF6",
          "polar": {
           "angularaxis": {
            "gridcolor": "white",
            "linecolor": "white",
            "ticks": ""
           },
           "bgcolor": "#E5ECF6",
           "radialaxis": {
            "gridcolor": "white",
            "linecolor": "white",
            "ticks": ""
           }
          },
          "scene": {
           "xaxis": {
            "backgroundcolor": "#E5ECF6",
            "gridcolor": "white",
            "gridwidth": 2,
            "linecolor": "white",
            "showbackground": true,
            "ticks": "",
            "zerolinecolor": "white"
           },
           "yaxis": {
            "backgroundcolor": "#E5ECF6",
            "gridcolor": "white",
            "gridwidth": 2,
            "linecolor": "white",
            "showbackground": true,
            "ticks": "",
            "zerolinecolor": "white"
           },
           "zaxis": {
            "backgroundcolor": "#E5ECF6",
            "gridcolor": "white",
            "gridwidth": 2,
            "linecolor": "white",
            "showbackground": true,
            "ticks": "",
            "zerolinecolor": "white"
           }
          },
          "shapedefaults": {
           "line": {
            "color": "#2a3f5f"
           }
          },
          "ternary": {
           "aaxis": {
            "gridcolor": "white",
            "linecolor": "white",
            "ticks": ""
           },
           "baxis": {
            "gridcolor": "white",
            "linecolor": "white",
            "ticks": ""
           },
           "bgcolor": "#E5ECF6",
           "caxis": {
            "gridcolor": "white",
            "linecolor": "white",
            "ticks": ""
           }
          },
          "title": {
           "x": 0.05
          },
          "xaxis": {
           "automargin": true,
           "gridcolor": "white",
           "linecolor": "white",
           "ticks": "",
           "title": {
            "standoff": 15
           },
           "zerolinecolor": "white",
           "zerolinewidth": 2
          },
          "yaxis": {
           "automargin": true,
           "gridcolor": "white",
           "linecolor": "white",
           "ticks": "",
           "title": {
            "standoff": 15
           },
           "zerolinecolor": "white",
           "zerolinewidth": 2
          }
         }
        },
        "xaxis": {
         "anchor": "y",
         "domain": [
          0,
          1
         ],
         "range": [
          1999,
          2020
         ]
        },
        "yaxis": {
         "anchor": "x",
         "autorange": "reversed",
         "domain": [
          0,
          1
         ]
        }
       }
      },
      "text/html": [
       "<div>\n",
       "        \n",
       "        \n",
       "            <div id=\"15c77137-b75b-40e4-bf8a-973d839ed36b\" class=\"plotly-graph-div\" style=\"height:525px; width:100%;\"></div>\n",
       "            <script type=\"text/javascript\">\n",
       "                require([\"plotly\"], function(Plotly) {\n",
       "                    window.PLOTLYENV=window.PLOTLYENV || {};\n",
       "                    \n",
       "                if (document.getElementById(\"15c77137-b75b-40e4-bf8a-973d839ed36b\")) {\n",
       "                    Plotly.newPlot(\n",
       "                        '15c77137-b75b-40e4-bf8a-973d839ed36b',\n",
       "                        [{\"line\": {\"color\": \"#316fd4\"}, \"mode\": \"lines+markers\", \"name\": \"Rock\", \"text\": \"Avond\", \"type\": \"scatter\", \"visible\": true, \"x\": [1997, 1999, 2000, 2001, 2002, 2003, 2004, 2005, 2006, 2007, 2008, 2009, 2010, 2011, 2012, 2013, 2014, 2015, 2016, 2017, 2018, 2019], \"y\": [1, 428, 121, 41, 25, 8, 5, 1, 2, 2, 3, 3, 3, 4, 5, 5, 5, 7, 6, 9, 10, 6]}, {\"line\": {\"color\": \"#316fd4\"}, \"mode\": \"lines+markers\", \"name\": \"Rock\", \"text\": \"Bohemian Rhapsody\", \"type\": \"scatter\", \"visible\": true, \"x\": [1975, 1999, 2000, 2001, 2002, 2003, 2004, 2005, 2006, 2007, 2008, 2009, 2010, 2011, 2012, 2013, 2014, 2015, 2016, 2017, 2018, 2019], \"y\": [1, 1, 1, 1, 1, 1, 1, 2, 1, 1, 1, 1, 2, 1, 1, 1, 2, 2, 1, 1, 1, 1]}, {\"line\": {\"color\": \"#316fd4\"}, \"mode\": \"lines+markers\", \"name\": \"Rock\", \"text\": \"Hotel California\", \"type\": \"scatter\", \"visible\": true, \"x\": [1977, 1999, 2000, 2001, 2002, 2003, 2004, 2005, 2006, 2007, 2008, 2009, 2010, 2011, 2012, 2013, 2014, 2015, 2016, 2017, 2018, 2019], \"y\": [1, 2, 4, 3, 3, 2, 2, 3, 3, 3, 2, 2, 1, 2, 2, 2, 1, 3, 2, 2, 2, 2]}, {\"line\": {\"color\": \"#316fd4\"}, \"mode\": \"lines+markers\", \"name\": \"Rock\", \"text\": \"Imagine\", \"type\": \"scatter\", \"visible\": true, \"x\": [1971, 1999, 2000, 2001, 2002, 2003, 2004, 2005, 2006, 2007, 2008, 2009, 2010, 2011, 2012, 2013, 2014, 2015, 2016, 2017, 2018, 2019], \"y\": [1, 7, 7, 11, 11, 13, 9, 15, 15, 41, 15, 41, 26, 28, 22, 23, 38, 1, 12, 16, 16, 29]}],\n",
       "                        {\"hoverlabel\": {\"bgcolor\": \"white\", \"font\": {\"family\": \"Rockwell\", \"size\": 16}}, \"legend\": {\"tracegroupgap\": 0}, \"margin\": {\"t\": 60}, \"template\": {\"data\": {\"bar\": [{\"error_x\": {\"color\": \"#2a3f5f\"}, \"error_y\": {\"color\": \"#2a3f5f\"}, \"marker\": {\"line\": {\"color\": \"#E5ECF6\", \"width\": 0.5}}, \"type\": \"bar\"}], \"barpolar\": [{\"marker\": {\"line\": {\"color\": \"#E5ECF6\", \"width\": 0.5}}, \"type\": \"barpolar\"}], \"carpet\": [{\"aaxis\": {\"endlinecolor\": \"#2a3f5f\", \"gridcolor\": \"white\", \"linecolor\": \"white\", \"minorgridcolor\": \"white\", \"startlinecolor\": \"#2a3f5f\"}, \"baxis\": {\"endlinecolor\": \"#2a3f5f\", \"gridcolor\": \"white\", \"linecolor\": \"white\", \"minorgridcolor\": \"white\", \"startlinecolor\": \"#2a3f5f\"}, \"type\": \"carpet\"}], \"choropleth\": [{\"colorbar\": {\"outlinewidth\": 0, \"ticks\": \"\"}, \"type\": \"choropleth\"}], \"contour\": [{\"colorbar\": {\"outlinewidth\": 0, \"ticks\": \"\"}, \"colorscale\": [[0.0, \"#0d0887\"], [0.1111111111111111, \"#46039f\"], [0.2222222222222222, \"#7201a8\"], [0.3333333333333333, \"#9c179e\"], [0.4444444444444444, \"#bd3786\"], [0.5555555555555556, \"#d8576b\"], [0.6666666666666666, \"#ed7953\"], [0.7777777777777778, \"#fb9f3a\"], [0.8888888888888888, \"#fdca26\"], [1.0, \"#f0f921\"]], \"type\": \"contour\"}], \"contourcarpet\": [{\"colorbar\": {\"outlinewidth\": 0, \"ticks\": \"\"}, \"type\": \"contourcarpet\"}], \"heatmap\": [{\"colorbar\": {\"outlinewidth\": 0, \"ticks\": \"\"}, \"colorscale\": [[0.0, \"#0d0887\"], [0.1111111111111111, \"#46039f\"], [0.2222222222222222, \"#7201a8\"], [0.3333333333333333, \"#9c179e\"], [0.4444444444444444, \"#bd3786\"], [0.5555555555555556, \"#d8576b\"], [0.6666666666666666, \"#ed7953\"], [0.7777777777777778, \"#fb9f3a\"], [0.8888888888888888, \"#fdca26\"], [1.0, \"#f0f921\"]], \"type\": \"heatmap\"}], \"heatmapgl\": [{\"colorbar\": {\"outlinewidth\": 0, \"ticks\": \"\"}, \"colorscale\": [[0.0, \"#0d0887\"], [0.1111111111111111, \"#46039f\"], [0.2222222222222222, \"#7201a8\"], [0.3333333333333333, \"#9c179e\"], [0.4444444444444444, \"#bd3786\"], [0.5555555555555556, \"#d8576b\"], [0.6666666666666666, \"#ed7953\"], [0.7777777777777778, \"#fb9f3a\"], [0.8888888888888888, \"#fdca26\"], [1.0, \"#f0f921\"]], \"type\": \"heatmapgl\"}], \"histogram\": [{\"marker\": {\"colorbar\": {\"outlinewidth\": 0, \"ticks\": \"\"}}, \"type\": \"histogram\"}], \"histogram2d\": [{\"colorbar\": {\"outlinewidth\": 0, \"ticks\": \"\"}, \"colorscale\": [[0.0, \"#0d0887\"], [0.1111111111111111, \"#46039f\"], [0.2222222222222222, \"#7201a8\"], [0.3333333333333333, \"#9c179e\"], [0.4444444444444444, \"#bd3786\"], [0.5555555555555556, \"#d8576b\"], [0.6666666666666666, \"#ed7953\"], [0.7777777777777778, \"#fb9f3a\"], [0.8888888888888888, \"#fdca26\"], [1.0, \"#f0f921\"]], \"type\": \"histogram2d\"}], \"histogram2dcontour\": [{\"colorbar\": {\"outlinewidth\": 0, \"ticks\": \"\"}, \"colorscale\": [[0.0, \"#0d0887\"], [0.1111111111111111, \"#46039f\"], [0.2222222222222222, \"#7201a8\"], [0.3333333333333333, \"#9c179e\"], [0.4444444444444444, \"#bd3786\"], [0.5555555555555556, \"#d8576b\"], [0.6666666666666666, \"#ed7953\"], [0.7777777777777778, \"#fb9f3a\"], [0.8888888888888888, \"#fdca26\"], [1.0, \"#f0f921\"]], \"type\": \"histogram2dcontour\"}], \"mesh3d\": [{\"colorbar\": {\"outlinewidth\": 0, \"ticks\": \"\"}, \"type\": \"mesh3d\"}], \"parcoords\": [{\"line\": {\"colorbar\": {\"outlinewidth\": 0, \"ticks\": \"\"}}, \"type\": \"parcoords\"}], \"pie\": [{\"automargin\": true, \"type\": \"pie\"}], \"scatter\": [{\"marker\": {\"colorbar\": {\"outlinewidth\": 0, \"ticks\": \"\"}}, \"type\": \"scatter\"}], \"scatter3d\": [{\"line\": {\"colorbar\": {\"outlinewidth\": 0, \"ticks\": \"\"}}, \"marker\": {\"colorbar\": {\"outlinewidth\": 0, \"ticks\": \"\"}}, \"type\": \"scatter3d\"}], \"scattercarpet\": [{\"marker\": {\"colorbar\": {\"outlinewidth\": 0, \"ticks\": \"\"}}, \"type\": \"scattercarpet\"}], \"scattergeo\": [{\"marker\": {\"colorbar\": {\"outlinewidth\": 0, \"ticks\": \"\"}}, \"type\": \"scattergeo\"}], \"scattergl\": [{\"marker\": {\"colorbar\": {\"outlinewidth\": 0, \"ticks\": \"\"}}, \"type\": \"scattergl\"}], \"scattermapbox\": [{\"marker\": {\"colorbar\": {\"outlinewidth\": 0, \"ticks\": \"\"}}, \"type\": \"scattermapbox\"}], \"scatterpolar\": [{\"marker\": {\"colorbar\": {\"outlinewidth\": 0, \"ticks\": \"\"}}, \"type\": \"scatterpolar\"}], \"scatterpolargl\": [{\"marker\": {\"colorbar\": {\"outlinewidth\": 0, \"ticks\": \"\"}}, \"type\": \"scatterpolargl\"}], \"scatterternary\": [{\"marker\": {\"colorbar\": {\"outlinewidth\": 0, \"ticks\": \"\"}}, \"type\": \"scatterternary\"}], \"surface\": [{\"colorbar\": {\"outlinewidth\": 0, \"ticks\": \"\"}, \"colorscale\": [[0.0, \"#0d0887\"], [0.1111111111111111, \"#46039f\"], [0.2222222222222222, \"#7201a8\"], [0.3333333333333333, \"#9c179e\"], [0.4444444444444444, \"#bd3786\"], [0.5555555555555556, \"#d8576b\"], [0.6666666666666666, \"#ed7953\"], [0.7777777777777778, \"#fb9f3a\"], [0.8888888888888888, \"#fdca26\"], [1.0, \"#f0f921\"]], \"type\": \"surface\"}], \"table\": [{\"cells\": {\"fill\": {\"color\": \"#EBF0F8\"}, \"line\": {\"color\": \"white\"}}, \"header\": {\"fill\": {\"color\": \"#C8D4E3\"}, \"line\": {\"color\": \"white\"}}, \"type\": \"table\"}]}, \"layout\": {\"annotationdefaults\": {\"arrowcolor\": \"#2a3f5f\", \"arrowhead\": 0, \"arrowwidth\": 1}, \"coloraxis\": {\"colorbar\": {\"outlinewidth\": 0, \"ticks\": \"\"}}, \"colorscale\": {\"diverging\": [[0, \"#8e0152\"], [0.1, \"#c51b7d\"], [0.2, \"#de77ae\"], [0.3, \"#f1b6da\"], [0.4, \"#fde0ef\"], [0.5, \"#f7f7f7\"], [0.6, \"#e6f5d0\"], [0.7, \"#b8e186\"], [0.8, \"#7fbc41\"], [0.9, \"#4d9221\"], [1, \"#276419\"]], \"sequential\": [[0.0, \"#0d0887\"], [0.1111111111111111, \"#46039f\"], [0.2222222222222222, \"#7201a8\"], [0.3333333333333333, \"#9c179e\"], [0.4444444444444444, \"#bd3786\"], [0.5555555555555556, \"#d8576b\"], [0.6666666666666666, \"#ed7953\"], [0.7777777777777778, \"#fb9f3a\"], [0.8888888888888888, \"#fdca26\"], [1.0, \"#f0f921\"]], \"sequentialminus\": [[0.0, \"#0d0887\"], [0.1111111111111111, \"#46039f\"], [0.2222222222222222, \"#7201a8\"], [0.3333333333333333, \"#9c179e\"], [0.4444444444444444, \"#bd3786\"], [0.5555555555555556, \"#d8576b\"], [0.6666666666666666, \"#ed7953\"], [0.7777777777777778, \"#fb9f3a\"], [0.8888888888888888, \"#fdca26\"], [1.0, \"#f0f921\"]]}, \"colorway\": [\"#636efa\", \"#EF553B\", \"#00cc96\", \"#ab63fa\", \"#FFA15A\", \"#19d3f3\", \"#FF6692\", \"#B6E880\", \"#FF97FF\", \"#FECB52\"], \"font\": {\"color\": \"#2a3f5f\"}, \"geo\": {\"bgcolor\": \"white\", \"lakecolor\": \"white\", \"landcolor\": \"#E5ECF6\", \"showlakes\": true, \"showland\": true, \"subunitcolor\": \"white\"}, \"hoverlabel\": {\"align\": \"left\"}, \"hovermode\": \"closest\", \"mapbox\": {\"style\": \"light\"}, \"paper_bgcolor\": \"white\", \"plot_bgcolor\": \"#E5ECF6\", \"polar\": {\"angularaxis\": {\"gridcolor\": \"white\", \"linecolor\": \"white\", \"ticks\": \"\"}, \"bgcolor\": \"#E5ECF6\", \"radialaxis\": {\"gridcolor\": \"white\", \"linecolor\": \"white\", \"ticks\": \"\"}}, \"scene\": {\"xaxis\": {\"backgroundcolor\": \"#E5ECF6\", \"gridcolor\": \"white\", \"gridwidth\": 2, \"linecolor\": \"white\", \"showbackground\": true, \"ticks\": \"\", \"zerolinecolor\": \"white\"}, \"yaxis\": {\"backgroundcolor\": \"#E5ECF6\", \"gridcolor\": \"white\", \"gridwidth\": 2, \"linecolor\": \"white\", \"showbackground\": true, \"ticks\": \"\", \"zerolinecolor\": \"white\"}, \"zaxis\": {\"backgroundcolor\": \"#E5ECF6\", \"gridcolor\": \"white\", \"gridwidth\": 2, \"linecolor\": \"white\", \"showbackground\": true, \"ticks\": \"\", \"zerolinecolor\": \"white\"}}, \"shapedefaults\": {\"line\": {\"color\": \"#2a3f5f\"}}, \"ternary\": {\"aaxis\": {\"gridcolor\": \"white\", \"linecolor\": \"white\", \"ticks\": \"\"}, \"baxis\": {\"gridcolor\": \"white\", \"linecolor\": \"white\", \"ticks\": \"\"}, \"bgcolor\": \"#E5ECF6\", \"caxis\": {\"gridcolor\": \"white\", \"linecolor\": \"white\", \"ticks\": \"\"}}, \"title\": {\"x\": 0.05}, \"xaxis\": {\"automargin\": true, \"gridcolor\": \"white\", \"linecolor\": \"white\", \"ticks\": \"\", \"title\": {\"standoff\": 15}, \"zerolinecolor\": \"white\", \"zerolinewidth\": 2}, \"yaxis\": {\"automargin\": true, \"gridcolor\": \"white\", \"linecolor\": \"white\", \"ticks\": \"\", \"title\": {\"standoff\": 15}, \"zerolinecolor\": \"white\", \"zerolinewidth\": 2}}}, \"xaxis\": {\"anchor\": \"y\", \"domain\": [0.0, 1.0], \"range\": [1999, 2020]}, \"yaxis\": {\"anchor\": \"x\", \"autorange\": \"reversed\", \"domain\": [0.0, 1.0]}},\n",
       "                        {\"responsive\": true}\n",
       "                    ).then(function(){\n",
       "                            \n",
       "var gd = document.getElementById('15c77137-b75b-40e4-bf8a-973d839ed36b');\n",
       "var x = new MutationObserver(function (mutations, observer) {{\n",
       "        var display = window.getComputedStyle(gd).display;\n",
       "        if (!display || display === 'none') {{\n",
       "            console.log([gd, 'removed!']);\n",
       "            Plotly.purge(gd);\n",
       "            observer.disconnect();\n",
       "        }}\n",
       "}});\n",
       "\n",
       "// Listen for the removal of the full notebook cells\n",
       "var notebookContainer = gd.closest('#notebook-container');\n",
       "if (notebookContainer) {{\n",
       "    x.observe(notebookContainer, {childList: true});\n",
       "}}\n",
       "\n",
       "// Listen for the clearing of the current output cell\n",
       "var outputEl = gd.closest('.output');\n",
       "if (outputEl) {{\n",
       "    x.observe(outputEl, {childList: true});\n",
       "}}\n",
       "\n",
       "                        })\n",
       "                };\n",
       "                });\n",
       "            </script>\n",
       "        </div>"
      ]
     },
     "metadata": {},
     "output_type": "display_data"
    }
   ],
   "source": [
    "\n",
    "figgg = px.line()\n",
    "# Add Traces to the Plot by genre\n",
    "def group_titles(df, genre ,genre_color):\n",
    "    specific = df.loc[sample_set['genre'] == genre.lower()]\n",
    "    specific = specific.groupby('title_index').apply(pd.DataFrame.sort_values, 'bill_year', ascending=True)\n",
    "    for namex, group in specific.groupby('title'): \n",
    "        #print(group)\n",
    "        figgg.add_trace(       \n",
    "            go.Scatter(x=list(group.bill_year),\n",
    "                       y=list(group.bill_ranking),\n",
    "                       name=genre,\n",
    "                       visible=True, text=namex,\n",
    "                       line=dict(color=genre_color), mode='lines+markers'))\n",
    "        \n",
    "        \n",
    "figgg.update_yaxes(autorange=\"reversed\")\n",
    "\n",
    "figgg.update_layout(xaxis_range=[1999,2020])\n",
    "\n",
    "figgg.update_layout(\n",
    "    hoverlabel=dict(\n",
    "        bgcolor=\"white\", \n",
    "        font_size=16, \n",
    "        font_family=\"Rockwell\"\n",
    "    )\n",
    ")\n",
    "# Select genre        \n",
    "group_titles(sample_set,\"Rock\",\"#316fd4\")\n",
    "# group_titles(sample_set,\"Pop\",\"#ed72e9\")\n",
    "# group_titles(sample_set,\"Jazz\",\"#b07633\")\n",
    "# group_titles(sample_set,\"Soul\",\"#73203c\")\n",
    "# group_titles(sample_set,\"Folk\",\"#dbd0af\")\n",
    "figgg.show()"
   ]
  },
  {
   "cell_type": "code",
   "execution_count": 161,
   "metadata": {},
   "outputs": [
    {
     "data": {
      "application/vnd.plotly.v1+json": {
       "config": {
        "plotlyServerURL": "https://plot.ly"
       },
       "data": [
        {
         "line": {
          "color": "#316fd4"
         },
         "mode": "lines+markers",
         "name": "Rock",
         "text": "Avond",
         "type": "scatter",
         "visible": true,
         "x": [
          1997,
          1999,
          2000,
          2001,
          2002,
          2003,
          2004,
          2005,
          2006,
          2007,
          2008,
          2009,
          2010,
          2011,
          2012,
          2013,
          2014,
          2015,
          2016,
          2017,
          2018,
          2019
         ],
         "y": [
          1,
          428,
          121,
          41,
          25,
          8,
          5,
          1,
          2,
          2,
          3,
          3,
          3,
          4,
          5,
          5,
          5,
          7,
          6,
          9,
          10,
          6
         ]
        },
        {
         "line": {
          "color": "#316fd4"
         },
         "mode": "lines+markers",
         "name": "Rock",
         "text": "Bohemian Rhapsody",
         "type": "scatter",
         "visible": true,
         "x": [
          1975,
          1999,
          2000,
          2001,
          2002,
          2003,
          2004,
          2005,
          2006,
          2007,
          2008,
          2009,
          2010,
          2011,
          2012,
          2013,
          2014,
          2015,
          2016,
          2017,
          2018,
          2019
         ],
         "y": [
          1,
          1,
          1,
          1,
          1,
          1,
          1,
          2,
          1,
          1,
          1,
          1,
          2,
          1,
          1,
          1,
          2,
          2,
          1,
          1,
          1,
          1
         ]
        },
        {
         "line": {
          "color": "#316fd4"
         },
         "mode": "lines+markers",
         "name": "Rock",
         "text": "Hotel California",
         "type": "scatter",
         "visible": true,
         "x": [
          1977,
          1999,
          2000,
          2001,
          2002,
          2003,
          2004,
          2005,
          2006,
          2007,
          2008,
          2009,
          2010,
          2011,
          2012,
          2013,
          2014,
          2015,
          2016,
          2017,
          2018,
          2019
         ],
         "y": [
          1,
          2,
          4,
          3,
          3,
          2,
          2,
          3,
          3,
          3,
          2,
          2,
          1,
          2,
          2,
          2,
          1,
          3,
          2,
          2,
          2,
          2
         ]
        },
        {
         "line": {
          "color": "#316fd4"
         },
         "mode": "lines+markers",
         "name": "Rock",
         "text": "Imagine",
         "type": "scatter",
         "visible": true,
         "x": [
          1971,
          1999,
          2000,
          2001,
          2002,
          2003,
          2004,
          2005,
          2006,
          2007,
          2008,
          2009,
          2010,
          2011,
          2012,
          2013,
          2014,
          2015,
          2016,
          2017,
          2018,
          2019
         ],
         "y": [
          1,
          7,
          7,
          11,
          11,
          13,
          9,
          15,
          15,
          41,
          15,
          41,
          26,
          28,
          22,
          23,
          38,
          1,
          12,
          16,
          16,
          29
         ]
        },
        {
         "line": {
          "color": "#ed72e9"
         },
         "mode": "lines+markers",
         "name": "Pop",
         "text": "Angels",
         "type": "scatter",
         "visible": true,
         "x": [
          2001,
          2002,
          2003,
          2004,
          2005,
          2006,
          2007,
          2008,
          2009,
          2010,
          2011,
          2012,
          2013,
          2014,
          2015,
          2016,
          2017,
          2018,
          2019
         ],
         "y": [
          364,
          114,
          24,
          44,
          11,
          18,
          39,
          24,
          34,
          37,
          55,
          41,
          40,
          75,
          80,
          74,
          68,
          76,
          89
         ]
        },
        {
         "line": {
          "color": "#ed72e9"
         },
         "mode": "lines+markers",
         "name": "Pop",
         "text": "Clocks",
         "type": "scatter",
         "visible": true,
         "x": [
          2011,
          2012,
          2013,
          2014,
          2015,
          2016,
          2017,
          2018,
          2019
         ],
         "y": [
          10,
          9,
          12,
          20,
          29,
          36,
          46,
          57,
          80
         ]
        },
        {
         "line": {
          "color": "#ed72e9"
         },
         "mode": "lines+markers",
         "name": "Pop",
         "text": "Fix You",
         "type": "scatter",
         "visible": true,
         "x": [
          2009,
          2010,
          2011,
          2012,
          2013,
          2014,
          2015,
          2016,
          2017,
          2018,
          2019
         ],
         "y": [
          1494,
          235,
          69,
          40,
          20,
          15,
          10,
          11,
          8,
          9,
          8
         ]
        },
        {
         "line": {
          "color": "#ed72e9"
         },
         "mode": "lines+markers",
         "name": "Pop",
         "text": "Someone like you",
         "type": "scatter",
         "visible": true,
         "x": [
          2011,
          2012,
          2013,
          2014,
          2015,
          2016,
          2017,
          2018,
          2019
         ],
         "y": [
          6,
          8,
          25,
          35,
          18,
          47,
          89,
          97,
          126
         ]
        },
        {
         "line": {
          "color": "#b07633"
         },
         "mode": "lines+markers",
         "name": "Jazz",
         "text": "Don't Know Why",
         "type": "scatter",
         "visible": true,
         "x": [
          2002,
          2004,
          2005,
          2006,
          2007,
          2008,
          2009,
          2010,
          2011,
          2012,
          2013,
          2014,
          2015,
          2016,
          2017,
          2018,
          2019
         ],
         "y": [
          314,
          314,
          361,
          685,
          819,
          674,
          806,
          914,
          1112,
          982,
          928,
          1245,
          1298,
          1547,
          1828,
          1388,
          1660
         ]
        },
        {
         "line": {
          "color": "#b07633"
         },
         "mode": "lines+markers",
         "name": "Jazz",
         "text": "Fields of gold",
         "type": "scatter",
         "visible": true,
         "x": [
          1998,
          2005,
          2006,
          2007,
          2008,
          2009,
          2010,
          2011,
          2012,
          2013,
          2014,
          2015,
          2016,
          2017,
          2018,
          2019
         ],
         "y": [
          227,
          1086,
          514,
          301,
          728,
          377,
          319,
          311,
          373,
          227,
          322,
          354,
          444,
          535,
          584,
          625
         ]
        },
        {
         "line": {
          "color": "#b07633"
         },
         "mode": "lines+markers",
         "name": "Jazz",
         "text": "Nine Million Bicycles",
         "type": "scatter",
         "visible": true,
         "x": [
          2005,
          2005,
          2006,
          2007,
          2008,
          2009,
          2010,
          2011,
          2012,
          2013,
          2014,
          2015,
          2016,
          2017,
          2018,
          2019
         ],
         "y": [
          23,
          23,
          32,
          40,
          58,
          119,
          125,
          214,
          379,
          412,
          472,
          616,
          776,
          845,
          966,
          1110
         ]
        },
        {
         "line": {
          "color": "#b07633"
         },
         "mode": "lines+markers",
         "name": "Jazz",
         "text": "Take Five",
         "type": "scatter",
         "visible": true,
         "x": [
          1962,
          1999,
          2000,
          2001,
          2002,
          2003,
          2004,
          2005,
          2006,
          2007,
          2008,
          2009,
          2010,
          2011,
          2012,
          2013,
          2014,
          2015,
          2016,
          2017,
          2018,
          2019
         ],
         "y": [
          279,
          279,
          621,
          741,
          526,
          392,
          485,
          602,
          586,
          604,
          537,
          577,
          724,
          734,
          529,
          506,
          550,
          829,
          1165,
          976,
          1224,
          1298
         ]
        },
        {
         "line": {
          "color": "#73203c"
         },
         "mode": "lines+markers",
         "name": "Soul",
         "text": "(Sittin' on) the dock of the bay",
         "type": "scatter",
         "visible": true,
         "x": [
          1968,
          1999,
          2000,
          2001,
          2002,
          2003,
          2004,
          2005,
          2006,
          2007,
          2008,
          2009,
          2010,
          2011,
          2012,
          2013,
          2014,
          2015,
          2016,
          2017,
          2018,
          2019
         ],
         "y": [
          31,
          240,
          450,
          371,
          344,
          239,
          257,
          285,
          253,
          297,
          259,
          195,
          155,
          84,
          31,
          51,
          67,
          82,
          56,
          74,
          90,
          99
         ]
        },
        {
         "line": {
          "color": "#73203c"
         },
         "mode": "lines+markers",
         "name": "Soul",
         "text": "Back to black",
         "type": "scatter",
         "visible": true,
         "x": [
          2011,
          2012,
          2013,
          2014,
          2015,
          2016,
          2017,
          2018,
          2019
         ],
         "y": [
          1089,
          97,
          175,
          153,
          98,
          45,
          57,
          43,
          58
         ]
        },
        {
         "line": {
          "color": "#73203c"
         },
         "mode": "lines+markers",
         "name": "Soul",
         "text": "September",
         "type": "scatter",
         "visible": true,
         "x": [
          1979,
          1999,
          2000,
          2001,
          2002,
          2003,
          2004,
          2005,
          2006,
          2007,
          2008,
          2009,
          2010,
          2011,
          2012,
          2013,
          2014,
          2015,
          2016,
          2017,
          2018,
          2019
         ],
         "y": [
          117,
          550,
          764,
          814,
          689,
          833,
          854,
          1043,
          813,
          1109,
          885,
          875,
          687,
          793,
          472,
          290,
          279,
          243,
          147,
          149,
          117,
          170
         ]
        },
        {
         "line": {
          "color": "#73203c"
         },
         "mode": "lines+markers",
         "name": "Soul",
         "text": "Valerie",
         "type": "scatter",
         "visible": true,
         "x": [
          2009,
          2010,
          2011,
          2012,
          2013,
          2014,
          2015,
          2016,
          2017,
          2018,
          2019
         ],
         "y": [
          253,
          236,
          72,
          139,
          203,
          522,
          532,
          646,
          509,
          317,
          357
         ]
        },
        {
         "line": {
          "color": "#dbd0af"
         },
         "mode": "lines+markers",
         "name": "Folk",
         "text": "Non, je ne regrette rien",
         "type": "scatter",
         "visible": true,
         "x": [
          1961,
          1961,
          1961,
          1961,
          1961,
          1961,
          1961,
          1961,
          1961,
          1961,
          2008,
          2009,
          2010,
          2011,
          2012,
          2013,
          2014,
          2015,
          2016,
          2017,
          2018,
          2019
         ],
         "y": [
          106,
          106,
          106,
          106,
          106,
          106,
          106,
          106,
          106,
          106,
          224,
          277,
          328,
          263,
          413,
          363,
          427,
          460,
          622,
          582,
          577,
          813
         ]
        },
        {
         "line": {
          "color": "#dbd0af"
         },
         "mode": "lines+markers",
         "name": "Folk",
         "text": "Oude Maasweg",
         "type": "scatter",
         "visible": true,
         "x": [
          1982,
          1999,
          2000,
          2001,
          2002,
          2003,
          2004,
          2005,
          2006,
          2007,
          2008,
          2009,
          2010,
          2011,
          2012,
          2013,
          2014,
          2015,
          2016,
          2017,
          2018,
          2019
         ],
         "y": [
          16,
          191,
          112,
          46,
          44,
          49,
          69,
          26,
          38,
          16,
          29,
          66,
          49,
          81,
          103,
          108,
          125,
          149,
          146,
          153,
          217,
          199
         ]
        },
        {
         "line": {
          "color": "#dbd0af"
         },
         "mode": "lines+markers",
         "name": "Folk",
         "text": "She",
         "type": "scatter",
         "visible": true,
         "x": [
          1974,
          1999,
          2000,
          2001,
          2002,
          2003,
          2004,
          2005,
          2006,
          2007,
          2008,
          2009,
          2010,
          2011,
          2012,
          2013,
          2014,
          2015,
          2016,
          2017,
          2018,
          2019
         ],
         "y": [
          118,
          343,
          1079,
          542,
          229,
          236,
          175,
          183,
          149,
          118,
          147,
          141,
          140,
          158,
          210,
          169,
          137,
          143,
          169,
          196,
          174,
          242
         ]
        },
        {
         "line": {
          "color": "#dbd0af"
         },
         "mode": "lines+markers",
         "name": "Folk",
         "text": "Vous permettez, monsieur?",
         "type": "scatter",
         "visible": true,
         "x": [
          1964,
          1999,
          2000,
          2001,
          2002,
          2003,
          2004,
          2005,
          2006,
          2007,
          2008,
          2009,
          2010,
          2011,
          2012,
          2013,
          2014,
          2015
         ],
         "y": [
          146,
          358,
          337,
          318,
          277,
          333,
          243,
          232,
          272,
          146,
          209,
          664,
          492,
          635,
          1243,
          1484,
          1646,
          1862
         ]
        }
       ],
       "layout": {
        "hoverlabel": {
         "bgcolor": "white",
         "font": {
          "family": "Rockwell",
          "size": 16
         }
        },
        "legend": {
         "tracegroupgap": 0
        },
        "margin": {
         "t": 60
        },
        "template": {
         "data": {
          "bar": [
           {
            "error_x": {
             "color": "#2a3f5f"
            },
            "error_y": {
             "color": "#2a3f5f"
            },
            "marker": {
             "line": {
              "color": "#E5ECF6",
              "width": 0.5
             }
            },
            "type": "bar"
           }
          ],
          "barpolar": [
           {
            "marker": {
             "line": {
              "color": "#E5ECF6",
              "width": 0.5
             }
            },
            "type": "barpolar"
           }
          ],
          "carpet": [
           {
            "aaxis": {
             "endlinecolor": "#2a3f5f",
             "gridcolor": "white",
             "linecolor": "white",
             "minorgridcolor": "white",
             "startlinecolor": "#2a3f5f"
            },
            "baxis": {
             "endlinecolor": "#2a3f5f",
             "gridcolor": "white",
             "linecolor": "white",
             "minorgridcolor": "white",
             "startlinecolor": "#2a3f5f"
            },
            "type": "carpet"
           }
          ],
          "choropleth": [
           {
            "colorbar": {
             "outlinewidth": 0,
             "ticks": ""
            },
            "type": "choropleth"
           }
          ],
          "contour": [
           {
            "colorbar": {
             "outlinewidth": 0,
             "ticks": ""
            },
            "colorscale": [
             [
              0,
              "#0d0887"
             ],
             [
              0.1111111111111111,
              "#46039f"
             ],
             [
              0.2222222222222222,
              "#7201a8"
             ],
             [
              0.3333333333333333,
              "#9c179e"
             ],
             [
              0.4444444444444444,
              "#bd3786"
             ],
             [
              0.5555555555555556,
              "#d8576b"
             ],
             [
              0.6666666666666666,
              "#ed7953"
             ],
             [
              0.7777777777777778,
              "#fb9f3a"
             ],
             [
              0.8888888888888888,
              "#fdca26"
             ],
             [
              1,
              "#f0f921"
             ]
            ],
            "type": "contour"
           }
          ],
          "contourcarpet": [
           {
            "colorbar": {
             "outlinewidth": 0,
             "ticks": ""
            },
            "type": "contourcarpet"
           }
          ],
          "heatmap": [
           {
            "colorbar": {
             "outlinewidth": 0,
             "ticks": ""
            },
            "colorscale": [
             [
              0,
              "#0d0887"
             ],
             [
              0.1111111111111111,
              "#46039f"
             ],
             [
              0.2222222222222222,
              "#7201a8"
             ],
             [
              0.3333333333333333,
              "#9c179e"
             ],
             [
              0.4444444444444444,
              "#bd3786"
             ],
             [
              0.5555555555555556,
              "#d8576b"
             ],
             [
              0.6666666666666666,
              "#ed7953"
             ],
             [
              0.7777777777777778,
              "#fb9f3a"
             ],
             [
              0.8888888888888888,
              "#fdca26"
             ],
             [
              1,
              "#f0f921"
             ]
            ],
            "type": "heatmap"
           }
          ],
          "heatmapgl": [
           {
            "colorbar": {
             "outlinewidth": 0,
             "ticks": ""
            },
            "colorscale": [
             [
              0,
              "#0d0887"
             ],
             [
              0.1111111111111111,
              "#46039f"
             ],
             [
              0.2222222222222222,
              "#7201a8"
             ],
             [
              0.3333333333333333,
              "#9c179e"
             ],
             [
              0.4444444444444444,
              "#bd3786"
             ],
             [
              0.5555555555555556,
              "#d8576b"
             ],
             [
              0.6666666666666666,
              "#ed7953"
             ],
             [
              0.7777777777777778,
              "#fb9f3a"
             ],
             [
              0.8888888888888888,
              "#fdca26"
             ],
             [
              1,
              "#f0f921"
             ]
            ],
            "type": "heatmapgl"
           }
          ],
          "histogram": [
           {
            "marker": {
             "colorbar": {
              "outlinewidth": 0,
              "ticks": ""
             }
            },
            "type": "histogram"
           }
          ],
          "histogram2d": [
           {
            "colorbar": {
             "outlinewidth": 0,
             "ticks": ""
            },
            "colorscale": [
             [
              0,
              "#0d0887"
             ],
             [
              0.1111111111111111,
              "#46039f"
             ],
             [
              0.2222222222222222,
              "#7201a8"
             ],
             [
              0.3333333333333333,
              "#9c179e"
             ],
             [
              0.4444444444444444,
              "#bd3786"
             ],
             [
              0.5555555555555556,
              "#d8576b"
             ],
             [
              0.6666666666666666,
              "#ed7953"
             ],
             [
              0.7777777777777778,
              "#fb9f3a"
             ],
             [
              0.8888888888888888,
              "#fdca26"
             ],
             [
              1,
              "#f0f921"
             ]
            ],
            "type": "histogram2d"
           }
          ],
          "histogram2dcontour": [
           {
            "colorbar": {
             "outlinewidth": 0,
             "ticks": ""
            },
            "colorscale": [
             [
              0,
              "#0d0887"
             ],
             [
              0.1111111111111111,
              "#46039f"
             ],
             [
              0.2222222222222222,
              "#7201a8"
             ],
             [
              0.3333333333333333,
              "#9c179e"
             ],
             [
              0.4444444444444444,
              "#bd3786"
             ],
             [
              0.5555555555555556,
              "#d8576b"
             ],
             [
              0.6666666666666666,
              "#ed7953"
             ],
             [
              0.7777777777777778,
              "#fb9f3a"
             ],
             [
              0.8888888888888888,
              "#fdca26"
             ],
             [
              1,
              "#f0f921"
             ]
            ],
            "type": "histogram2dcontour"
           }
          ],
          "mesh3d": [
           {
            "colorbar": {
             "outlinewidth": 0,
             "ticks": ""
            },
            "type": "mesh3d"
           }
          ],
          "parcoords": [
           {
            "line": {
             "colorbar": {
              "outlinewidth": 0,
              "ticks": ""
             }
            },
            "type": "parcoords"
           }
          ],
          "pie": [
           {
            "automargin": true,
            "type": "pie"
           }
          ],
          "scatter": [
           {
            "marker": {
             "colorbar": {
              "outlinewidth": 0,
              "ticks": ""
             }
            },
            "type": "scatter"
           }
          ],
          "scatter3d": [
           {
            "line": {
             "colorbar": {
              "outlinewidth": 0,
              "ticks": ""
             }
            },
            "marker": {
             "colorbar": {
              "outlinewidth": 0,
              "ticks": ""
             }
            },
            "type": "scatter3d"
           }
          ],
          "scattercarpet": [
           {
            "marker": {
             "colorbar": {
              "outlinewidth": 0,
              "ticks": ""
             }
            },
            "type": "scattercarpet"
           }
          ],
          "scattergeo": [
           {
            "marker": {
             "colorbar": {
              "outlinewidth": 0,
              "ticks": ""
             }
            },
            "type": "scattergeo"
           }
          ],
          "scattergl": [
           {
            "marker": {
             "colorbar": {
              "outlinewidth": 0,
              "ticks": ""
             }
            },
            "type": "scattergl"
           }
          ],
          "scattermapbox": [
           {
            "marker": {
             "colorbar": {
              "outlinewidth": 0,
              "ticks": ""
             }
            },
            "type": "scattermapbox"
           }
          ],
          "scatterpolar": [
           {
            "marker": {
             "colorbar": {
              "outlinewidth": 0,
              "ticks": ""
             }
            },
            "type": "scatterpolar"
           }
          ],
          "scatterpolargl": [
           {
            "marker": {
             "colorbar": {
              "outlinewidth": 0,
              "ticks": ""
             }
            },
            "type": "scatterpolargl"
           }
          ],
          "scatterternary": [
           {
            "marker": {
             "colorbar": {
              "outlinewidth": 0,
              "ticks": ""
             }
            },
            "type": "scatterternary"
           }
          ],
          "surface": [
           {
            "colorbar": {
             "outlinewidth": 0,
             "ticks": ""
            },
            "colorscale": [
             [
              0,
              "#0d0887"
             ],
             [
              0.1111111111111111,
              "#46039f"
             ],
             [
              0.2222222222222222,
              "#7201a8"
             ],
             [
              0.3333333333333333,
              "#9c179e"
             ],
             [
              0.4444444444444444,
              "#bd3786"
             ],
             [
              0.5555555555555556,
              "#d8576b"
             ],
             [
              0.6666666666666666,
              "#ed7953"
             ],
             [
              0.7777777777777778,
              "#fb9f3a"
             ],
             [
              0.8888888888888888,
              "#fdca26"
             ],
             [
              1,
              "#f0f921"
             ]
            ],
            "type": "surface"
           }
          ],
          "table": [
           {
            "cells": {
             "fill": {
              "color": "#EBF0F8"
             },
             "line": {
              "color": "white"
             }
            },
            "header": {
             "fill": {
              "color": "#C8D4E3"
             },
             "line": {
              "color": "white"
             }
            },
            "type": "table"
           }
          ]
         },
         "layout": {
          "annotationdefaults": {
           "arrowcolor": "#2a3f5f",
           "arrowhead": 0,
           "arrowwidth": 1
          },
          "coloraxis": {
           "colorbar": {
            "outlinewidth": 0,
            "ticks": ""
           }
          },
          "colorscale": {
           "diverging": [
            [
             0,
             "#8e0152"
            ],
            [
             0.1,
             "#c51b7d"
            ],
            [
             0.2,
             "#de77ae"
            ],
            [
             0.3,
             "#f1b6da"
            ],
            [
             0.4,
             "#fde0ef"
            ],
            [
             0.5,
             "#f7f7f7"
            ],
            [
             0.6,
             "#e6f5d0"
            ],
            [
             0.7,
             "#b8e186"
            ],
            [
             0.8,
             "#7fbc41"
            ],
            [
             0.9,
             "#4d9221"
            ],
            [
             1,
             "#276419"
            ]
           ],
           "sequential": [
            [
             0,
             "#0d0887"
            ],
            [
             0.1111111111111111,
             "#46039f"
            ],
            [
             0.2222222222222222,
             "#7201a8"
            ],
            [
             0.3333333333333333,
             "#9c179e"
            ],
            [
             0.4444444444444444,
             "#bd3786"
            ],
            [
             0.5555555555555556,
             "#d8576b"
            ],
            [
             0.6666666666666666,
             "#ed7953"
            ],
            [
             0.7777777777777778,
             "#fb9f3a"
            ],
            [
             0.8888888888888888,
             "#fdca26"
            ],
            [
             1,
             "#f0f921"
            ]
           ],
           "sequentialminus": [
            [
             0,
             "#0d0887"
            ],
            [
             0.1111111111111111,
             "#46039f"
            ],
            [
             0.2222222222222222,
             "#7201a8"
            ],
            [
             0.3333333333333333,
             "#9c179e"
            ],
            [
             0.4444444444444444,
             "#bd3786"
            ],
            [
             0.5555555555555556,
             "#d8576b"
            ],
            [
             0.6666666666666666,
             "#ed7953"
            ],
            [
             0.7777777777777778,
             "#fb9f3a"
            ],
            [
             0.8888888888888888,
             "#fdca26"
            ],
            [
             1,
             "#f0f921"
            ]
           ]
          },
          "colorway": [
           "#636efa",
           "#EF553B",
           "#00cc96",
           "#ab63fa",
           "#FFA15A",
           "#19d3f3",
           "#FF6692",
           "#B6E880",
           "#FF97FF",
           "#FECB52"
          ],
          "font": {
           "color": "#2a3f5f"
          },
          "geo": {
           "bgcolor": "white",
           "lakecolor": "white",
           "landcolor": "#E5ECF6",
           "showlakes": true,
           "showland": true,
           "subunitcolor": "white"
          },
          "hoverlabel": {
           "align": "left"
          },
          "hovermode": "closest",
          "mapbox": {
           "style": "light"
          },
          "paper_bgcolor": "white",
          "plot_bgcolor": "#E5ECF6",
          "polar": {
           "angularaxis": {
            "gridcolor": "white",
            "linecolor": "white",
            "ticks": ""
           },
           "bgcolor": "#E5ECF6",
           "radialaxis": {
            "gridcolor": "white",
            "linecolor": "white",
            "ticks": ""
           }
          },
          "scene": {
           "xaxis": {
            "backgroundcolor": "#E5ECF6",
            "gridcolor": "white",
            "gridwidth": 2,
            "linecolor": "white",
            "showbackground": true,
            "ticks": "",
            "zerolinecolor": "white"
           },
           "yaxis": {
            "backgroundcolor": "#E5ECF6",
            "gridcolor": "white",
            "gridwidth": 2,
            "linecolor": "white",
            "showbackground": true,
            "ticks": "",
            "zerolinecolor": "white"
           },
           "zaxis": {
            "backgroundcolor": "#E5ECF6",
            "gridcolor": "white",
            "gridwidth": 2,
            "linecolor": "white",
            "showbackground": true,
            "ticks": "",
            "zerolinecolor": "white"
           }
          },
          "shapedefaults": {
           "line": {
            "color": "#2a3f5f"
           }
          },
          "ternary": {
           "aaxis": {
            "gridcolor": "white",
            "linecolor": "white",
            "ticks": ""
           },
           "baxis": {
            "gridcolor": "white",
            "linecolor": "white",
            "ticks": ""
           },
           "bgcolor": "#E5ECF6",
           "caxis": {
            "gridcolor": "white",
            "linecolor": "white",
            "ticks": ""
           }
          },
          "title": {
           "x": 0.05
          },
          "xaxis": {
           "automargin": true,
           "gridcolor": "white",
           "linecolor": "white",
           "ticks": "",
           "title": {
            "standoff": 15
           },
           "zerolinecolor": "white",
           "zerolinewidth": 2
          },
          "yaxis": {
           "automargin": true,
           "gridcolor": "white",
           "linecolor": "white",
           "ticks": "",
           "title": {
            "standoff": 15
           },
           "zerolinecolor": "white",
           "zerolinewidth": 2
          }
         }
        },
        "updatemenus": [
         {
          "active": 0,
          "buttons": [
           {
            "args": [
             {
              "visible": [
               false,
               false,
               false,
               false,
               false
              ]
             },
             {
              "title": "Genre Ranking"
             }
            ],
            "label": "None",
            "method": "update"
           },
           {
            "args": [
             {
              "visible": [
               true,
               false,
               false,
               false,
               false
              ]
             },
             {
              "title": "Rock Ranking"
             }
            ],
            "label": "Rock",
            "method": "update"
           },
           {
            "args": [
             {
              "visible": [
               false,
               true,
               false,
               false,
               false
              ]
             },
             {
              "title": "Pop Ranking"
             }
            ],
            "label": "Pop",
            "method": "update"
           },
           {
            "args": [
             {
              "visible": [
               false,
               false,
               true,
               false,
               false
              ]
             },
             {
              "title": "Jazz Ranking"
             }
            ],
            "label": "Jazz",
            "method": "update"
           },
           {
            "args": [
             {
              "visible": [
               false,
               false,
               false,
               true,
               false
              ]
             },
             {
              "title": "Soul Ranking"
             }
            ],
            "label": "Soul",
            "method": "update"
           },
           {
            "args": [
             {
              "visible": [
               false,
               false,
               false,
               false,
               true
              ]
             },
             {
              "title": "Folk Ranking"
             }
            ],
            "label": "Folk",
            "method": "update"
           },
           {
            "args": [
             {
              "visible": [
               true,
               true,
               true,
               true,
               true
              ]
             },
             {
              "title": "All Genres"
             }
            ],
            "label": "All",
            "method": "update"
           }
          ]
         }
        ],
        "xaxis": {
         "anchor": "y",
         "domain": [
          0,
          1
         ],
         "range": [
          1999,
          2020
         ]
        },
        "yaxis": {
         "anchor": "x",
         "autorange": "reversed",
         "domain": [
          0,
          1
         ]
        }
       }
      },
      "text/html": [
       "<div>\n",
       "        \n",
       "        \n",
       "            <div id=\"b0d17975-5d7d-4f58-a2a1-b6017342d3c1\" class=\"plotly-graph-div\" style=\"height:525px; width:100%;\"></div>\n",
       "            <script type=\"text/javascript\">\n",
       "                require([\"plotly\"], function(Plotly) {\n",
       "                    window.PLOTLYENV=window.PLOTLYENV || {};\n",
       "                    \n",
       "                if (document.getElementById(\"b0d17975-5d7d-4f58-a2a1-b6017342d3c1\")) {\n",
       "                    Plotly.newPlot(\n",
       "                        'b0d17975-5d7d-4f58-a2a1-b6017342d3c1',\n",
       "                        [{\"line\": {\"color\": \"#316fd4\"}, \"mode\": \"lines+markers\", \"name\": \"Rock\", \"text\": \"Avond\", \"type\": \"scatter\", \"visible\": true, \"x\": [1997, 1999, 2000, 2001, 2002, 2003, 2004, 2005, 2006, 2007, 2008, 2009, 2010, 2011, 2012, 2013, 2014, 2015, 2016, 2017, 2018, 2019], \"y\": [1, 428, 121, 41, 25, 8, 5, 1, 2, 2, 3, 3, 3, 4, 5, 5, 5, 7, 6, 9, 10, 6]}, {\"line\": {\"color\": \"#316fd4\"}, \"mode\": \"lines+markers\", \"name\": \"Rock\", \"text\": \"Bohemian Rhapsody\", \"type\": \"scatter\", \"visible\": true, \"x\": [1975, 1999, 2000, 2001, 2002, 2003, 2004, 2005, 2006, 2007, 2008, 2009, 2010, 2011, 2012, 2013, 2014, 2015, 2016, 2017, 2018, 2019], \"y\": [1, 1, 1, 1, 1, 1, 1, 2, 1, 1, 1, 1, 2, 1, 1, 1, 2, 2, 1, 1, 1, 1]}, {\"line\": {\"color\": \"#316fd4\"}, \"mode\": \"lines+markers\", \"name\": \"Rock\", \"text\": \"Hotel California\", \"type\": \"scatter\", \"visible\": true, \"x\": [1977, 1999, 2000, 2001, 2002, 2003, 2004, 2005, 2006, 2007, 2008, 2009, 2010, 2011, 2012, 2013, 2014, 2015, 2016, 2017, 2018, 2019], \"y\": [1, 2, 4, 3, 3, 2, 2, 3, 3, 3, 2, 2, 1, 2, 2, 2, 1, 3, 2, 2, 2, 2]}, {\"line\": {\"color\": \"#316fd4\"}, \"mode\": \"lines+markers\", \"name\": \"Rock\", \"text\": \"Imagine\", \"type\": \"scatter\", \"visible\": true, \"x\": [1971, 1999, 2000, 2001, 2002, 2003, 2004, 2005, 2006, 2007, 2008, 2009, 2010, 2011, 2012, 2013, 2014, 2015, 2016, 2017, 2018, 2019], \"y\": [1, 7, 7, 11, 11, 13, 9, 15, 15, 41, 15, 41, 26, 28, 22, 23, 38, 1, 12, 16, 16, 29]}, {\"line\": {\"color\": \"#ed72e9\"}, \"mode\": \"lines+markers\", \"name\": \"Pop\", \"text\": \"Angels\", \"type\": \"scatter\", \"visible\": true, \"x\": [2001, 2002, 2003, 2004, 2005, 2006, 2007, 2008, 2009, 2010, 2011, 2012, 2013, 2014, 2015, 2016, 2017, 2018, 2019], \"y\": [364, 114, 24, 44, 11, 18, 39, 24, 34, 37, 55, 41, 40, 75, 80, 74, 68, 76, 89]}, {\"line\": {\"color\": \"#ed72e9\"}, \"mode\": \"lines+markers\", \"name\": \"Pop\", \"text\": \"Clocks\", \"type\": \"scatter\", \"visible\": true, \"x\": [2011, 2012, 2013, 2014, 2015, 2016, 2017, 2018, 2019], \"y\": [10, 9, 12, 20, 29, 36, 46, 57, 80]}, {\"line\": {\"color\": \"#ed72e9\"}, \"mode\": \"lines+markers\", \"name\": \"Pop\", \"text\": \"Fix You\", \"type\": \"scatter\", \"visible\": true, \"x\": [2009, 2010, 2011, 2012, 2013, 2014, 2015, 2016, 2017, 2018, 2019], \"y\": [1494, 235, 69, 40, 20, 15, 10, 11, 8, 9, 8]}, {\"line\": {\"color\": \"#ed72e9\"}, \"mode\": \"lines+markers\", \"name\": \"Pop\", \"text\": \"Someone like you\", \"type\": \"scatter\", \"visible\": true, \"x\": [2011, 2012, 2013, 2014, 2015, 2016, 2017, 2018, 2019], \"y\": [6, 8, 25, 35, 18, 47, 89, 97, 126]}, {\"line\": {\"color\": \"#b07633\"}, \"mode\": \"lines+markers\", \"name\": \"Jazz\", \"text\": \"Don't Know Why\", \"type\": \"scatter\", \"visible\": true, \"x\": [2002, 2004, 2005, 2006, 2007, 2008, 2009, 2010, 2011, 2012, 2013, 2014, 2015, 2016, 2017, 2018, 2019], \"y\": [314, 314, 361, 685, 819, 674, 806, 914, 1112, 982, 928, 1245, 1298, 1547, 1828, 1388, 1660]}, {\"line\": {\"color\": \"#b07633\"}, \"mode\": \"lines+markers\", \"name\": \"Jazz\", \"text\": \"Fields of gold\", \"type\": \"scatter\", \"visible\": true, \"x\": [1998, 2005, 2006, 2007, 2008, 2009, 2010, 2011, 2012, 2013, 2014, 2015, 2016, 2017, 2018, 2019], \"y\": [227, 1086, 514, 301, 728, 377, 319, 311, 373, 227, 322, 354, 444, 535, 584, 625]}, {\"line\": {\"color\": \"#b07633\"}, \"mode\": \"lines+markers\", \"name\": \"Jazz\", \"text\": \"Nine Million Bicycles\", \"type\": \"scatter\", \"visible\": true, \"x\": [2005, 2005, 2006, 2007, 2008, 2009, 2010, 2011, 2012, 2013, 2014, 2015, 2016, 2017, 2018, 2019], \"y\": [23, 23, 32, 40, 58, 119, 125, 214, 379, 412, 472, 616, 776, 845, 966, 1110]}, {\"line\": {\"color\": \"#b07633\"}, \"mode\": \"lines+markers\", \"name\": \"Jazz\", \"text\": \"Take Five\", \"type\": \"scatter\", \"visible\": true, \"x\": [1962, 1999, 2000, 2001, 2002, 2003, 2004, 2005, 2006, 2007, 2008, 2009, 2010, 2011, 2012, 2013, 2014, 2015, 2016, 2017, 2018, 2019], \"y\": [279, 279, 621, 741, 526, 392, 485, 602, 586, 604, 537, 577, 724, 734, 529, 506, 550, 829, 1165, 976, 1224, 1298]}, {\"line\": {\"color\": \"#73203c\"}, \"mode\": \"lines+markers\", \"name\": \"Soul\", \"text\": \"(Sittin' on) the dock of the bay\", \"type\": \"scatter\", \"visible\": true, \"x\": [1968, 1999, 2000, 2001, 2002, 2003, 2004, 2005, 2006, 2007, 2008, 2009, 2010, 2011, 2012, 2013, 2014, 2015, 2016, 2017, 2018, 2019], \"y\": [31, 240, 450, 371, 344, 239, 257, 285, 253, 297, 259, 195, 155, 84, 31, 51, 67, 82, 56, 74, 90, 99]}, {\"line\": {\"color\": \"#73203c\"}, \"mode\": \"lines+markers\", \"name\": \"Soul\", \"text\": \"Back to black\", \"type\": \"scatter\", \"visible\": true, \"x\": [2011, 2012, 2013, 2014, 2015, 2016, 2017, 2018, 2019], \"y\": [1089, 97, 175, 153, 98, 45, 57, 43, 58]}, {\"line\": {\"color\": \"#73203c\"}, \"mode\": \"lines+markers\", \"name\": \"Soul\", \"text\": \"September\", \"type\": \"scatter\", \"visible\": true, \"x\": [1979, 1999, 2000, 2001, 2002, 2003, 2004, 2005, 2006, 2007, 2008, 2009, 2010, 2011, 2012, 2013, 2014, 2015, 2016, 2017, 2018, 2019], \"y\": [117, 550, 764, 814, 689, 833, 854, 1043, 813, 1109, 885, 875, 687, 793, 472, 290, 279, 243, 147, 149, 117, 170]}, {\"line\": {\"color\": \"#73203c\"}, \"mode\": \"lines+markers\", \"name\": \"Soul\", \"text\": \"Valerie\", \"type\": \"scatter\", \"visible\": true, \"x\": [2009, 2010, 2011, 2012, 2013, 2014, 2015, 2016, 2017, 2018, 2019], \"y\": [253, 236, 72, 139, 203, 522, 532, 646, 509, 317, 357]}, {\"line\": {\"color\": \"#dbd0af\"}, \"mode\": \"lines+markers\", \"name\": \"Folk\", \"text\": \"Non, je ne regrette rien\", \"type\": \"scatter\", \"visible\": true, \"x\": [1961, 1961, 1961, 1961, 1961, 1961, 1961, 1961, 1961, 1961, 2008, 2009, 2010, 2011, 2012, 2013, 2014, 2015, 2016, 2017, 2018, 2019], \"y\": [106, 106, 106, 106, 106, 106, 106, 106, 106, 106, 224, 277, 328, 263, 413, 363, 427, 460, 622, 582, 577, 813]}, {\"line\": {\"color\": \"#dbd0af\"}, \"mode\": \"lines+markers\", \"name\": \"Folk\", \"text\": \"Oude Maasweg\", \"type\": \"scatter\", \"visible\": true, \"x\": [1982, 1999, 2000, 2001, 2002, 2003, 2004, 2005, 2006, 2007, 2008, 2009, 2010, 2011, 2012, 2013, 2014, 2015, 2016, 2017, 2018, 2019], \"y\": [16, 191, 112, 46, 44, 49, 69, 26, 38, 16, 29, 66, 49, 81, 103, 108, 125, 149, 146, 153, 217, 199]}, {\"line\": {\"color\": \"#dbd0af\"}, \"mode\": \"lines+markers\", \"name\": \"Folk\", \"text\": \"She\", \"type\": \"scatter\", \"visible\": true, \"x\": [1974, 1999, 2000, 2001, 2002, 2003, 2004, 2005, 2006, 2007, 2008, 2009, 2010, 2011, 2012, 2013, 2014, 2015, 2016, 2017, 2018, 2019], \"y\": [118, 343, 1079, 542, 229, 236, 175, 183, 149, 118, 147, 141, 140, 158, 210, 169, 137, 143, 169, 196, 174, 242]}, {\"line\": {\"color\": \"#dbd0af\"}, \"mode\": \"lines+markers\", \"name\": \"Folk\", \"text\": \"Vous permettez, monsieur?\", \"type\": \"scatter\", \"visible\": true, \"x\": [1964, 1999, 2000, 2001, 2002, 2003, 2004, 2005, 2006, 2007, 2008, 2009, 2010, 2011, 2012, 2013, 2014, 2015], \"y\": [146, 358, 337, 318, 277, 333, 243, 232, 272, 146, 209, 664, 492, 635, 1243, 1484, 1646, 1862]}],\n",
       "                        {\"hoverlabel\": {\"bgcolor\": \"white\", \"font\": {\"family\": \"Rockwell\", \"size\": 16}}, \"legend\": {\"tracegroupgap\": 0}, \"margin\": {\"t\": 60}, \"template\": {\"data\": {\"bar\": [{\"error_x\": {\"color\": \"#2a3f5f\"}, \"error_y\": {\"color\": \"#2a3f5f\"}, \"marker\": {\"line\": {\"color\": \"#E5ECF6\", \"width\": 0.5}}, \"type\": \"bar\"}], \"barpolar\": [{\"marker\": {\"line\": {\"color\": \"#E5ECF6\", \"width\": 0.5}}, \"type\": \"barpolar\"}], \"carpet\": [{\"aaxis\": {\"endlinecolor\": \"#2a3f5f\", \"gridcolor\": \"white\", \"linecolor\": \"white\", \"minorgridcolor\": \"white\", \"startlinecolor\": \"#2a3f5f\"}, \"baxis\": {\"endlinecolor\": \"#2a3f5f\", \"gridcolor\": \"white\", \"linecolor\": \"white\", \"minorgridcolor\": \"white\", \"startlinecolor\": \"#2a3f5f\"}, \"type\": \"carpet\"}], \"choropleth\": [{\"colorbar\": {\"outlinewidth\": 0, \"ticks\": \"\"}, \"type\": \"choropleth\"}], \"contour\": [{\"colorbar\": {\"outlinewidth\": 0, \"ticks\": \"\"}, \"colorscale\": [[0.0, \"#0d0887\"], [0.1111111111111111, \"#46039f\"], [0.2222222222222222, \"#7201a8\"], [0.3333333333333333, \"#9c179e\"], [0.4444444444444444, \"#bd3786\"], [0.5555555555555556, \"#d8576b\"], [0.6666666666666666, \"#ed7953\"], [0.7777777777777778, \"#fb9f3a\"], [0.8888888888888888, \"#fdca26\"], [1.0, \"#f0f921\"]], \"type\": \"contour\"}], \"contourcarpet\": [{\"colorbar\": {\"outlinewidth\": 0, \"ticks\": \"\"}, \"type\": \"contourcarpet\"}], \"heatmap\": [{\"colorbar\": {\"outlinewidth\": 0, \"ticks\": \"\"}, \"colorscale\": [[0.0, \"#0d0887\"], [0.1111111111111111, \"#46039f\"], [0.2222222222222222, \"#7201a8\"], [0.3333333333333333, \"#9c179e\"], [0.4444444444444444, \"#bd3786\"], [0.5555555555555556, \"#d8576b\"], [0.6666666666666666, \"#ed7953\"], [0.7777777777777778, \"#fb9f3a\"], [0.8888888888888888, \"#fdca26\"], [1.0, \"#f0f921\"]], \"type\": \"heatmap\"}], \"heatmapgl\": [{\"colorbar\": {\"outlinewidth\": 0, \"ticks\": \"\"}, \"colorscale\": [[0.0, \"#0d0887\"], [0.1111111111111111, \"#46039f\"], [0.2222222222222222, \"#7201a8\"], [0.3333333333333333, \"#9c179e\"], [0.4444444444444444, \"#bd3786\"], [0.5555555555555556, \"#d8576b\"], [0.6666666666666666, \"#ed7953\"], [0.7777777777777778, \"#fb9f3a\"], [0.8888888888888888, \"#fdca26\"], [1.0, \"#f0f921\"]], \"type\": \"heatmapgl\"}], \"histogram\": [{\"marker\": {\"colorbar\": {\"outlinewidth\": 0, \"ticks\": \"\"}}, \"type\": \"histogram\"}], \"histogram2d\": [{\"colorbar\": {\"outlinewidth\": 0, \"ticks\": \"\"}, \"colorscale\": [[0.0, \"#0d0887\"], [0.1111111111111111, \"#46039f\"], [0.2222222222222222, \"#7201a8\"], [0.3333333333333333, \"#9c179e\"], [0.4444444444444444, \"#bd3786\"], [0.5555555555555556, \"#d8576b\"], [0.6666666666666666, \"#ed7953\"], [0.7777777777777778, \"#fb9f3a\"], [0.8888888888888888, \"#fdca26\"], [1.0, \"#f0f921\"]], \"type\": \"histogram2d\"}], \"histogram2dcontour\": [{\"colorbar\": {\"outlinewidth\": 0, \"ticks\": \"\"}, \"colorscale\": [[0.0, \"#0d0887\"], [0.1111111111111111, \"#46039f\"], [0.2222222222222222, \"#7201a8\"], [0.3333333333333333, \"#9c179e\"], [0.4444444444444444, \"#bd3786\"], [0.5555555555555556, \"#d8576b\"], [0.6666666666666666, \"#ed7953\"], [0.7777777777777778, \"#fb9f3a\"], [0.8888888888888888, \"#fdca26\"], [1.0, \"#f0f921\"]], \"type\": \"histogram2dcontour\"}], \"mesh3d\": [{\"colorbar\": {\"outlinewidth\": 0, \"ticks\": \"\"}, \"type\": \"mesh3d\"}], \"parcoords\": [{\"line\": {\"colorbar\": {\"outlinewidth\": 0, \"ticks\": \"\"}}, \"type\": \"parcoords\"}], \"pie\": [{\"automargin\": true, \"type\": \"pie\"}], \"scatter\": [{\"marker\": {\"colorbar\": {\"outlinewidth\": 0, \"ticks\": \"\"}}, \"type\": \"scatter\"}], \"scatter3d\": [{\"line\": {\"colorbar\": {\"outlinewidth\": 0, \"ticks\": \"\"}}, \"marker\": {\"colorbar\": {\"outlinewidth\": 0, \"ticks\": \"\"}}, \"type\": \"scatter3d\"}], \"scattercarpet\": [{\"marker\": {\"colorbar\": {\"outlinewidth\": 0, \"ticks\": \"\"}}, \"type\": \"scattercarpet\"}], \"scattergeo\": [{\"marker\": {\"colorbar\": {\"outlinewidth\": 0, \"ticks\": \"\"}}, \"type\": \"scattergeo\"}], \"scattergl\": [{\"marker\": {\"colorbar\": {\"outlinewidth\": 0, \"ticks\": \"\"}}, \"type\": \"scattergl\"}], \"scattermapbox\": [{\"marker\": {\"colorbar\": {\"outlinewidth\": 0, \"ticks\": \"\"}}, \"type\": \"scattermapbox\"}], \"scatterpolar\": [{\"marker\": {\"colorbar\": {\"outlinewidth\": 0, \"ticks\": \"\"}}, \"type\": \"scatterpolar\"}], \"scatterpolargl\": [{\"marker\": {\"colorbar\": {\"outlinewidth\": 0, \"ticks\": \"\"}}, \"type\": \"scatterpolargl\"}], \"scatterternary\": [{\"marker\": {\"colorbar\": {\"outlinewidth\": 0, \"ticks\": \"\"}}, \"type\": \"scatterternary\"}], \"surface\": [{\"colorbar\": {\"outlinewidth\": 0, \"ticks\": \"\"}, \"colorscale\": [[0.0, \"#0d0887\"], [0.1111111111111111, \"#46039f\"], [0.2222222222222222, \"#7201a8\"], [0.3333333333333333, \"#9c179e\"], [0.4444444444444444, \"#bd3786\"], [0.5555555555555556, \"#d8576b\"], [0.6666666666666666, \"#ed7953\"], [0.7777777777777778, \"#fb9f3a\"], [0.8888888888888888, \"#fdca26\"], [1.0, \"#f0f921\"]], \"type\": \"surface\"}], \"table\": [{\"cells\": {\"fill\": {\"color\": \"#EBF0F8\"}, \"line\": {\"color\": \"white\"}}, \"header\": {\"fill\": {\"color\": \"#C8D4E3\"}, \"line\": {\"color\": \"white\"}}, \"type\": \"table\"}]}, \"layout\": {\"annotationdefaults\": {\"arrowcolor\": \"#2a3f5f\", \"arrowhead\": 0, \"arrowwidth\": 1}, \"coloraxis\": {\"colorbar\": {\"outlinewidth\": 0, \"ticks\": \"\"}}, \"colorscale\": {\"diverging\": [[0, \"#8e0152\"], [0.1, \"#c51b7d\"], [0.2, \"#de77ae\"], [0.3, \"#f1b6da\"], [0.4, \"#fde0ef\"], [0.5, \"#f7f7f7\"], [0.6, \"#e6f5d0\"], [0.7, \"#b8e186\"], [0.8, \"#7fbc41\"], [0.9, \"#4d9221\"], [1, \"#276419\"]], \"sequential\": [[0.0, \"#0d0887\"], [0.1111111111111111, \"#46039f\"], [0.2222222222222222, \"#7201a8\"], [0.3333333333333333, \"#9c179e\"], [0.4444444444444444, \"#bd3786\"], [0.5555555555555556, \"#d8576b\"], [0.6666666666666666, \"#ed7953\"], [0.7777777777777778, \"#fb9f3a\"], [0.8888888888888888, \"#fdca26\"], [1.0, \"#f0f921\"]], \"sequentialminus\": [[0.0, \"#0d0887\"], [0.1111111111111111, \"#46039f\"], [0.2222222222222222, \"#7201a8\"], [0.3333333333333333, \"#9c179e\"], [0.4444444444444444, \"#bd3786\"], [0.5555555555555556, \"#d8576b\"], [0.6666666666666666, \"#ed7953\"], [0.7777777777777778, \"#fb9f3a\"], [0.8888888888888888, \"#fdca26\"], [1.0, \"#f0f921\"]]}, \"colorway\": [\"#636efa\", \"#EF553B\", \"#00cc96\", \"#ab63fa\", \"#FFA15A\", \"#19d3f3\", \"#FF6692\", \"#B6E880\", \"#FF97FF\", \"#FECB52\"], \"font\": {\"color\": \"#2a3f5f\"}, \"geo\": {\"bgcolor\": \"white\", \"lakecolor\": \"white\", \"landcolor\": \"#E5ECF6\", \"showlakes\": true, \"showland\": true, \"subunitcolor\": \"white\"}, \"hoverlabel\": {\"align\": \"left\"}, \"hovermode\": \"closest\", \"mapbox\": {\"style\": \"light\"}, \"paper_bgcolor\": \"white\", \"plot_bgcolor\": \"#E5ECF6\", \"polar\": {\"angularaxis\": {\"gridcolor\": \"white\", \"linecolor\": \"white\", \"ticks\": \"\"}, \"bgcolor\": \"#E5ECF6\", \"radialaxis\": {\"gridcolor\": \"white\", \"linecolor\": \"white\", \"ticks\": \"\"}}, \"scene\": {\"xaxis\": {\"backgroundcolor\": \"#E5ECF6\", \"gridcolor\": \"white\", \"gridwidth\": 2, \"linecolor\": \"white\", \"showbackground\": true, \"ticks\": \"\", \"zerolinecolor\": \"white\"}, \"yaxis\": {\"backgroundcolor\": \"#E5ECF6\", \"gridcolor\": \"white\", \"gridwidth\": 2, \"linecolor\": \"white\", \"showbackground\": true, \"ticks\": \"\", \"zerolinecolor\": \"white\"}, \"zaxis\": {\"backgroundcolor\": \"#E5ECF6\", \"gridcolor\": \"white\", \"gridwidth\": 2, \"linecolor\": \"white\", \"showbackground\": true, \"ticks\": \"\", \"zerolinecolor\": \"white\"}}, \"shapedefaults\": {\"line\": {\"color\": \"#2a3f5f\"}}, \"ternary\": {\"aaxis\": {\"gridcolor\": \"white\", \"linecolor\": \"white\", \"ticks\": \"\"}, \"baxis\": {\"gridcolor\": \"white\", \"linecolor\": \"white\", \"ticks\": \"\"}, \"bgcolor\": \"#E5ECF6\", \"caxis\": {\"gridcolor\": \"white\", \"linecolor\": \"white\", \"ticks\": \"\"}}, \"title\": {\"x\": 0.05}, \"xaxis\": {\"automargin\": true, \"gridcolor\": \"white\", \"linecolor\": \"white\", \"ticks\": \"\", \"title\": {\"standoff\": 15}, \"zerolinecolor\": \"white\", \"zerolinewidth\": 2}, \"yaxis\": {\"automargin\": true, \"gridcolor\": \"white\", \"linecolor\": \"white\", \"ticks\": \"\", \"title\": {\"standoff\": 15}, \"zerolinecolor\": \"white\", \"zerolinewidth\": 2}}}, \"updatemenus\": [{\"active\": 0, \"buttons\": [{\"args\": [{\"visible\": [false, false, false, false, false]}, {\"title\": \"Genre Ranking\"}], \"label\": \"None\", \"method\": \"update\"}, {\"args\": [{\"visible\": [true, false, false, false, false]}, {\"title\": \"Rock Ranking\"}], \"label\": \"Rock\", \"method\": \"update\"}, {\"args\": [{\"visible\": [false, true, false, false, false]}, {\"title\": \"Pop Ranking\"}], \"label\": \"Pop\", \"method\": \"update\"}, {\"args\": [{\"visible\": [false, false, true, false, false]}, {\"title\": \"Jazz Ranking\"}], \"label\": \"Jazz\", \"method\": \"update\"}, {\"args\": [{\"visible\": [false, false, false, true, false]}, {\"title\": \"Soul Ranking\"}], \"label\": \"Soul\", \"method\": \"update\"}, {\"args\": [{\"visible\": [false, false, false, false, true]}, {\"title\": \"Folk Ranking\"}], \"label\": \"Folk\", \"method\": \"update\"}, {\"args\": [{\"visible\": [true, true, true, true, true]}, {\"title\": \"All Genres\"}], \"label\": \"All\", \"method\": \"update\"}]}], \"xaxis\": {\"anchor\": \"y\", \"domain\": [0.0, 1.0], \"range\": [1999, 2020]}, \"yaxis\": {\"anchor\": \"x\", \"autorange\": \"reversed\", \"domain\": [0.0, 1.0]}},\n",
       "                        {\"responsive\": true}\n",
       "                    ).then(function(){\n",
       "                            \n",
       "var gd = document.getElementById('b0d17975-5d7d-4f58-a2a1-b6017342d3c1');\n",
       "var x = new MutationObserver(function (mutations, observer) {{\n",
       "        var display = window.getComputedStyle(gd).display;\n",
       "        if (!display || display === 'none') {{\n",
       "            console.log([gd, 'removed!']);\n",
       "            Plotly.purge(gd);\n",
       "            observer.disconnect();\n",
       "        }}\n",
       "}});\n",
       "\n",
       "// Listen for the removal of the full notebook cells\n",
       "var notebookContainer = gd.closest('#notebook-container');\n",
       "if (notebookContainer) {{\n",
       "    x.observe(notebookContainer, {childList: true});\n",
       "}}\n",
       "\n",
       "// Listen for the clearing of the current output cell\n",
       "var outputEl = gd.closest('.output');\n",
       "if (outputEl) {{\n",
       "    x.observe(outputEl, {childList: true});\n",
       "}}\n",
       "\n",
       "                        })\n",
       "                };\n",
       "                });\n",
       "            </script>\n",
       "        </div>"
      ]
     },
     "metadata": {},
     "output_type": "display_data"
    }
   ],
   "source": [
    "figgg.update_layout(\n",
    "    updatemenus=[\n",
    "        dict(\n",
    "            active=0, \n",
    "            buttons=list([\n",
    "                dict(label=\"None\",\n",
    "                     method=\"update\",\n",
    "                     args=[{\"visible\": [False, False, False, False, False]},\n",
    "                           {\"title\": \"Genre Ranking\"}]),\n",
    "                dict(label=\"Rock\", \n",
    "                     method=\"update\",\n",
    "                     args=[{\"visible\": [True, False, False, False, False]},\n",
    "                           {\"title\": \"Rock Ranking\"}]),\n",
    "                dict(label=\"Pop\",\n",
    "                     method=\"update\",\n",
    "                     args=[{\"visible\": [False, True, False, False, False]},\n",
    "                           {\"title\": \"Pop Ranking\"}]),\n",
    "                dict(label=\"Jazz\",\n",
    "                     method=\"update\",\n",
    "                     args=[{\"visible\": [False, False, True, False, False]},\n",
    "                           {\"title\": \"Jazz Ranking\"}]),\n",
    "                dict(label=\"Soul\",\n",
    "                     method=\"update\",\n",
    "                     args=[{\"visible\": [False, False, False, True, False]},\n",
    "                           {\"title\": \"Soul Ranking\"}]),\n",
    "                dict(label=\"Folk\",\n",
    "                     method=\"update\",\n",
    "                     args=[{\"visible\": [False, False, False, False, True]},\n",
    "                           {\"title\": \"Folk Ranking\"}]),\n",
    "                dict(label=\"All\",\n",
    "                     method=\"update\",\n",
    "                     args=[{\"visible\": [True, True, True, True, True]},\n",
    "                           {\"title\": \"All Genres\"}]),\n",
    "            ]),\n",
    "        )\n",
    "    ])\n",
    "\n",
    "\n",
    "figgg.show()"
   ]
  },
  {
   "cell_type": "markdown",
   "metadata": {},
   "source": [
    "### Manuel Approach (issue in plot)"
   ]
  },
  {
   "cell_type": "code",
   "execution_count": 47,
   "metadata": {},
   "outputs": [
    {
     "data": {
      "application/vnd.plotly.v1+json": {
       "config": {
        "plotlyServerURL": "https://plot.ly"
       },
       "data": [
        {
         "line": {
          "color": "#316fd4"
         },
         "mode": "lines+markers",
         "name": "Rock",
         "text": [
          "Bohemian Rhapsody",
          "Bohemian Rhapsody",
          "Bohemian Rhapsody",
          "Bohemian Rhapsody",
          "Bohemian Rhapsody",
          "Bohemian Rhapsody",
          "Bohemian Rhapsody",
          "Bohemian Rhapsody",
          "Bohemian Rhapsody",
          "Bohemian Rhapsody",
          "Bohemian Rhapsody",
          "Bohemian Rhapsody",
          "Bohemian Rhapsody",
          "Bohemian Rhapsody",
          "Bohemian Rhapsody",
          "Bohemian Rhapsody",
          "Bohemian Rhapsody",
          "Bohemian Rhapsody",
          "Bohemian Rhapsody",
          "Bohemian Rhapsody",
          "Bohemian Rhapsody",
          "Bohemian Rhapsody"
         ],
         "type": "scatter",
         "visible": false,
         "x": [
          1975,
          1999,
          2000,
          2001,
          2002,
          2003,
          2004,
          2005,
          2006,
          2007,
          2008,
          2009,
          2010,
          2011,
          2012,
          2013,
          2014,
          2015,
          2016,
          2017,
          2018,
          2019
         ],
         "y": [
          1,
          1,
          1,
          1,
          1,
          1,
          1,
          2,
          1,
          1,
          1,
          1,
          2,
          1,
          1,
          1,
          2,
          2,
          1,
          1,
          1,
          1
         ]
        },
        {
         "line": {
          "color": "#ed72e9"
         },
         "mode": "lines+markers",
         "name": "Pop",
         "text": [
          "Clocks",
          "Clocks",
          "Clocks",
          "Clocks",
          "Clocks",
          "Clocks",
          "Clocks",
          "Clocks",
          "Clocks"
         ],
         "type": "scatter",
         "visible": false,
         "x": [
          2011,
          2012,
          2013,
          2014,
          2015,
          2016,
          2017,
          2018,
          2019
         ],
         "y": [
          10,
          9,
          12,
          20,
          29,
          36,
          46,
          57,
          80
         ]
        },
        {
         "line": {
          "color": "#b07633"
         },
         "mode": "lines+markers",
         "name": "Jazz",
         "text": [
          "Fields of gold",
          "Fields of gold",
          "Fields of gold",
          "Fields of gold",
          "Fields of gold",
          "Fields of gold",
          "Fields of gold",
          "Fields of gold",
          "Fields of gold",
          "Fields of gold",
          "Fields of gold",
          "Fields of gold",
          "Fields of gold",
          "Fields of gold",
          "Fields of gold",
          "Fields of gold"
         ],
         "type": "scatter",
         "visible": false,
         "x": [
          1998,
          2005,
          2006,
          2007,
          2008,
          2009,
          2010,
          2011,
          2012,
          2013,
          2014,
          2015,
          2016,
          2017,
          2018,
          2019
         ],
         "y": [
          227,
          1086,
          514,
          301,
          728,
          377,
          319,
          311,
          373,
          227,
          322,
          354,
          444,
          535,
          584,
          625
         ]
        },
        {
         "line": {
          "color": "#73203c"
         },
         "mode": "lines+markers",
         "name": "Soul",
         "text": [
          "(Sittin' on) the dock of the bay",
          "(Sittin' on) the dock of the bay",
          "(Sittin' on) the dock of the bay",
          "(Sittin' on) the dock of the bay",
          "(Sittin' on) the dock of the bay",
          "(Sittin' on) the dock of the bay",
          "(Sittin' on) the dock of the bay",
          "(Sittin' on) the dock of the bay",
          "(Sittin' on) the dock of the bay",
          "(Sittin' on) the dock of the bay",
          "(Sittin' on) the dock of the bay",
          "(Sittin' on) the dock of the bay",
          "(Sittin' on) the dock of the bay",
          "(Sittin' on) the dock of the bay",
          "(Sittin' on) the dock of the bay",
          "(Sittin' on) the dock of the bay",
          "(Sittin' on) the dock of the bay",
          "(Sittin' on) the dock of the bay",
          "(Sittin' on) the dock of the bay",
          "(Sittin' on) the dock of the bay",
          "(Sittin' on) the dock of the bay",
          "(Sittin' on) the dock of the bay"
         ],
         "type": "scatter",
         "visible": false,
         "x": [
          1968,
          1999,
          2000,
          2001,
          2002,
          2003,
          2004,
          2005,
          2006,
          2007,
          2008,
          2009,
          2010,
          2011,
          2012,
          2013,
          2014,
          2015,
          2016,
          2017,
          2018,
          2019
         ],
         "y": [
          31,
          240,
          450,
          371,
          344,
          239,
          257,
          285,
          253,
          297,
          259,
          195,
          155,
          84,
          31,
          51,
          67,
          82,
          56,
          74,
          90,
          99
         ]
        },
        {
         "line": {
          "color": "#dbd0af"
         },
         "mode": "lines+markers",
         "name": "Folk",
         "text": [
          "Non, je ne regrette rien",
          "Non, je ne regrette rien",
          "Non, je ne regrette rien",
          "Non, je ne regrette rien",
          "Non, je ne regrette rien",
          "Non, je ne regrette rien",
          "Non, je ne regrette rien",
          "Non, je ne regrette rien",
          "Non, je ne regrette rien",
          "Non, je ne regrette rien",
          "Non, je ne regrette rien",
          "Non, je ne regrette rien",
          "Non, je ne regrette rien",
          "Non, je ne regrette rien",
          "Non, je ne regrette rien",
          "Non, je ne regrette rien",
          "Non, je ne regrette rien",
          "Non, je ne regrette rien",
          "Non, je ne regrette rien",
          "Non, je ne regrette rien",
          "Non, je ne regrette rien",
          "Non, je ne regrette rien"
         ],
         "type": "scatter",
         "visible": false,
         "x": [
          1961,
          1961,
          1961,
          1961,
          1961,
          1961,
          1961,
          1961,
          1961,
          1961,
          2008,
          2009,
          2010,
          2011,
          2012,
          2013,
          2014,
          2015,
          2016,
          2017,
          2018,
          2019
         ],
         "y": [
          106,
          106,
          106,
          106,
          106,
          106,
          106,
          106,
          106,
          106,
          224,
          277,
          328,
          263,
          413,
          363,
          427,
          460,
          622,
          582,
          577,
          813
         ]
        }
       ],
       "layout": {
        "hoverlabel": {
         "bgcolor": "white",
         "font": {
          "family": "Rockwell",
          "size": 16
         }
        },
        "legend": {
         "tracegroupgap": 0
        },
        "margin": {
         "t": 60
        },
        "template": {
         "data": {
          "bar": [
           {
            "error_x": {
             "color": "#2a3f5f"
            },
            "error_y": {
             "color": "#2a3f5f"
            },
            "marker": {
             "line": {
              "color": "#E5ECF6",
              "width": 0.5
             }
            },
            "type": "bar"
           }
          ],
          "barpolar": [
           {
            "marker": {
             "line": {
              "color": "#E5ECF6",
              "width": 0.5
             }
            },
            "type": "barpolar"
           }
          ],
          "carpet": [
           {
            "aaxis": {
             "endlinecolor": "#2a3f5f",
             "gridcolor": "white",
             "linecolor": "white",
             "minorgridcolor": "white",
             "startlinecolor": "#2a3f5f"
            },
            "baxis": {
             "endlinecolor": "#2a3f5f",
             "gridcolor": "white",
             "linecolor": "white",
             "minorgridcolor": "white",
             "startlinecolor": "#2a3f5f"
            },
            "type": "carpet"
           }
          ],
          "choropleth": [
           {
            "colorbar": {
             "outlinewidth": 0,
             "ticks": ""
            },
            "type": "choropleth"
           }
          ],
          "contour": [
           {
            "colorbar": {
             "outlinewidth": 0,
             "ticks": ""
            },
            "colorscale": [
             [
              0,
              "#0d0887"
             ],
             [
              0.1111111111111111,
              "#46039f"
             ],
             [
              0.2222222222222222,
              "#7201a8"
             ],
             [
              0.3333333333333333,
              "#9c179e"
             ],
             [
              0.4444444444444444,
              "#bd3786"
             ],
             [
              0.5555555555555556,
              "#d8576b"
             ],
             [
              0.6666666666666666,
              "#ed7953"
             ],
             [
              0.7777777777777778,
              "#fb9f3a"
             ],
             [
              0.8888888888888888,
              "#fdca26"
             ],
             [
              1,
              "#f0f921"
             ]
            ],
            "type": "contour"
           }
          ],
          "contourcarpet": [
           {
            "colorbar": {
             "outlinewidth": 0,
             "ticks": ""
            },
            "type": "contourcarpet"
           }
          ],
          "heatmap": [
           {
            "colorbar": {
             "outlinewidth": 0,
             "ticks": ""
            },
            "colorscale": [
             [
              0,
              "#0d0887"
             ],
             [
              0.1111111111111111,
              "#46039f"
             ],
             [
              0.2222222222222222,
              "#7201a8"
             ],
             [
              0.3333333333333333,
              "#9c179e"
             ],
             [
              0.4444444444444444,
              "#bd3786"
             ],
             [
              0.5555555555555556,
              "#d8576b"
             ],
             [
              0.6666666666666666,
              "#ed7953"
             ],
             [
              0.7777777777777778,
              "#fb9f3a"
             ],
             [
              0.8888888888888888,
              "#fdca26"
             ],
             [
              1,
              "#f0f921"
             ]
            ],
            "type": "heatmap"
           }
          ],
          "heatmapgl": [
           {
            "colorbar": {
             "outlinewidth": 0,
             "ticks": ""
            },
            "colorscale": [
             [
              0,
              "#0d0887"
             ],
             [
              0.1111111111111111,
              "#46039f"
             ],
             [
              0.2222222222222222,
              "#7201a8"
             ],
             [
              0.3333333333333333,
              "#9c179e"
             ],
             [
              0.4444444444444444,
              "#bd3786"
             ],
             [
              0.5555555555555556,
              "#d8576b"
             ],
             [
              0.6666666666666666,
              "#ed7953"
             ],
             [
              0.7777777777777778,
              "#fb9f3a"
             ],
             [
              0.8888888888888888,
              "#fdca26"
             ],
             [
              1,
              "#f0f921"
             ]
            ],
            "type": "heatmapgl"
           }
          ],
          "histogram": [
           {
            "marker": {
             "colorbar": {
              "outlinewidth": 0,
              "ticks": ""
             }
            },
            "type": "histogram"
           }
          ],
          "histogram2d": [
           {
            "colorbar": {
             "outlinewidth": 0,
             "ticks": ""
            },
            "colorscale": [
             [
              0,
              "#0d0887"
             ],
             [
              0.1111111111111111,
              "#46039f"
             ],
             [
              0.2222222222222222,
              "#7201a8"
             ],
             [
              0.3333333333333333,
              "#9c179e"
             ],
             [
              0.4444444444444444,
              "#bd3786"
             ],
             [
              0.5555555555555556,
              "#d8576b"
             ],
             [
              0.6666666666666666,
              "#ed7953"
             ],
             [
              0.7777777777777778,
              "#fb9f3a"
             ],
             [
              0.8888888888888888,
              "#fdca26"
             ],
             [
              1,
              "#f0f921"
             ]
            ],
            "type": "histogram2d"
           }
          ],
          "histogram2dcontour": [
           {
            "colorbar": {
             "outlinewidth": 0,
             "ticks": ""
            },
            "colorscale": [
             [
              0,
              "#0d0887"
             ],
             [
              0.1111111111111111,
              "#46039f"
             ],
             [
              0.2222222222222222,
              "#7201a8"
             ],
             [
              0.3333333333333333,
              "#9c179e"
             ],
             [
              0.4444444444444444,
              "#bd3786"
             ],
             [
              0.5555555555555556,
              "#d8576b"
             ],
             [
              0.6666666666666666,
              "#ed7953"
             ],
             [
              0.7777777777777778,
              "#fb9f3a"
             ],
             [
              0.8888888888888888,
              "#fdca26"
             ],
             [
              1,
              "#f0f921"
             ]
            ],
            "type": "histogram2dcontour"
           }
          ],
          "mesh3d": [
           {
            "colorbar": {
             "outlinewidth": 0,
             "ticks": ""
            },
            "type": "mesh3d"
           }
          ],
          "parcoords": [
           {
            "line": {
             "colorbar": {
              "outlinewidth": 0,
              "ticks": ""
             }
            },
            "type": "parcoords"
           }
          ],
          "pie": [
           {
            "automargin": true,
            "type": "pie"
           }
          ],
          "scatter": [
           {
            "marker": {
             "colorbar": {
              "outlinewidth": 0,
              "ticks": ""
             }
            },
            "type": "scatter"
           }
          ],
          "scatter3d": [
           {
            "line": {
             "colorbar": {
              "outlinewidth": 0,
              "ticks": ""
             }
            },
            "marker": {
             "colorbar": {
              "outlinewidth": 0,
              "ticks": ""
             }
            },
            "type": "scatter3d"
           }
          ],
          "scattercarpet": [
           {
            "marker": {
             "colorbar": {
              "outlinewidth": 0,
              "ticks": ""
             }
            },
            "type": "scattercarpet"
           }
          ],
          "scattergeo": [
           {
            "marker": {
             "colorbar": {
              "outlinewidth": 0,
              "ticks": ""
             }
            },
            "type": "scattergeo"
           }
          ],
          "scattergl": [
           {
            "marker": {
             "colorbar": {
              "outlinewidth": 0,
              "ticks": ""
             }
            },
            "type": "scattergl"
           }
          ],
          "scattermapbox": [
           {
            "marker": {
             "colorbar": {
              "outlinewidth": 0,
              "ticks": ""
             }
            },
            "type": "scattermapbox"
           }
          ],
          "scatterpolar": [
           {
            "marker": {
             "colorbar": {
              "outlinewidth": 0,
              "ticks": ""
             }
            },
            "type": "scatterpolar"
           }
          ],
          "scatterpolargl": [
           {
            "marker": {
             "colorbar": {
              "outlinewidth": 0,
              "ticks": ""
             }
            },
            "type": "scatterpolargl"
           }
          ],
          "scatterternary": [
           {
            "marker": {
             "colorbar": {
              "outlinewidth": 0,
              "ticks": ""
             }
            },
            "type": "scatterternary"
           }
          ],
          "surface": [
           {
            "colorbar": {
             "outlinewidth": 0,
             "ticks": ""
            },
            "colorscale": [
             [
              0,
              "#0d0887"
             ],
             [
              0.1111111111111111,
              "#46039f"
             ],
             [
              0.2222222222222222,
              "#7201a8"
             ],
             [
              0.3333333333333333,
              "#9c179e"
             ],
             [
              0.4444444444444444,
              "#bd3786"
             ],
             [
              0.5555555555555556,
              "#d8576b"
             ],
             [
              0.6666666666666666,
              "#ed7953"
             ],
             [
              0.7777777777777778,
              "#fb9f3a"
             ],
             [
              0.8888888888888888,
              "#fdca26"
             ],
             [
              1,
              "#f0f921"
             ]
            ],
            "type": "surface"
           }
          ],
          "table": [
           {
            "cells": {
             "fill": {
              "color": "#EBF0F8"
             },
             "line": {
              "color": "white"
             }
            },
            "header": {
             "fill": {
              "color": "#C8D4E3"
             },
             "line": {
              "color": "white"
             }
            },
            "type": "table"
           }
          ]
         },
         "layout": {
          "annotationdefaults": {
           "arrowcolor": "#2a3f5f",
           "arrowhead": 0,
           "arrowwidth": 1
          },
          "coloraxis": {
           "colorbar": {
            "outlinewidth": 0,
            "ticks": ""
           }
          },
          "colorscale": {
           "diverging": [
            [
             0,
             "#8e0152"
            ],
            [
             0.1,
             "#c51b7d"
            ],
            [
             0.2,
             "#de77ae"
            ],
            [
             0.3,
             "#f1b6da"
            ],
            [
             0.4,
             "#fde0ef"
            ],
            [
             0.5,
             "#f7f7f7"
            ],
            [
             0.6,
             "#e6f5d0"
            ],
            [
             0.7,
             "#b8e186"
            ],
            [
             0.8,
             "#7fbc41"
            ],
            [
             0.9,
             "#4d9221"
            ],
            [
             1,
             "#276419"
            ]
           ],
           "sequential": [
            [
             0,
             "#0d0887"
            ],
            [
             0.1111111111111111,
             "#46039f"
            ],
            [
             0.2222222222222222,
             "#7201a8"
            ],
            [
             0.3333333333333333,
             "#9c179e"
            ],
            [
             0.4444444444444444,
             "#bd3786"
            ],
            [
             0.5555555555555556,
             "#d8576b"
            ],
            [
             0.6666666666666666,
             "#ed7953"
            ],
            [
             0.7777777777777778,
             "#fb9f3a"
            ],
            [
             0.8888888888888888,
             "#fdca26"
            ],
            [
             1,
             "#f0f921"
            ]
           ],
           "sequentialminus": [
            [
             0,
             "#0d0887"
            ],
            [
             0.1111111111111111,
             "#46039f"
            ],
            [
             0.2222222222222222,
             "#7201a8"
            ],
            [
             0.3333333333333333,
             "#9c179e"
            ],
            [
             0.4444444444444444,
             "#bd3786"
            ],
            [
             0.5555555555555556,
             "#d8576b"
            ],
            [
             0.6666666666666666,
             "#ed7953"
            ],
            [
             0.7777777777777778,
             "#fb9f3a"
            ],
            [
             0.8888888888888888,
             "#fdca26"
            ],
            [
             1,
             "#f0f921"
            ]
           ]
          },
          "colorway": [
           "#636efa",
           "#EF553B",
           "#00cc96",
           "#ab63fa",
           "#FFA15A",
           "#19d3f3",
           "#FF6692",
           "#B6E880",
           "#FF97FF",
           "#FECB52"
          ],
          "font": {
           "color": "#2a3f5f"
          },
          "geo": {
           "bgcolor": "white",
           "lakecolor": "white",
           "landcolor": "#E5ECF6",
           "showlakes": true,
           "showland": true,
           "subunitcolor": "white"
          },
          "hoverlabel": {
           "align": "left"
          },
          "hovermode": "closest",
          "mapbox": {
           "style": "light"
          },
          "paper_bgcolor": "white",
          "plot_bgcolor": "#E5ECF6",
          "polar": {
           "angularaxis": {
            "gridcolor": "white",
            "linecolor": "white",
            "ticks": ""
           },
           "bgcolor": "#E5ECF6",
           "radialaxis": {
            "gridcolor": "white",
            "linecolor": "white",
            "ticks": ""
           }
          },
          "scene": {
           "xaxis": {
            "backgroundcolor": "#E5ECF6",
            "gridcolor": "white",
            "gridwidth": 2,
            "linecolor": "white",
            "showbackground": true,
            "ticks": "",
            "zerolinecolor": "white"
           },
           "yaxis": {
            "backgroundcolor": "#E5ECF6",
            "gridcolor": "white",
            "gridwidth": 2,
            "linecolor": "white",
            "showbackground": true,
            "ticks": "",
            "zerolinecolor": "white"
           },
           "zaxis": {
            "backgroundcolor": "#E5ECF6",
            "gridcolor": "white",
            "gridwidth": 2,
            "linecolor": "white",
            "showbackground": true,
            "ticks": "",
            "zerolinecolor": "white"
           }
          },
          "shapedefaults": {
           "line": {
            "color": "#2a3f5f"
           }
          },
          "ternary": {
           "aaxis": {
            "gridcolor": "white",
            "linecolor": "white",
            "ticks": ""
           },
           "baxis": {
            "gridcolor": "white",
            "linecolor": "white",
            "ticks": ""
           },
           "bgcolor": "#E5ECF6",
           "caxis": {
            "gridcolor": "white",
            "linecolor": "white",
            "ticks": ""
           }
          },
          "title": {
           "x": 0.05
          },
          "xaxis": {
           "automargin": true,
           "gridcolor": "white",
           "linecolor": "white",
           "ticks": "",
           "title": {
            "standoff": 15
           },
           "zerolinecolor": "white",
           "zerolinewidth": 2
          },
          "yaxis": {
           "automargin": true,
           "gridcolor": "white",
           "linecolor": "white",
           "ticks": "",
           "title": {
            "standoff": 15
           },
           "zerolinecolor": "white",
           "zerolinewidth": 2
          }
         }
        },
        "updatemenus": [
         {
          "active": 0,
          "buttons": [
           {
            "args": [
             {
              "visible": [
               true,
               true,
               true,
               true,
               true
              ]
             },
             {
              "title": "Genre Ranking"
             }
            ],
            "label": "None",
            "method": "update"
           },
           {
            "args": [
             {
              "visible": [
               true,
               false,
               false,
               false,
               false
              ]
             },
             {
              "title": "Rock Ranking"
             }
            ],
            "label": "Rock",
            "method": "update"
           },
           {
            "args": [
             {
              "visible": [
               false,
               true,
               false,
               false,
               false
              ]
             },
             {
              "title": "Pop Ranking"
             }
            ],
            "label": "Pop",
            "method": "update"
           },
           {
            "args": [
             {
              "visible": [
               false,
               false,
               true,
               false,
               false
              ]
             },
             {
              "title": "Jazz Ranking"
             }
            ],
            "label": "Jazz",
            "method": "update"
           },
           {
            "args": [
             {
              "visible": [
               false,
               false,
               false,
               true,
               false
              ]
             },
             {
              "title": "Soul Ranking"
             }
            ],
            "label": "Soul",
            "method": "update"
           },
           {
            "args": [
             {
              "visible": [
               false,
               false,
               false,
               false,
               true
              ]
             },
             {
              "title": "Folk Ranking"
             }
            ],
            "label": "Folk",
            "method": "update"
           },
           {
            "args": [
             {
              "visible": [
               true,
               true,
               true,
               true,
               true
              ]
             },
             {
              "title": "All Genres"
             }
            ],
            "label": "All",
            "method": "update"
           }
          ]
         }
        ],
        "xaxis": {
         "anchor": "y",
         "domain": [
          0,
          1
         ],
         "range": [
          1999,
          2020
         ]
        },
        "yaxis": {
         "anchor": "x",
         "autorange": "reversed",
         "domain": [
          0,
          1
         ]
        }
       }
      },
      "text/html": [
       "<div>\n",
       "        \n",
       "        \n",
       "            <div id=\"94f49fb0-44af-4cfa-ab56-a48ba370dbff\" class=\"plotly-graph-div\" style=\"height:525px; width:100%;\"></div>\n",
       "            <script type=\"text/javascript\">\n",
       "                require([\"plotly\"], function(Plotly) {\n",
       "                    window.PLOTLYENV=window.PLOTLYENV || {};\n",
       "                    \n",
       "                if (document.getElementById(\"94f49fb0-44af-4cfa-ab56-a48ba370dbff\")) {\n",
       "                    Plotly.newPlot(\n",
       "                        '94f49fb0-44af-4cfa-ab56-a48ba370dbff',\n",
       "                        [{\"line\": {\"color\": \"#316fd4\"}, \"mode\": \"lines+markers\", \"name\": \"Rock\", \"text\": [\"Bohemian Rhapsody\", \"Bohemian Rhapsody\", \"Bohemian Rhapsody\", \"Bohemian Rhapsody\", \"Bohemian Rhapsody\", \"Bohemian Rhapsody\", \"Bohemian Rhapsody\", \"Bohemian Rhapsody\", \"Bohemian Rhapsody\", \"Bohemian Rhapsody\", \"Bohemian Rhapsody\", \"Bohemian Rhapsody\", \"Bohemian Rhapsody\", \"Bohemian Rhapsody\", \"Bohemian Rhapsody\", \"Bohemian Rhapsody\", \"Bohemian Rhapsody\", \"Bohemian Rhapsody\", \"Bohemian Rhapsody\", \"Bohemian Rhapsody\", \"Bohemian Rhapsody\", \"Bohemian Rhapsody\"], \"type\": \"scatter\", \"visible\": false, \"x\": [1975, 1999, 2000, 2001, 2002, 2003, 2004, 2005, 2006, 2007, 2008, 2009, 2010, 2011, 2012, 2013, 2014, 2015, 2016, 2017, 2018, 2019], \"y\": [1, 1, 1, 1, 1, 1, 1, 2, 1, 1, 1, 1, 2, 1, 1, 1, 2, 2, 1, 1, 1, 1]}, {\"line\": {\"color\": \"#ed72e9\"}, \"mode\": \"lines+markers\", \"name\": \"Pop\", \"text\": [\"Clocks\", \"Clocks\", \"Clocks\", \"Clocks\", \"Clocks\", \"Clocks\", \"Clocks\", \"Clocks\", \"Clocks\"], \"type\": \"scatter\", \"visible\": false, \"x\": [2011, 2012, 2013, 2014, 2015, 2016, 2017, 2018, 2019], \"y\": [10, 9, 12, 20, 29, 36, 46, 57, 80]}, {\"line\": {\"color\": \"#b07633\"}, \"mode\": \"lines+markers\", \"name\": \"Jazz\", \"text\": [\"Fields of gold\", \"Fields of gold\", \"Fields of gold\", \"Fields of gold\", \"Fields of gold\", \"Fields of gold\", \"Fields of gold\", \"Fields of gold\", \"Fields of gold\", \"Fields of gold\", \"Fields of gold\", \"Fields of gold\", \"Fields of gold\", \"Fields of gold\", \"Fields of gold\", \"Fields of gold\"], \"type\": \"scatter\", \"visible\": false, \"x\": [1998, 2005, 2006, 2007, 2008, 2009, 2010, 2011, 2012, 2013, 2014, 2015, 2016, 2017, 2018, 2019], \"y\": [227, 1086, 514, 301, 728, 377, 319, 311, 373, 227, 322, 354, 444, 535, 584, 625]}, {\"line\": {\"color\": \"#73203c\"}, \"mode\": \"lines+markers\", \"name\": \"Soul\", \"text\": [\"(Sittin' on) the dock of the bay\", \"(Sittin' on) the dock of the bay\", \"(Sittin' on) the dock of the bay\", \"(Sittin' on) the dock of the bay\", \"(Sittin' on) the dock of the bay\", \"(Sittin' on) the dock of the bay\", \"(Sittin' on) the dock of the bay\", \"(Sittin' on) the dock of the bay\", \"(Sittin' on) the dock of the bay\", \"(Sittin' on) the dock of the bay\", \"(Sittin' on) the dock of the bay\", \"(Sittin' on) the dock of the bay\", \"(Sittin' on) the dock of the bay\", \"(Sittin' on) the dock of the bay\", \"(Sittin' on) the dock of the bay\", \"(Sittin' on) the dock of the bay\", \"(Sittin' on) the dock of the bay\", \"(Sittin' on) the dock of the bay\", \"(Sittin' on) the dock of the bay\", \"(Sittin' on) the dock of the bay\", \"(Sittin' on) the dock of the bay\", \"(Sittin' on) the dock of the bay\"], \"type\": \"scatter\", \"visible\": false, \"x\": [1968, 1999, 2000, 2001, 2002, 2003, 2004, 2005, 2006, 2007, 2008, 2009, 2010, 2011, 2012, 2013, 2014, 2015, 2016, 2017, 2018, 2019], \"y\": [31, 240, 450, 371, 344, 239, 257, 285, 253, 297, 259, 195, 155, 84, 31, 51, 67, 82, 56, 74, 90, 99]}, {\"line\": {\"color\": \"#dbd0af\"}, \"mode\": \"lines+markers\", \"name\": \"Folk\", \"text\": [\"Non, je ne regrette rien\", \"Non, je ne regrette rien\", \"Non, je ne regrette rien\", \"Non, je ne regrette rien\", \"Non, je ne regrette rien\", \"Non, je ne regrette rien\", \"Non, je ne regrette rien\", \"Non, je ne regrette rien\", \"Non, je ne regrette rien\", \"Non, je ne regrette rien\", \"Non, je ne regrette rien\", \"Non, je ne regrette rien\", \"Non, je ne regrette rien\", \"Non, je ne regrette rien\", \"Non, je ne regrette rien\", \"Non, je ne regrette rien\", \"Non, je ne regrette rien\", \"Non, je ne regrette rien\", \"Non, je ne regrette rien\", \"Non, je ne regrette rien\", \"Non, je ne regrette rien\", \"Non, je ne regrette rien\"], \"type\": \"scatter\", \"visible\": false, \"x\": [1961, 1961, 1961, 1961, 1961, 1961, 1961, 1961, 1961, 1961, 2008, 2009, 2010, 2011, 2012, 2013, 2014, 2015, 2016, 2017, 2018, 2019], \"y\": [106, 106, 106, 106, 106, 106, 106, 106, 106, 106, 224, 277, 328, 263, 413, 363, 427, 460, 622, 582, 577, 813]}],\n",
       "                        {\"hoverlabel\": {\"bgcolor\": \"white\", \"font\": {\"family\": \"Rockwell\", \"size\": 16}}, \"legend\": {\"tracegroupgap\": 0}, \"margin\": {\"t\": 60}, \"template\": {\"data\": {\"bar\": [{\"error_x\": {\"color\": \"#2a3f5f\"}, \"error_y\": {\"color\": \"#2a3f5f\"}, \"marker\": {\"line\": {\"color\": \"#E5ECF6\", \"width\": 0.5}}, \"type\": \"bar\"}], \"barpolar\": [{\"marker\": {\"line\": {\"color\": \"#E5ECF6\", \"width\": 0.5}}, \"type\": \"barpolar\"}], \"carpet\": [{\"aaxis\": {\"endlinecolor\": \"#2a3f5f\", \"gridcolor\": \"white\", \"linecolor\": \"white\", \"minorgridcolor\": \"white\", \"startlinecolor\": \"#2a3f5f\"}, \"baxis\": {\"endlinecolor\": \"#2a3f5f\", \"gridcolor\": \"white\", \"linecolor\": \"white\", \"minorgridcolor\": \"white\", \"startlinecolor\": \"#2a3f5f\"}, \"type\": \"carpet\"}], \"choropleth\": [{\"colorbar\": {\"outlinewidth\": 0, \"ticks\": \"\"}, \"type\": \"choropleth\"}], \"contour\": [{\"colorbar\": {\"outlinewidth\": 0, \"ticks\": \"\"}, \"colorscale\": [[0.0, \"#0d0887\"], [0.1111111111111111, \"#46039f\"], [0.2222222222222222, \"#7201a8\"], [0.3333333333333333, \"#9c179e\"], [0.4444444444444444, \"#bd3786\"], [0.5555555555555556, \"#d8576b\"], [0.6666666666666666, \"#ed7953\"], [0.7777777777777778, \"#fb9f3a\"], [0.8888888888888888, \"#fdca26\"], [1.0, \"#f0f921\"]], \"type\": \"contour\"}], \"contourcarpet\": [{\"colorbar\": {\"outlinewidth\": 0, \"ticks\": \"\"}, \"type\": \"contourcarpet\"}], \"heatmap\": [{\"colorbar\": {\"outlinewidth\": 0, \"ticks\": \"\"}, \"colorscale\": [[0.0, \"#0d0887\"], [0.1111111111111111, \"#46039f\"], [0.2222222222222222, \"#7201a8\"], [0.3333333333333333, \"#9c179e\"], [0.4444444444444444, \"#bd3786\"], [0.5555555555555556, \"#d8576b\"], [0.6666666666666666, \"#ed7953\"], [0.7777777777777778, \"#fb9f3a\"], [0.8888888888888888, \"#fdca26\"], [1.0, \"#f0f921\"]], \"type\": \"heatmap\"}], \"heatmapgl\": [{\"colorbar\": {\"outlinewidth\": 0, \"ticks\": \"\"}, \"colorscale\": [[0.0, \"#0d0887\"], [0.1111111111111111, \"#46039f\"], [0.2222222222222222, \"#7201a8\"], [0.3333333333333333, \"#9c179e\"], [0.4444444444444444, \"#bd3786\"], [0.5555555555555556, \"#d8576b\"], [0.6666666666666666, \"#ed7953\"], [0.7777777777777778, \"#fb9f3a\"], [0.8888888888888888, \"#fdca26\"], [1.0, \"#f0f921\"]], \"type\": \"heatmapgl\"}], \"histogram\": [{\"marker\": {\"colorbar\": {\"outlinewidth\": 0, \"ticks\": \"\"}}, \"type\": \"histogram\"}], \"histogram2d\": [{\"colorbar\": {\"outlinewidth\": 0, \"ticks\": \"\"}, \"colorscale\": [[0.0, \"#0d0887\"], [0.1111111111111111, \"#46039f\"], [0.2222222222222222, \"#7201a8\"], [0.3333333333333333, \"#9c179e\"], [0.4444444444444444, \"#bd3786\"], [0.5555555555555556, \"#d8576b\"], [0.6666666666666666, \"#ed7953\"], [0.7777777777777778, \"#fb9f3a\"], [0.8888888888888888, \"#fdca26\"], [1.0, \"#f0f921\"]], \"type\": \"histogram2d\"}], \"histogram2dcontour\": [{\"colorbar\": {\"outlinewidth\": 0, \"ticks\": \"\"}, \"colorscale\": [[0.0, \"#0d0887\"], [0.1111111111111111, \"#46039f\"], [0.2222222222222222, \"#7201a8\"], [0.3333333333333333, \"#9c179e\"], [0.4444444444444444, \"#bd3786\"], [0.5555555555555556, \"#d8576b\"], [0.6666666666666666, \"#ed7953\"], [0.7777777777777778, \"#fb9f3a\"], [0.8888888888888888, \"#fdca26\"], [1.0, \"#f0f921\"]], \"type\": \"histogram2dcontour\"}], \"mesh3d\": [{\"colorbar\": {\"outlinewidth\": 0, \"ticks\": \"\"}, \"type\": \"mesh3d\"}], \"parcoords\": [{\"line\": {\"colorbar\": {\"outlinewidth\": 0, \"ticks\": \"\"}}, \"type\": \"parcoords\"}], \"pie\": [{\"automargin\": true, \"type\": \"pie\"}], \"scatter\": [{\"marker\": {\"colorbar\": {\"outlinewidth\": 0, \"ticks\": \"\"}}, \"type\": \"scatter\"}], \"scatter3d\": [{\"line\": {\"colorbar\": {\"outlinewidth\": 0, \"ticks\": \"\"}}, \"marker\": {\"colorbar\": {\"outlinewidth\": 0, \"ticks\": \"\"}}, \"type\": \"scatter3d\"}], \"scattercarpet\": [{\"marker\": {\"colorbar\": {\"outlinewidth\": 0, \"ticks\": \"\"}}, \"type\": \"scattercarpet\"}], \"scattergeo\": [{\"marker\": {\"colorbar\": {\"outlinewidth\": 0, \"ticks\": \"\"}}, \"type\": \"scattergeo\"}], \"scattergl\": [{\"marker\": {\"colorbar\": {\"outlinewidth\": 0, \"ticks\": \"\"}}, \"type\": \"scattergl\"}], \"scattermapbox\": [{\"marker\": {\"colorbar\": {\"outlinewidth\": 0, \"ticks\": \"\"}}, \"type\": \"scattermapbox\"}], \"scatterpolar\": [{\"marker\": {\"colorbar\": {\"outlinewidth\": 0, \"ticks\": \"\"}}, \"type\": \"scatterpolar\"}], \"scatterpolargl\": [{\"marker\": {\"colorbar\": {\"outlinewidth\": 0, \"ticks\": \"\"}}, \"type\": \"scatterpolargl\"}], \"scatterternary\": [{\"marker\": {\"colorbar\": {\"outlinewidth\": 0, \"ticks\": \"\"}}, \"type\": \"scatterternary\"}], \"surface\": [{\"colorbar\": {\"outlinewidth\": 0, \"ticks\": \"\"}, \"colorscale\": [[0.0, \"#0d0887\"], [0.1111111111111111, \"#46039f\"], [0.2222222222222222, \"#7201a8\"], [0.3333333333333333, \"#9c179e\"], [0.4444444444444444, \"#bd3786\"], [0.5555555555555556, \"#d8576b\"], [0.6666666666666666, \"#ed7953\"], [0.7777777777777778, \"#fb9f3a\"], [0.8888888888888888, \"#fdca26\"], [1.0, \"#f0f921\"]], \"type\": \"surface\"}], \"table\": [{\"cells\": {\"fill\": {\"color\": \"#EBF0F8\"}, \"line\": {\"color\": \"white\"}}, \"header\": {\"fill\": {\"color\": \"#C8D4E3\"}, \"line\": {\"color\": \"white\"}}, \"type\": \"table\"}]}, \"layout\": {\"annotationdefaults\": {\"arrowcolor\": \"#2a3f5f\", \"arrowhead\": 0, \"arrowwidth\": 1}, \"coloraxis\": {\"colorbar\": {\"outlinewidth\": 0, \"ticks\": \"\"}}, \"colorscale\": {\"diverging\": [[0, \"#8e0152\"], [0.1, \"#c51b7d\"], [0.2, \"#de77ae\"], [0.3, \"#f1b6da\"], [0.4, \"#fde0ef\"], [0.5, \"#f7f7f7\"], [0.6, \"#e6f5d0\"], [0.7, \"#b8e186\"], [0.8, \"#7fbc41\"], [0.9, \"#4d9221\"], [1, \"#276419\"]], \"sequential\": [[0.0, \"#0d0887\"], [0.1111111111111111, \"#46039f\"], [0.2222222222222222, \"#7201a8\"], [0.3333333333333333, \"#9c179e\"], [0.4444444444444444, \"#bd3786\"], [0.5555555555555556, \"#d8576b\"], [0.6666666666666666, \"#ed7953\"], [0.7777777777777778, \"#fb9f3a\"], [0.8888888888888888, \"#fdca26\"], [1.0, \"#f0f921\"]], \"sequentialminus\": [[0.0, \"#0d0887\"], [0.1111111111111111, \"#46039f\"], [0.2222222222222222, \"#7201a8\"], [0.3333333333333333, \"#9c179e\"], [0.4444444444444444, \"#bd3786\"], [0.5555555555555556, \"#d8576b\"], [0.6666666666666666, \"#ed7953\"], [0.7777777777777778, \"#fb9f3a\"], [0.8888888888888888, \"#fdca26\"], [1.0, \"#f0f921\"]]}, \"colorway\": [\"#636efa\", \"#EF553B\", \"#00cc96\", \"#ab63fa\", \"#FFA15A\", \"#19d3f3\", \"#FF6692\", \"#B6E880\", \"#FF97FF\", \"#FECB52\"], \"font\": {\"color\": \"#2a3f5f\"}, \"geo\": {\"bgcolor\": \"white\", \"lakecolor\": \"white\", \"landcolor\": \"#E5ECF6\", \"showlakes\": true, \"showland\": true, \"subunitcolor\": \"white\"}, \"hoverlabel\": {\"align\": \"left\"}, \"hovermode\": \"closest\", \"mapbox\": {\"style\": \"light\"}, \"paper_bgcolor\": \"white\", \"plot_bgcolor\": \"#E5ECF6\", \"polar\": {\"angularaxis\": {\"gridcolor\": \"white\", \"linecolor\": \"white\", \"ticks\": \"\"}, \"bgcolor\": \"#E5ECF6\", \"radialaxis\": {\"gridcolor\": \"white\", \"linecolor\": \"white\", \"ticks\": \"\"}}, \"scene\": {\"xaxis\": {\"backgroundcolor\": \"#E5ECF6\", \"gridcolor\": \"white\", \"gridwidth\": 2, \"linecolor\": \"white\", \"showbackground\": true, \"ticks\": \"\", \"zerolinecolor\": \"white\"}, \"yaxis\": {\"backgroundcolor\": \"#E5ECF6\", \"gridcolor\": \"white\", \"gridwidth\": 2, \"linecolor\": \"white\", \"showbackground\": true, \"ticks\": \"\", \"zerolinecolor\": \"white\"}, \"zaxis\": {\"backgroundcolor\": \"#E5ECF6\", \"gridcolor\": \"white\", \"gridwidth\": 2, \"linecolor\": \"white\", \"showbackground\": true, \"ticks\": \"\", \"zerolinecolor\": \"white\"}}, \"shapedefaults\": {\"line\": {\"color\": \"#2a3f5f\"}}, \"ternary\": {\"aaxis\": {\"gridcolor\": \"white\", \"linecolor\": \"white\", \"ticks\": \"\"}, \"baxis\": {\"gridcolor\": \"white\", \"linecolor\": \"white\", \"ticks\": \"\"}, \"bgcolor\": \"#E5ECF6\", \"caxis\": {\"gridcolor\": \"white\", \"linecolor\": \"white\", \"ticks\": \"\"}}, \"title\": {\"x\": 0.05}, \"xaxis\": {\"automargin\": true, \"gridcolor\": \"white\", \"linecolor\": \"white\", \"ticks\": \"\", \"title\": {\"standoff\": 15}, \"zerolinecolor\": \"white\", \"zerolinewidth\": 2}, \"yaxis\": {\"automargin\": true, \"gridcolor\": \"white\", \"linecolor\": \"white\", \"ticks\": \"\", \"title\": {\"standoff\": 15}, \"zerolinecolor\": \"white\", \"zerolinewidth\": 2}}}, \"updatemenus\": [{\"active\": 0, \"buttons\": [{\"args\": [{\"visible\": [true, true, true, true, true]}, {\"title\": \"Genre Ranking\"}], \"label\": \"None\", \"method\": \"update\"}, {\"args\": [{\"visible\": [true, false, false, false, false]}, {\"title\": \"Rock Ranking\"}], \"label\": \"Rock\", \"method\": \"update\"}, {\"args\": [{\"visible\": [false, true, false, false, false]}, {\"title\": \"Pop Ranking\"}], \"label\": \"Pop\", \"method\": \"update\"}, {\"args\": [{\"visible\": [false, false, true, false, false]}, {\"title\": \"Jazz Ranking\"}], \"label\": \"Jazz\", \"method\": \"update\"}, {\"args\": [{\"visible\": [false, false, false, true, false]}, {\"title\": \"Soul Ranking\"}], \"label\": \"Soul\", \"method\": \"update\"}, {\"args\": [{\"visible\": [false, false, false, false, true]}, {\"title\": \"Folk Ranking\"}], \"label\": \"Folk\", \"method\": \"update\"}, {\"args\": [{\"visible\": [true, true, true, true, true]}, {\"title\": \"All Genres\"}], \"label\": \"All\", \"method\": \"update\"}]}], \"xaxis\": {\"anchor\": \"y\", \"domain\": [0.0, 1.0], \"range\": [1999, 2020]}, \"yaxis\": {\"anchor\": \"x\", \"autorange\": \"reversed\", \"domain\": [0.0, 1.0]}},\n",
       "                        {\"responsive\": true}\n",
       "                    ).then(function(){\n",
       "                            \n",
       "var gd = document.getElementById('94f49fb0-44af-4cfa-ab56-a48ba370dbff');\n",
       "var x = new MutationObserver(function (mutations, observer) {{\n",
       "        var display = window.getComputedStyle(gd).display;\n",
       "        if (!display || display === 'none') {{\n",
       "            console.log([gd, 'removed!']);\n",
       "            Plotly.purge(gd);\n",
       "            observer.disconnect();\n",
       "        }}\n",
       "}});\n",
       "\n",
       "// Listen for the removal of the full notebook cells\n",
       "var notebookContainer = gd.closest('#notebook-container');\n",
       "if (notebookContainer) {{\n",
       "    x.observe(notebookContainer, {childList: true});\n",
       "}}\n",
       "\n",
       "// Listen for the clearing of the current output cell\n",
       "var outputEl = gd.closest('.output');\n",
       "if (outputEl) {{\n",
       "    x.observe(outputEl, {childList: true});\n",
       "}}\n",
       "\n",
       "                        })\n",
       "                };\n",
       "                });\n",
       "            </script>\n",
       "        </div>"
      ]
     },
     "metadata": {},
     "output_type": "display_data"
    }
   ],
   "source": [
    "specific_rock = sample_set_two.loc[sample_set['genre'] == \"rock\"]\n",
    "#specific_rock = specific_rock.sort_values(['bill_year'], ascending=True)\n",
    "\n",
    "specific_pop = sample_set_two.loc[sample_set['genre'] == \"pop\"]\n",
    "#specific_pop = specific_pop.sort_values(['bill_year'], ascending=True)\n",
    "\n",
    "specific_jazz = sample_set_two.loc[sample_set['genre'] == \"jazz\"]\n",
    "#specific_jazz = specific_jazz.sort_values(['bill_year'], ascending=True)\n",
    "\n",
    "specific_soul= sample_set_two.loc[sample_set['genre'] == \"soul\"]\n",
    "#specific_soul = specific_jazz.sort_values(['bill_year'], ascending=True)\n",
    "\n",
    "specific_folk = sample_set_two.loc[sample_set['genre'] == \"folk\"]\n",
    "#specific_folk = specific_folk.sort_values(['bill_year'], ascending=True)\n",
    "\n",
    "fig_2 = px.line()\n",
    "\n",
    "# Add Traces\n",
    "\n",
    "fig_2.add_trace(\n",
    "    go.Scatter(x=list(specific_rock.bill_year),\n",
    "               y=list(specific_rock.bill_ranking),\n",
    "               name=\"Rock\",\n",
    "               visible=False, text=specific_rock['title'],\n",
    "               line=dict(color=\"#316fd4\"), mode='lines+markers'))\n",
    "fig_2.add_trace(\n",
    "    go.Scatter(x=list(specific_pop.bill_year),\n",
    "               y=list(specific_pop.bill_ranking),\n",
    "               name=\"Pop\",text=specific_pop['title'], \n",
    "               visible=False, \n",
    "               line=dict(color=\"#ed72e9\"), mode='lines+markers'))\n",
    "\n",
    "fig_2.add_trace(\n",
    "    go.Scatter(x=list(specific_jazz.bill_year),\n",
    "               y=list(specific_jazz.bill_ranking),\n",
    "               name=\"Jazz\",text=specific_jazz['title'],\n",
    "               visible=False,\n",
    "               line=dict(color=\"#b07633\"), mode='lines+markers'))\n",
    "fig_2.add_trace(\n",
    "    go.Scatter(x=list(specific_soul.bill_year),\n",
    "               y=list(specific_soul.bill_ranking),\n",
    "               name=\"Soul\",text=specific_soul['title'],\n",
    "               visible=False,\n",
    "               line=dict(color=\"#73203c\"), mode='lines+markers'))\n",
    "fig_2.add_trace(\n",
    "    go.Scatter(x=list(specific_folk.bill_year),\n",
    "               y=list(specific_folk.bill_ranking),\n",
    "               name=\"Folk\",text=specific_folk['title'],\n",
    "               visible=False,\n",
    "               line=dict(color=\"#dbd0af\"), mode='lines+markers'))\n",
    "\n",
    "fig_2.update_yaxes(autorange=\"reversed\")\n",
    "\n",
    "fig_2.update_layout(xaxis_range=[1999,2020])\n",
    "\n",
    "fig_2.update_layout(\n",
    "    hoverlabel=dict(\n",
    "        bgcolor=\"white\", \n",
    "        font_size=16, \n",
    "        font_family=\"Rockwell\"\n",
    "    )\n",
    ")\n",
    "\n",
    "\n",
    "fig_2.update_layout(\n",
    "    updatemenus=[\n",
    "        dict(\n",
    "            active=0, \n",
    "            buttons=list([\n",
    "                dict(label=\"None\",\n",
    "                     method=\"update\",\n",
    "                     args=[{\"visible\": [True, True, True, True, True]},\n",
    "                           {\"title\": \"Genre Ranking\"}]),\n",
    "                dict(label=\"Rock\", \n",
    "                     method=\"update\",\n",
    "                     args=[{\"visible\": [True, False, False, False, False]},\n",
    "                           {\"title\": \"Rock Ranking\"}]),\n",
    "                dict(label=\"Pop\",\n",
    "                     method=\"update\",\n",
    "                     args=[{\"visible\": [False, True, False, False, False]},\n",
    "                           {\"title\": \"Pop Ranking\"}]),\n",
    "                dict(label=\"Jazz\",\n",
    "                     method=\"update\",\n",
    "                     args=[{\"visible\": [False, False, True, False, False]},\n",
    "                           {\"title\": \"Jazz Ranking\"}]),\n",
    "                dict(label=\"Soul\",\n",
    "                     method=\"update\",\n",
    "                     args=[{\"visible\": [False, False, False, True, False]},\n",
    "                           {\"title\": \"Soul Ranking\"}]),\n",
    "                dict(label=\"Folk\",\n",
    "                     method=\"update\",\n",
    "                     args=[{\"visible\": [False, False, False, False, True]},\n",
    "                           {\"title\": \"Folk Ranking\"}]),\n",
    "                dict(label=\"All\",\n",
    "                     method=\"update\",\n",
    "                     args=[{\"visible\": [True, True, True, True, True]},\n",
    "                           {\"title\": \"All Genres\"}]),\n",
    "            ]),\n",
    "        )\n",
    "    ])\n",
    "\n",
    "\n",
    "fig_2.show()"
   ]
  },
  {
   "cell_type": "markdown",
   "metadata": {},
   "source": [
    "### V2"
   ]
  },
  {
   "cell_type": "code",
   "execution_count": 163,
   "metadata": {},
   "outputs": [
    {
     "data": {
      "application/vnd.plotly.v1+json": {
       "config": {
        "plotlyServerURL": "https://plot.ly"
       },
       "data": [
        {
         "line": {
          "color": "#33CFA5"
         },
         "mode": "lines+markers",
         "name": "Rock",
         "text": [
          "Avond",
          "Avond",
          "Avond",
          "Avond",
          "Avond",
          "Avond",
          "Avond",
          "Avond",
          "Avond",
          "Avond",
          "Avond",
          "Avond",
          "Avond",
          "Avond",
          "Avond",
          "Avond",
          "Avond",
          "Avond",
          "Avond",
          "Avond",
          "Avond",
          "Avond",
          "Bohemian Rhapsody",
          "Bohemian Rhapsody",
          "Bohemian Rhapsody",
          "Bohemian Rhapsody",
          "Bohemian Rhapsody",
          "Bohemian Rhapsody",
          "Bohemian Rhapsody",
          "Bohemian Rhapsody",
          "Bohemian Rhapsody",
          "Bohemian Rhapsody",
          "Bohemian Rhapsody",
          "Bohemian Rhapsody",
          "Bohemian Rhapsody",
          "Bohemian Rhapsody",
          "Bohemian Rhapsody",
          "Bohemian Rhapsody",
          "Bohemian Rhapsody",
          "Bohemian Rhapsody",
          "Bohemian Rhapsody",
          "Bohemian Rhapsody",
          "Bohemian Rhapsody",
          "Bohemian Rhapsody",
          "Hotel California",
          "Hotel California",
          "Hotel California",
          "Hotel California",
          "Hotel California",
          "Hotel California",
          "Hotel California",
          "Hotel California",
          "Hotel California",
          "Hotel California",
          "Hotel California",
          "Hotel California",
          "Hotel California",
          "Hotel California",
          "Hotel California",
          "Hotel California",
          "Hotel California",
          "Hotel California",
          "Hotel California",
          "Hotel California",
          "Hotel California",
          "Hotel California",
          "Imagine",
          "Imagine",
          "Imagine",
          "Imagine",
          "Imagine",
          "Imagine",
          "Imagine",
          "Imagine",
          "Imagine",
          "Imagine",
          "Imagine",
          "Imagine",
          "Imagine",
          "Imagine",
          "Imagine",
          "Imagine",
          "Imagine",
          "Imagine",
          "Imagine",
          "Imagine",
          "Imagine",
          "Imagine"
         ],
         "type": "scatter",
         "visible": false,
         "x": [
          2019,
          2018,
          2017,
          2016,
          2015,
          2014,
          2013,
          2012,
          2011,
          2010,
          2009,
          2008,
          2007,
          2006,
          2005,
          2004,
          2003,
          2002,
          2001,
          2000,
          1999,
          1997,
          2019,
          2018,
          2017,
          2016,
          2015,
          2014,
          2013,
          2012,
          2011,
          2010,
          2009,
          2008,
          2007,
          2006,
          2005,
          2004,
          2003,
          2002,
          2001,
          2000,
          1999,
          1975,
          2019,
          2018,
          2017,
          2016,
          2015,
          2014,
          2013,
          2012,
          2011,
          2010,
          2009,
          2008,
          2007,
          2006,
          2005,
          2004,
          2003,
          2002,
          2001,
          2000,
          1999,
          1977,
          2019,
          2018,
          2017,
          2016,
          2015,
          2014,
          2013,
          2012,
          2011,
          2010,
          2009,
          2008,
          2007,
          2006,
          2005,
          2004,
          2003,
          2002,
          2001,
          2000,
          1999,
          1971
         ],
         "y": [
          6,
          10,
          9,
          6,
          7,
          5,
          5,
          5,
          4,
          3,
          3,
          3,
          2,
          2,
          1,
          5,
          8,
          25,
          41,
          121,
          428,
          1,
          1,
          1,
          1,
          1,
          2,
          2,
          1,
          1,
          1,
          2,
          1,
          1,
          1,
          1,
          2,
          1,
          1,
          1,
          1,
          1,
          1,
          1,
          2,
          2,
          2,
          2,
          3,
          1,
          2,
          2,
          2,
          1,
          2,
          2,
          3,
          3,
          3,
          2,
          2,
          3,
          3,
          4,
          2,
          1,
          29,
          16,
          16,
          12,
          1,
          38,
          23,
          22,
          28,
          26,
          41,
          15,
          41,
          15,
          15,
          9,
          13,
          11,
          11,
          7,
          7,
          1
         ]
        },
        {
         "line": {
          "color": "#4287f5"
         },
         "mode": "lines+markers",
         "name": "Pop",
         "text": [
          "Angels",
          "Angels",
          "Angels",
          "Angels",
          "Angels",
          "Angels",
          "Angels",
          "Angels",
          "Angels",
          "Angels",
          "Angels",
          "Angels",
          "Angels",
          "Angels",
          "Angels",
          "Angels",
          "Angels",
          "Angels",
          "Angels",
          "Clocks",
          "Clocks",
          "Clocks",
          "Clocks",
          "Clocks",
          "Clocks",
          "Clocks",
          "Clocks",
          "Clocks",
          "Fix You",
          "Fix You",
          "Fix You",
          "Fix You",
          "Fix You",
          "Fix You",
          "Fix You",
          "Fix You",
          "Fix You",
          "Fix You",
          "Fix You",
          "Someone like you",
          "Someone like you",
          "Someone like you",
          "Someone like you",
          "Someone like you",
          "Someone like you",
          "Someone like you",
          "Someone like you",
          "Someone like you"
         ],
         "type": "scatter",
         "visible": false,
         "x": [
          2001,
          2002,
          2003,
          2004,
          2005,
          2006,
          2007,
          2008,
          2009,
          2010,
          2011,
          2012,
          2013,
          2014,
          2015,
          2016,
          2017,
          2018,
          2019,
          2011,
          2012,
          2013,
          2014,
          2015,
          2016,
          2017,
          2018,
          2019,
          2009,
          2010,
          2011,
          2012,
          2013,
          2014,
          2015,
          2016,
          2017,
          2018,
          2019,
          2011,
          2012,
          2013,
          2014,
          2015,
          2016,
          2017,
          2018,
          2019
         ],
         "y": [
          364,
          114,
          24,
          44,
          11,
          18,
          39,
          24,
          34,
          37,
          55,
          41,
          40,
          75,
          80,
          74,
          68,
          76,
          89,
          10,
          9,
          12,
          20,
          29,
          36,
          46,
          57,
          80,
          1494,
          235,
          69,
          40,
          20,
          15,
          10,
          11,
          8,
          9,
          8,
          6,
          8,
          25,
          35,
          18,
          47,
          89,
          97,
          126
         ]
        },
        {
         "line": {
          "color": "#4287f5"
         },
         "mode": "lines+markers",
         "name": "Jazz",
         "text": [
          "Fields of gold",
          "Fields of gold",
          "Fields of gold",
          "Fields of gold",
          "Fields of gold",
          "Fields of gold",
          "Fields of gold",
          "Fields of gold",
          "Fields of gold",
          "Fields of gold",
          "Fields of gold",
          "Fields of gold",
          "Fields of gold",
          "Fields of gold",
          "Fields of gold",
          "Fields of gold",
          "Nine Million Bicycles",
          "Nine Million Bicycles",
          "Nine Million Bicycles",
          "Nine Million Bicycles",
          "Nine Million Bicycles",
          "Nine Million Bicycles",
          "Nine Million Bicycles",
          "Nine Million Bicycles",
          "Nine Million Bicycles",
          "Nine Million Bicycles",
          "Nine Million Bicycles",
          "Nine Million Bicycles",
          "Nine Million Bicycles",
          "Nine Million Bicycles",
          "Nine Million Bicycles",
          "Nine Million Bicycles",
          "Take Five",
          "Take Five",
          "Take Five",
          "Take Five",
          "Take Five",
          "Take Five",
          "Take Five",
          "Take Five",
          "Take Five",
          "Take Five",
          "Take Five",
          "Take Five",
          "Take Five",
          "Take Five",
          "Take Five",
          "Take Five",
          "Take Five",
          "Take Five",
          "Take Five",
          "Take Five",
          "Take Five",
          "Take Five",
          "Don't Know Why",
          "Don't Know Why",
          "Don't Know Why",
          "Don't Know Why",
          "Don't Know Why",
          "Don't Know Why",
          "Don't Know Why",
          "Don't Know Why",
          "Don't Know Why",
          "Don't Know Why",
          "Don't Know Why",
          "Don't Know Why",
          "Don't Know Why",
          "Don't Know Why",
          "Don't Know Why",
          "Don't Know Why",
          "Don't Know Why"
         ],
         "type": "scatter",
         "visible": false,
         "x": [
          1998,
          2005,
          2006,
          2007,
          2008,
          2009,
          2010,
          2011,
          2012,
          2013,
          2014,
          2015,
          2016,
          2017,
          2018,
          2019,
          2005,
          2005,
          2006,
          2007,
          2008,
          2009,
          2010,
          2011,
          2012,
          2013,
          2014,
          2015,
          2016,
          2017,
          2018,
          2019,
          1962,
          1999,
          2003,
          2004,
          2013,
          2002,
          2012,
          2008,
          2014,
          2009,
          2006,
          2005,
          2007,
          2000,
          2010,
          2011,
          2001,
          2015,
          2017,
          2016,
          2018,
          2019,
          2002,
          2004,
          2005,
          2008,
          2006,
          2009,
          2007,
          2010,
          2013,
          2012,
          2011,
          2014,
          2015,
          2018,
          2016,
          2019,
          2017
         ],
         "y": [
          227,
          1086,
          514,
          301,
          728,
          377,
          319,
          311,
          373,
          227,
          322,
          354,
          444,
          535,
          584,
          625,
          23,
          23,
          32,
          40,
          58,
          119,
          125,
          214,
          379,
          412,
          472,
          616,
          776,
          845,
          966,
          1110,
          279,
          279,
          392,
          485,
          506,
          526,
          529,
          537,
          550,
          577,
          586,
          602,
          604,
          621,
          724,
          734,
          741,
          829,
          976,
          1165,
          1224,
          1298,
          314,
          314,
          361,
          674,
          685,
          806,
          819,
          914,
          928,
          982,
          1112,
          1245,
          1298,
          1388,
          1547,
          1660,
          1828
         ]
        },
        {
         "line": {
          "color": "#4287f5"
         },
         "mode": "lines+markers",
         "name": "Soul",
         "text": [
          "(Sittin' on) the dock of the bay",
          "(Sittin' on) the dock of the bay",
          "(Sittin' on) the dock of the bay",
          "(Sittin' on) the dock of the bay",
          "(Sittin' on) the dock of the bay",
          "(Sittin' on) the dock of the bay",
          "(Sittin' on) the dock of the bay",
          "(Sittin' on) the dock of the bay",
          "(Sittin' on) the dock of the bay",
          "(Sittin' on) the dock of the bay",
          "(Sittin' on) the dock of the bay",
          "(Sittin' on) the dock of the bay",
          "(Sittin' on) the dock of the bay",
          "(Sittin' on) the dock of the bay",
          "(Sittin' on) the dock of the bay",
          "(Sittin' on) the dock of the bay",
          "(Sittin' on) the dock of the bay",
          "(Sittin' on) the dock of the bay",
          "(Sittin' on) the dock of the bay",
          "(Sittin' on) the dock of the bay",
          "(Sittin' on) the dock of the bay",
          "(Sittin' on) the dock of the bay",
          "Back to black",
          "Back to black",
          "Back to black",
          "Back to black",
          "Back to black",
          "Back to black",
          "Back to black",
          "Back to black",
          "Back to black",
          "Valerie",
          "Valerie",
          "Valerie",
          "Valerie",
          "Valerie",
          "Valerie",
          "Valerie",
          "Valerie",
          "Valerie",
          "Valerie",
          "Valerie",
          "September",
          "September",
          "September",
          "September",
          "September",
          "September",
          "September",
          "September",
          "September",
          "September",
          "September",
          "September",
          "September",
          "September",
          "September",
          "September",
          "September",
          "September",
          "September",
          "September",
          "September",
          "September"
         ],
         "type": "scatter",
         "visible": false,
         "x": [
          1968,
          1999,
          2000,
          2001,
          2002,
          2003,
          2004,
          2005,
          2006,
          2007,
          2008,
          2009,
          2010,
          2011,
          2012,
          2013,
          2014,
          2015,
          2016,
          2017,
          2018,
          2019,
          2011,
          2012,
          2013,
          2014,
          2015,
          2016,
          2017,
          2018,
          2019,
          2009,
          2010,
          2011,
          2012,
          2013,
          2014,
          2015,
          2016,
          2017,
          2018,
          2019,
          1979,
          1999,
          2000,
          2001,
          2002,
          2003,
          2004,
          2005,
          2006,
          2007,
          2008,
          2009,
          2010,
          2011,
          2012,
          2013,
          2014,
          2015,
          2016,
          2017,
          2018,
          2019
         ],
         "y": [
          31,
          240,
          450,
          371,
          344,
          239,
          257,
          285,
          253,
          297,
          259,
          195,
          155,
          84,
          31,
          51,
          67,
          82,
          56,
          74,
          90,
          99,
          1089,
          97,
          175,
          153,
          98,
          45,
          57,
          43,
          58,
          253,
          236,
          72,
          139,
          203,
          522,
          532,
          646,
          509,
          317,
          357,
          117,
          550,
          764,
          814,
          689,
          833,
          854,
          1043,
          813,
          1109,
          885,
          875,
          687,
          793,
          472,
          290,
          279,
          243,
          147,
          149,
          117,
          170
         ]
        },
        {
         "line": {
          "color": "#4287f5"
         },
         "mode": "lines+markers",
         "name": "Folk",
         "text": [
          "Non, je ne regrette rien",
          "Non, je ne regrette rien",
          "Non, je ne regrette rien",
          "Non, je ne regrette rien",
          "Non, je ne regrette rien",
          "Non, je ne regrette rien",
          "Non, je ne regrette rien",
          "Non, je ne regrette rien",
          "Non, je ne regrette rien",
          "Non, je ne regrette rien",
          "Non, je ne regrette rien",
          "Non, je ne regrette rien",
          "Non, je ne regrette rien",
          "Non, je ne regrette rien",
          "Non, je ne regrette rien",
          "Non, je ne regrette rien",
          "Non, je ne regrette rien",
          "Non, je ne regrette rien",
          "Non, je ne regrette rien",
          "Non, je ne regrette rien",
          "Non, je ne regrette rien",
          "Non, je ne regrette rien",
          "She",
          "She",
          "She",
          "She",
          "She",
          "She",
          "She",
          "She",
          "She",
          "She",
          "She",
          "She",
          "She",
          "She",
          "She",
          "She",
          "She",
          "She",
          "She",
          "She",
          "She",
          "She",
          "Vous permettez, monsieur?",
          "Vous permettez, monsieur?",
          "Vous permettez, monsieur?",
          "Vous permettez, monsieur?",
          "Vous permettez, monsieur?",
          "Vous permettez, monsieur?",
          "Vous permettez, monsieur?",
          "Vous permettez, monsieur?",
          "Vous permettez, monsieur?",
          "Vous permettez, monsieur?",
          "Vous permettez, monsieur?",
          "Vous permettez, monsieur?",
          "Vous permettez, monsieur?",
          "Vous permettez, monsieur?",
          "Vous permettez, monsieur?",
          "Vous permettez, monsieur?",
          "Vous permettez, monsieur?",
          "Vous permettez, monsieur?",
          "Oude Maasweg",
          "Oude Maasweg",
          "Oude Maasweg",
          "Oude Maasweg",
          "Oude Maasweg",
          "Oude Maasweg",
          "Oude Maasweg",
          "Oude Maasweg",
          "Oude Maasweg",
          "Oude Maasweg",
          "Oude Maasweg",
          "Oude Maasweg",
          "Oude Maasweg",
          "Oude Maasweg",
          "Oude Maasweg",
          "Oude Maasweg",
          "Oude Maasweg",
          "Oude Maasweg",
          "Oude Maasweg",
          "Oude Maasweg",
          "Oude Maasweg",
          "Oude Maasweg"
         ],
         "type": "scatter",
         "visible": false,
         "x": [
          1961,
          1961,
          1961,
          1961,
          1961,
          1961,
          1961,
          1961,
          1961,
          1961,
          2008,
          2009,
          2010,
          2011,
          2012,
          2013,
          2014,
          2015,
          2016,
          2017,
          2018,
          2019,
          1974,
          1999,
          2000,
          2001,
          2002,
          2003,
          2004,
          2005,
          2006,
          2007,
          2008,
          2009,
          2010,
          2011,
          2012,
          2013,
          2014,
          2015,
          2016,
          2017,
          2018,
          2019,
          1964,
          1999,
          2000,
          2001,
          2002,
          2003,
          2004,
          2005,
          2006,
          2007,
          2008,
          2009,
          2010,
          2011,
          2012,
          2013,
          2014,
          2015,
          1982,
          1999,
          2000,
          2001,
          2002,
          2003,
          2004,
          2005,
          2006,
          2007,
          2008,
          2009,
          2010,
          2011,
          2012,
          2013,
          2014,
          2015,
          2016,
          2017,
          2018,
          2019
         ],
         "y": [
          106,
          106,
          106,
          106,
          106,
          106,
          106,
          106,
          106,
          106,
          224,
          277,
          328,
          263,
          413,
          363,
          427,
          460,
          622,
          582,
          577,
          813,
          118,
          343,
          1079,
          542,
          229,
          236,
          175,
          183,
          149,
          118,
          147,
          141,
          140,
          158,
          210,
          169,
          137,
          143,
          169,
          196,
          174,
          242,
          146,
          358,
          337,
          318,
          277,
          333,
          243,
          232,
          272,
          146,
          209,
          664,
          492,
          635,
          1243,
          1484,
          1646,
          1862,
          16,
          191,
          112,
          46,
          44,
          49,
          69,
          26,
          38,
          16,
          29,
          66,
          49,
          81,
          103,
          108,
          125,
          149,
          146,
          153,
          217,
          199
         ]
        }
       ],
       "layout": {
        "legend": {
         "tracegroupgap": 0
        },
        "margin": {
         "t": 60
        },
        "template": {
         "data": {
          "bar": [
           {
            "error_x": {
             "color": "#2a3f5f"
            },
            "error_y": {
             "color": "#2a3f5f"
            },
            "marker": {
             "line": {
              "color": "#E5ECF6",
              "width": 0.5
             }
            },
            "type": "bar"
           }
          ],
          "barpolar": [
           {
            "marker": {
             "line": {
              "color": "#E5ECF6",
              "width": 0.5
             }
            },
            "type": "barpolar"
           }
          ],
          "carpet": [
           {
            "aaxis": {
             "endlinecolor": "#2a3f5f",
             "gridcolor": "white",
             "linecolor": "white",
             "minorgridcolor": "white",
             "startlinecolor": "#2a3f5f"
            },
            "baxis": {
             "endlinecolor": "#2a3f5f",
             "gridcolor": "white",
             "linecolor": "white",
             "minorgridcolor": "white",
             "startlinecolor": "#2a3f5f"
            },
            "type": "carpet"
           }
          ],
          "choropleth": [
           {
            "colorbar": {
             "outlinewidth": 0,
             "ticks": ""
            },
            "type": "choropleth"
           }
          ],
          "contour": [
           {
            "colorbar": {
             "outlinewidth": 0,
             "ticks": ""
            },
            "colorscale": [
             [
              0,
              "#0d0887"
             ],
             [
              0.1111111111111111,
              "#46039f"
             ],
             [
              0.2222222222222222,
              "#7201a8"
             ],
             [
              0.3333333333333333,
              "#9c179e"
             ],
             [
              0.4444444444444444,
              "#bd3786"
             ],
             [
              0.5555555555555556,
              "#d8576b"
             ],
             [
              0.6666666666666666,
              "#ed7953"
             ],
             [
              0.7777777777777778,
              "#fb9f3a"
             ],
             [
              0.8888888888888888,
              "#fdca26"
             ],
             [
              1,
              "#f0f921"
             ]
            ],
            "type": "contour"
           }
          ],
          "contourcarpet": [
           {
            "colorbar": {
             "outlinewidth": 0,
             "ticks": ""
            },
            "type": "contourcarpet"
           }
          ],
          "heatmap": [
           {
            "colorbar": {
             "outlinewidth": 0,
             "ticks": ""
            },
            "colorscale": [
             [
              0,
              "#0d0887"
             ],
             [
              0.1111111111111111,
              "#46039f"
             ],
             [
              0.2222222222222222,
              "#7201a8"
             ],
             [
              0.3333333333333333,
              "#9c179e"
             ],
             [
              0.4444444444444444,
              "#bd3786"
             ],
             [
              0.5555555555555556,
              "#d8576b"
             ],
             [
              0.6666666666666666,
              "#ed7953"
             ],
             [
              0.7777777777777778,
              "#fb9f3a"
             ],
             [
              0.8888888888888888,
              "#fdca26"
             ],
             [
              1,
              "#f0f921"
             ]
            ],
            "type": "heatmap"
           }
          ],
          "heatmapgl": [
           {
            "colorbar": {
             "outlinewidth": 0,
             "ticks": ""
            },
            "colorscale": [
             [
              0,
              "#0d0887"
             ],
             [
              0.1111111111111111,
              "#46039f"
             ],
             [
              0.2222222222222222,
              "#7201a8"
             ],
             [
              0.3333333333333333,
              "#9c179e"
             ],
             [
              0.4444444444444444,
              "#bd3786"
             ],
             [
              0.5555555555555556,
              "#d8576b"
             ],
             [
              0.6666666666666666,
              "#ed7953"
             ],
             [
              0.7777777777777778,
              "#fb9f3a"
             ],
             [
              0.8888888888888888,
              "#fdca26"
             ],
             [
              1,
              "#f0f921"
             ]
            ],
            "type": "heatmapgl"
           }
          ],
          "histogram": [
           {
            "marker": {
             "colorbar": {
              "outlinewidth": 0,
              "ticks": ""
             }
            },
            "type": "histogram"
           }
          ],
          "histogram2d": [
           {
            "colorbar": {
             "outlinewidth": 0,
             "ticks": ""
            },
            "colorscale": [
             [
              0,
              "#0d0887"
             ],
             [
              0.1111111111111111,
              "#46039f"
             ],
             [
              0.2222222222222222,
              "#7201a8"
             ],
             [
              0.3333333333333333,
              "#9c179e"
             ],
             [
              0.4444444444444444,
              "#bd3786"
             ],
             [
              0.5555555555555556,
              "#d8576b"
             ],
             [
              0.6666666666666666,
              "#ed7953"
             ],
             [
              0.7777777777777778,
              "#fb9f3a"
             ],
             [
              0.8888888888888888,
              "#fdca26"
             ],
             [
              1,
              "#f0f921"
             ]
            ],
            "type": "histogram2d"
           }
          ],
          "histogram2dcontour": [
           {
            "colorbar": {
             "outlinewidth": 0,
             "ticks": ""
            },
            "colorscale": [
             [
              0,
              "#0d0887"
             ],
             [
              0.1111111111111111,
              "#46039f"
             ],
             [
              0.2222222222222222,
              "#7201a8"
             ],
             [
              0.3333333333333333,
              "#9c179e"
             ],
             [
              0.4444444444444444,
              "#bd3786"
             ],
             [
              0.5555555555555556,
              "#d8576b"
             ],
             [
              0.6666666666666666,
              "#ed7953"
             ],
             [
              0.7777777777777778,
              "#fb9f3a"
             ],
             [
              0.8888888888888888,
              "#fdca26"
             ],
             [
              1,
              "#f0f921"
             ]
            ],
            "type": "histogram2dcontour"
           }
          ],
          "mesh3d": [
           {
            "colorbar": {
             "outlinewidth": 0,
             "ticks": ""
            },
            "type": "mesh3d"
           }
          ],
          "parcoords": [
           {
            "line": {
             "colorbar": {
              "outlinewidth": 0,
              "ticks": ""
             }
            },
            "type": "parcoords"
           }
          ],
          "pie": [
           {
            "automargin": true,
            "type": "pie"
           }
          ],
          "scatter": [
           {
            "marker": {
             "colorbar": {
              "outlinewidth": 0,
              "ticks": ""
             }
            },
            "type": "scatter"
           }
          ],
          "scatter3d": [
           {
            "line": {
             "colorbar": {
              "outlinewidth": 0,
              "ticks": ""
             }
            },
            "marker": {
             "colorbar": {
              "outlinewidth": 0,
              "ticks": ""
             }
            },
            "type": "scatter3d"
           }
          ],
          "scattercarpet": [
           {
            "marker": {
             "colorbar": {
              "outlinewidth": 0,
              "ticks": ""
             }
            },
            "type": "scattercarpet"
           }
          ],
          "scattergeo": [
           {
            "marker": {
             "colorbar": {
              "outlinewidth": 0,
              "ticks": ""
             }
            },
            "type": "scattergeo"
           }
          ],
          "scattergl": [
           {
            "marker": {
             "colorbar": {
              "outlinewidth": 0,
              "ticks": ""
             }
            },
            "type": "scattergl"
           }
          ],
          "scattermapbox": [
           {
            "marker": {
             "colorbar": {
              "outlinewidth": 0,
              "ticks": ""
             }
            },
            "type": "scattermapbox"
           }
          ],
          "scatterpolar": [
           {
            "marker": {
             "colorbar": {
              "outlinewidth": 0,
              "ticks": ""
             }
            },
            "type": "scatterpolar"
           }
          ],
          "scatterpolargl": [
           {
            "marker": {
             "colorbar": {
              "outlinewidth": 0,
              "ticks": ""
             }
            },
            "type": "scatterpolargl"
           }
          ],
          "scatterternary": [
           {
            "marker": {
             "colorbar": {
              "outlinewidth": 0,
              "ticks": ""
             }
            },
            "type": "scatterternary"
           }
          ],
          "surface": [
           {
            "colorbar": {
             "outlinewidth": 0,
             "ticks": ""
            },
            "colorscale": [
             [
              0,
              "#0d0887"
             ],
             [
              0.1111111111111111,
              "#46039f"
             ],
             [
              0.2222222222222222,
              "#7201a8"
             ],
             [
              0.3333333333333333,
              "#9c179e"
             ],
             [
              0.4444444444444444,
              "#bd3786"
             ],
             [
              0.5555555555555556,
              "#d8576b"
             ],
             [
              0.6666666666666666,
              "#ed7953"
             ],
             [
              0.7777777777777778,
              "#fb9f3a"
             ],
             [
              0.8888888888888888,
              "#fdca26"
             ],
             [
              1,
              "#f0f921"
             ]
            ],
            "type": "surface"
           }
          ],
          "table": [
           {
            "cells": {
             "fill": {
              "color": "#EBF0F8"
             },
             "line": {
              "color": "white"
             }
            },
            "header": {
             "fill": {
              "color": "#C8D4E3"
             },
             "line": {
              "color": "white"
             }
            },
            "type": "table"
           }
          ]
         },
         "layout": {
          "annotationdefaults": {
           "arrowcolor": "#2a3f5f",
           "arrowhead": 0,
           "arrowwidth": 1
          },
          "coloraxis": {
           "colorbar": {
            "outlinewidth": 0,
            "ticks": ""
           }
          },
          "colorscale": {
           "diverging": [
            [
             0,
             "#8e0152"
            ],
            [
             0.1,
             "#c51b7d"
            ],
            [
             0.2,
             "#de77ae"
            ],
            [
             0.3,
             "#f1b6da"
            ],
            [
             0.4,
             "#fde0ef"
            ],
            [
             0.5,
             "#f7f7f7"
            ],
            [
             0.6,
             "#e6f5d0"
            ],
            [
             0.7,
             "#b8e186"
            ],
            [
             0.8,
             "#7fbc41"
            ],
            [
             0.9,
             "#4d9221"
            ],
            [
             1,
             "#276419"
            ]
           ],
           "sequential": [
            [
             0,
             "#0d0887"
            ],
            [
             0.1111111111111111,
             "#46039f"
            ],
            [
             0.2222222222222222,
             "#7201a8"
            ],
            [
             0.3333333333333333,
             "#9c179e"
            ],
            [
             0.4444444444444444,
             "#bd3786"
            ],
            [
             0.5555555555555556,
             "#d8576b"
            ],
            [
             0.6666666666666666,
             "#ed7953"
            ],
            [
             0.7777777777777778,
             "#fb9f3a"
            ],
            [
             0.8888888888888888,
             "#fdca26"
            ],
            [
             1,
             "#f0f921"
            ]
           ],
           "sequentialminus": [
            [
             0,
             "#0d0887"
            ],
            [
             0.1111111111111111,
             "#46039f"
            ],
            [
             0.2222222222222222,
             "#7201a8"
            ],
            [
             0.3333333333333333,
             "#9c179e"
            ],
            [
             0.4444444444444444,
             "#bd3786"
            ],
            [
             0.5555555555555556,
             "#d8576b"
            ],
            [
             0.6666666666666666,
             "#ed7953"
            ],
            [
             0.7777777777777778,
             "#fb9f3a"
            ],
            [
             0.8888888888888888,
             "#fdca26"
            ],
            [
             1,
             "#f0f921"
            ]
           ]
          },
          "colorway": [
           "#636efa",
           "#EF553B",
           "#00cc96",
           "#ab63fa",
           "#FFA15A",
           "#19d3f3",
           "#FF6692",
           "#B6E880",
           "#FF97FF",
           "#FECB52"
          ],
          "font": {
           "color": "#2a3f5f"
          },
          "geo": {
           "bgcolor": "white",
           "lakecolor": "white",
           "landcolor": "#E5ECF6",
           "showlakes": true,
           "showland": true,
           "subunitcolor": "white"
          },
          "hoverlabel": {
           "align": "left"
          },
          "hovermode": "closest",
          "mapbox": {
           "style": "light"
          },
          "paper_bgcolor": "white",
          "plot_bgcolor": "#E5ECF6",
          "polar": {
           "angularaxis": {
            "gridcolor": "white",
            "linecolor": "white",
            "ticks": ""
           },
           "bgcolor": "#E5ECF6",
           "radialaxis": {
            "gridcolor": "white",
            "linecolor": "white",
            "ticks": ""
           }
          },
          "scene": {
           "xaxis": {
            "backgroundcolor": "#E5ECF6",
            "gridcolor": "white",
            "gridwidth": 2,
            "linecolor": "white",
            "showbackground": true,
            "ticks": "",
            "zerolinecolor": "white"
           },
           "yaxis": {
            "backgroundcolor": "#E5ECF6",
            "gridcolor": "white",
            "gridwidth": 2,
            "linecolor": "white",
            "showbackground": true,
            "ticks": "",
            "zerolinecolor": "white"
           },
           "zaxis": {
            "backgroundcolor": "#E5ECF6",
            "gridcolor": "white",
            "gridwidth": 2,
            "linecolor": "white",
            "showbackground": true,
            "ticks": "",
            "zerolinecolor": "white"
           }
          },
          "shapedefaults": {
           "line": {
            "color": "#2a3f5f"
           }
          },
          "ternary": {
           "aaxis": {
            "gridcolor": "white",
            "linecolor": "white",
            "ticks": ""
           },
           "baxis": {
            "gridcolor": "white",
            "linecolor": "white",
            "ticks": ""
           },
           "bgcolor": "#E5ECF6",
           "caxis": {
            "gridcolor": "white",
            "linecolor": "white",
            "ticks": ""
           }
          },
          "title": {
           "x": 0.05
          },
          "xaxis": {
           "automargin": true,
           "gridcolor": "white",
           "linecolor": "white",
           "ticks": "",
           "title": {
            "standoff": 15
           },
           "zerolinecolor": "white",
           "zerolinewidth": 2
          },
          "yaxis": {
           "automargin": true,
           "gridcolor": "white",
           "linecolor": "white",
           "ticks": "",
           "title": {
            "standoff": 15
           },
           "zerolinecolor": "white",
           "zerolinewidth": 2
          }
         }
        },
        "updatemenus": [
         {
          "active": 0,
          "buttons": [
           {
            "args": [
             {
              "visible": [
               true,
               true,
               true,
               true,
               true
              ]
             },
             {
              "title": "Genre Ranking"
             }
            ],
            "label": "None",
            "method": "update"
           },
           {
            "args": [
             {
              "visible": [
               true,
               false,
               false,
               false,
               false
              ]
             },
             {
              "title": "Rock Ranking"
             }
            ],
            "label": "Rock",
            "method": "update"
           },
           {
            "args": [
             {
              "visible": [
               false,
               true,
               false,
               false,
               false
              ]
             },
             {
              "title": "Pop Ranking"
             }
            ],
            "label": "Pop",
            "method": "update"
           },
           {
            "args": [
             {
              "visible": [
               false,
               false,
               true,
               false,
               false
              ]
             },
             {
              "title": "Jazz Ranking"
             }
            ],
            "label": "Jazz",
            "method": "update"
           },
           {
            "args": [
             {
              "visible": [
               false,
               false,
               false,
               true,
               false
              ]
             },
             {
              "title": "Soul Ranking"
             }
            ],
            "label": "Soul",
            "method": "update"
           },
           {
            "args": [
             {
              "visible": [
               false,
               false,
               false,
               false,
               true
              ]
             },
             {
              "title": "Folk Ranking"
             }
            ],
            "label": "Folk",
            "method": "update"
           },
           {
            "args": [
             {
              "visible": [
               true,
               true,
               true,
               true,
               true
              ]
             },
             {
              "title": "All Genres"
             }
            ],
            "label": "All",
            "method": "update"
           }
          ]
         }
        ],
        "xaxis": {
         "anchor": "y",
         "domain": [
          0,
          1
         ]
        },
        "yaxis": {
         "anchor": "x",
         "domain": [
          0,
          1
         ]
        }
       }
      },
      "text/html": [
       "<div>\n",
       "        \n",
       "        \n",
       "            <div id=\"238ca2fd-9c6f-4131-baa2-2ecac368282d\" class=\"plotly-graph-div\" style=\"height:525px; width:100%;\"></div>\n",
       "            <script type=\"text/javascript\">\n",
       "                require([\"plotly\"], function(Plotly) {\n",
       "                    window.PLOTLYENV=window.PLOTLYENV || {};\n",
       "                    \n",
       "                if (document.getElementById(\"238ca2fd-9c6f-4131-baa2-2ecac368282d\")) {\n",
       "                    Plotly.newPlot(\n",
       "                        '238ca2fd-9c6f-4131-baa2-2ecac368282d',\n",
       "                        [{\"line\": {\"color\": \"#33CFA5\"}, \"mode\": \"lines+markers\", \"name\": \"Rock\", \"text\": [\"Avond\", \"Avond\", \"Avond\", \"Avond\", \"Avond\", \"Avond\", \"Avond\", \"Avond\", \"Avond\", \"Avond\", \"Avond\", \"Avond\", \"Avond\", \"Avond\", \"Avond\", \"Avond\", \"Avond\", \"Avond\", \"Avond\", \"Avond\", \"Avond\", \"Avond\", \"Bohemian Rhapsody\", \"Bohemian Rhapsody\", \"Bohemian Rhapsody\", \"Bohemian Rhapsody\", \"Bohemian Rhapsody\", \"Bohemian Rhapsody\", \"Bohemian Rhapsody\", \"Bohemian Rhapsody\", \"Bohemian Rhapsody\", \"Bohemian Rhapsody\", \"Bohemian Rhapsody\", \"Bohemian Rhapsody\", \"Bohemian Rhapsody\", \"Bohemian Rhapsody\", \"Bohemian Rhapsody\", \"Bohemian Rhapsody\", \"Bohemian Rhapsody\", \"Bohemian Rhapsody\", \"Bohemian Rhapsody\", \"Bohemian Rhapsody\", \"Bohemian Rhapsody\", \"Bohemian Rhapsody\", \"Hotel California\", \"Hotel California\", \"Hotel California\", \"Hotel California\", \"Hotel California\", \"Hotel California\", \"Hotel California\", \"Hotel California\", \"Hotel California\", \"Hotel California\", \"Hotel California\", \"Hotel California\", \"Hotel California\", \"Hotel California\", \"Hotel California\", \"Hotel California\", \"Hotel California\", \"Hotel California\", \"Hotel California\", \"Hotel California\", \"Hotel California\", \"Hotel California\", \"Imagine\", \"Imagine\", \"Imagine\", \"Imagine\", \"Imagine\", \"Imagine\", \"Imagine\", \"Imagine\", \"Imagine\", \"Imagine\", \"Imagine\", \"Imagine\", \"Imagine\", \"Imagine\", \"Imagine\", \"Imagine\", \"Imagine\", \"Imagine\", \"Imagine\", \"Imagine\", \"Imagine\", \"Imagine\"], \"type\": \"scatter\", \"visible\": false, \"x\": [2019, 2018, 2017, 2016, 2015, 2014, 2013, 2012, 2011, 2010, 2009, 2008, 2007, 2006, 2005, 2004, 2003, 2002, 2001, 2000, 1999, 1997, 2019, 2018, 2017, 2016, 2015, 2014, 2013, 2012, 2011, 2010, 2009, 2008, 2007, 2006, 2005, 2004, 2003, 2002, 2001, 2000, 1999, 1975, 2019, 2018, 2017, 2016, 2015, 2014, 2013, 2012, 2011, 2010, 2009, 2008, 2007, 2006, 2005, 2004, 2003, 2002, 2001, 2000, 1999, 1977, 2019, 2018, 2017, 2016, 2015, 2014, 2013, 2012, 2011, 2010, 2009, 2008, 2007, 2006, 2005, 2004, 2003, 2002, 2001, 2000, 1999, 1971], \"y\": [6, 10, 9, 6, 7, 5, 5, 5, 4, 3, 3, 3, 2, 2, 1, 5, 8, 25, 41, 121, 428, 1, 1, 1, 1, 1, 2, 2, 1, 1, 1, 2, 1, 1, 1, 1, 2, 1, 1, 1, 1, 1, 1, 1, 2, 2, 2, 2, 3, 1, 2, 2, 2, 1, 2, 2, 3, 3, 3, 2, 2, 3, 3, 4, 2, 1, 29, 16, 16, 12, 1, 38, 23, 22, 28, 26, 41, 15, 41, 15, 15, 9, 13, 11, 11, 7, 7, 1]}, {\"line\": {\"color\": \"#4287f5\"}, \"mode\": \"lines+markers\", \"name\": \"Pop\", \"text\": [\"Angels\", \"Angels\", \"Angels\", \"Angels\", \"Angels\", \"Angels\", \"Angels\", \"Angels\", \"Angels\", \"Angels\", \"Angels\", \"Angels\", \"Angels\", \"Angels\", \"Angels\", \"Angels\", \"Angels\", \"Angels\", \"Angels\", \"Clocks\", \"Clocks\", \"Clocks\", \"Clocks\", \"Clocks\", \"Clocks\", \"Clocks\", \"Clocks\", \"Clocks\", \"Fix You\", \"Fix You\", \"Fix You\", \"Fix You\", \"Fix You\", \"Fix You\", \"Fix You\", \"Fix You\", \"Fix You\", \"Fix You\", \"Fix You\", \"Someone like you\", \"Someone like you\", \"Someone like you\", \"Someone like you\", \"Someone like you\", \"Someone like you\", \"Someone like you\", \"Someone like you\", \"Someone like you\"], \"type\": \"scatter\", \"visible\": false, \"x\": [2001, 2002, 2003, 2004, 2005, 2006, 2007, 2008, 2009, 2010, 2011, 2012, 2013, 2014, 2015, 2016, 2017, 2018, 2019, 2011, 2012, 2013, 2014, 2015, 2016, 2017, 2018, 2019, 2009, 2010, 2011, 2012, 2013, 2014, 2015, 2016, 2017, 2018, 2019, 2011, 2012, 2013, 2014, 2015, 2016, 2017, 2018, 2019], \"y\": [364, 114, 24, 44, 11, 18, 39, 24, 34, 37, 55, 41, 40, 75, 80, 74, 68, 76, 89, 10, 9, 12, 20, 29, 36, 46, 57, 80, 1494, 235, 69, 40, 20, 15, 10, 11, 8, 9, 8, 6, 8, 25, 35, 18, 47, 89, 97, 126]}, {\"line\": {\"color\": \"#4287f5\"}, \"mode\": \"lines+markers\", \"name\": \"Jazz\", \"text\": [\"Fields of gold\", \"Fields of gold\", \"Fields of gold\", \"Fields of gold\", \"Fields of gold\", \"Fields of gold\", \"Fields of gold\", \"Fields of gold\", \"Fields of gold\", \"Fields of gold\", \"Fields of gold\", \"Fields of gold\", \"Fields of gold\", \"Fields of gold\", \"Fields of gold\", \"Fields of gold\", \"Nine Million Bicycles\", \"Nine Million Bicycles\", \"Nine Million Bicycles\", \"Nine Million Bicycles\", \"Nine Million Bicycles\", \"Nine Million Bicycles\", \"Nine Million Bicycles\", \"Nine Million Bicycles\", \"Nine Million Bicycles\", \"Nine Million Bicycles\", \"Nine Million Bicycles\", \"Nine Million Bicycles\", \"Nine Million Bicycles\", \"Nine Million Bicycles\", \"Nine Million Bicycles\", \"Nine Million Bicycles\", \"Take Five\", \"Take Five\", \"Take Five\", \"Take Five\", \"Take Five\", \"Take Five\", \"Take Five\", \"Take Five\", \"Take Five\", \"Take Five\", \"Take Five\", \"Take Five\", \"Take Five\", \"Take Five\", \"Take Five\", \"Take Five\", \"Take Five\", \"Take Five\", \"Take Five\", \"Take Five\", \"Take Five\", \"Take Five\", \"Don't Know Why\", \"Don't Know Why\", \"Don't Know Why\", \"Don't Know Why\", \"Don't Know Why\", \"Don't Know Why\", \"Don't Know Why\", \"Don't Know Why\", \"Don't Know Why\", \"Don't Know Why\", \"Don't Know Why\", \"Don't Know Why\", \"Don't Know Why\", \"Don't Know Why\", \"Don't Know Why\", \"Don't Know Why\", \"Don't Know Why\"], \"type\": \"scatter\", \"visible\": false, \"x\": [1998, 2005, 2006, 2007, 2008, 2009, 2010, 2011, 2012, 2013, 2014, 2015, 2016, 2017, 2018, 2019, 2005, 2005, 2006, 2007, 2008, 2009, 2010, 2011, 2012, 2013, 2014, 2015, 2016, 2017, 2018, 2019, 1962, 1999, 2003, 2004, 2013, 2002, 2012, 2008, 2014, 2009, 2006, 2005, 2007, 2000, 2010, 2011, 2001, 2015, 2017, 2016, 2018, 2019, 2002, 2004, 2005, 2008, 2006, 2009, 2007, 2010, 2013, 2012, 2011, 2014, 2015, 2018, 2016, 2019, 2017], \"y\": [227, 1086, 514, 301, 728, 377, 319, 311, 373, 227, 322, 354, 444, 535, 584, 625, 23, 23, 32, 40, 58, 119, 125, 214, 379, 412, 472, 616, 776, 845, 966, 1110, 279, 279, 392, 485, 506, 526, 529, 537, 550, 577, 586, 602, 604, 621, 724, 734, 741, 829, 976, 1165, 1224, 1298, 314, 314, 361, 674, 685, 806, 819, 914, 928, 982, 1112, 1245, 1298, 1388, 1547, 1660, 1828]}, {\"line\": {\"color\": \"#4287f5\"}, \"mode\": \"lines+markers\", \"name\": \"Soul\", \"text\": [\"(Sittin' on) the dock of the bay\", \"(Sittin' on) the dock of the bay\", \"(Sittin' on) the dock of the bay\", \"(Sittin' on) the dock of the bay\", \"(Sittin' on) the dock of the bay\", \"(Sittin' on) the dock of the bay\", \"(Sittin' on) the dock of the bay\", \"(Sittin' on) the dock of the bay\", \"(Sittin' on) the dock of the bay\", \"(Sittin' on) the dock of the bay\", \"(Sittin' on) the dock of the bay\", \"(Sittin' on) the dock of the bay\", \"(Sittin' on) the dock of the bay\", \"(Sittin' on) the dock of the bay\", \"(Sittin' on) the dock of the bay\", \"(Sittin' on) the dock of the bay\", \"(Sittin' on) the dock of the bay\", \"(Sittin' on) the dock of the bay\", \"(Sittin' on) the dock of the bay\", \"(Sittin' on) the dock of the bay\", \"(Sittin' on) the dock of the bay\", \"(Sittin' on) the dock of the bay\", \"Back to black\", \"Back to black\", \"Back to black\", \"Back to black\", \"Back to black\", \"Back to black\", \"Back to black\", \"Back to black\", \"Back to black\", \"Valerie\", \"Valerie\", \"Valerie\", \"Valerie\", \"Valerie\", \"Valerie\", \"Valerie\", \"Valerie\", \"Valerie\", \"Valerie\", \"Valerie\", \"September\", \"September\", \"September\", \"September\", \"September\", \"September\", \"September\", \"September\", \"September\", \"September\", \"September\", \"September\", \"September\", \"September\", \"September\", \"September\", \"September\", \"September\", \"September\", \"September\", \"September\", \"September\"], \"type\": \"scatter\", \"visible\": false, \"x\": [1968, 1999, 2000, 2001, 2002, 2003, 2004, 2005, 2006, 2007, 2008, 2009, 2010, 2011, 2012, 2013, 2014, 2015, 2016, 2017, 2018, 2019, 2011, 2012, 2013, 2014, 2015, 2016, 2017, 2018, 2019, 2009, 2010, 2011, 2012, 2013, 2014, 2015, 2016, 2017, 2018, 2019, 1979, 1999, 2000, 2001, 2002, 2003, 2004, 2005, 2006, 2007, 2008, 2009, 2010, 2011, 2012, 2013, 2014, 2015, 2016, 2017, 2018, 2019], \"y\": [31, 240, 450, 371, 344, 239, 257, 285, 253, 297, 259, 195, 155, 84, 31, 51, 67, 82, 56, 74, 90, 99, 1089, 97, 175, 153, 98, 45, 57, 43, 58, 253, 236, 72, 139, 203, 522, 532, 646, 509, 317, 357, 117, 550, 764, 814, 689, 833, 854, 1043, 813, 1109, 885, 875, 687, 793, 472, 290, 279, 243, 147, 149, 117, 170]}, {\"line\": {\"color\": \"#4287f5\"}, \"mode\": \"lines+markers\", \"name\": \"Folk\", \"text\": [\"Non, je ne regrette rien\", \"Non, je ne regrette rien\", \"Non, je ne regrette rien\", \"Non, je ne regrette rien\", \"Non, je ne regrette rien\", \"Non, je ne regrette rien\", \"Non, je ne regrette rien\", \"Non, je ne regrette rien\", \"Non, je ne regrette rien\", \"Non, je ne regrette rien\", \"Non, je ne regrette rien\", \"Non, je ne regrette rien\", \"Non, je ne regrette rien\", \"Non, je ne regrette rien\", \"Non, je ne regrette rien\", \"Non, je ne regrette rien\", \"Non, je ne regrette rien\", \"Non, je ne regrette rien\", \"Non, je ne regrette rien\", \"Non, je ne regrette rien\", \"Non, je ne regrette rien\", \"Non, je ne regrette rien\", \"She\", \"She\", \"She\", \"She\", \"She\", \"She\", \"She\", \"She\", \"She\", \"She\", \"She\", \"She\", \"She\", \"She\", \"She\", \"She\", \"She\", \"She\", \"She\", \"She\", \"She\", \"She\", \"Vous permettez, monsieur?\", \"Vous permettez, monsieur?\", \"Vous permettez, monsieur?\", \"Vous permettez, monsieur?\", \"Vous permettez, monsieur?\", \"Vous permettez, monsieur?\", \"Vous permettez, monsieur?\", \"Vous permettez, monsieur?\", \"Vous permettez, monsieur?\", \"Vous permettez, monsieur?\", \"Vous permettez, monsieur?\", \"Vous permettez, monsieur?\", \"Vous permettez, monsieur?\", \"Vous permettez, monsieur?\", \"Vous permettez, monsieur?\", \"Vous permettez, monsieur?\", \"Vous permettez, monsieur?\", \"Vous permettez, monsieur?\", \"Oude Maasweg\", \"Oude Maasweg\", \"Oude Maasweg\", \"Oude Maasweg\", \"Oude Maasweg\", \"Oude Maasweg\", \"Oude Maasweg\", \"Oude Maasweg\", \"Oude Maasweg\", \"Oude Maasweg\", \"Oude Maasweg\", \"Oude Maasweg\", \"Oude Maasweg\", \"Oude Maasweg\", \"Oude Maasweg\", \"Oude Maasweg\", \"Oude Maasweg\", \"Oude Maasweg\", \"Oude Maasweg\", \"Oude Maasweg\", \"Oude Maasweg\", \"Oude Maasweg\"], \"type\": \"scatter\", \"visible\": false, \"x\": [1961, 1961, 1961, 1961, 1961, 1961, 1961, 1961, 1961, 1961, 2008, 2009, 2010, 2011, 2012, 2013, 2014, 2015, 2016, 2017, 2018, 2019, 1974, 1999, 2000, 2001, 2002, 2003, 2004, 2005, 2006, 2007, 2008, 2009, 2010, 2011, 2012, 2013, 2014, 2015, 2016, 2017, 2018, 2019, 1964, 1999, 2000, 2001, 2002, 2003, 2004, 2005, 2006, 2007, 2008, 2009, 2010, 2011, 2012, 2013, 2014, 2015, 1982, 1999, 2000, 2001, 2002, 2003, 2004, 2005, 2006, 2007, 2008, 2009, 2010, 2011, 2012, 2013, 2014, 2015, 2016, 2017, 2018, 2019], \"y\": [106, 106, 106, 106, 106, 106, 106, 106, 106, 106, 224, 277, 328, 263, 413, 363, 427, 460, 622, 582, 577, 813, 118, 343, 1079, 542, 229, 236, 175, 183, 149, 118, 147, 141, 140, 158, 210, 169, 137, 143, 169, 196, 174, 242, 146, 358, 337, 318, 277, 333, 243, 232, 272, 146, 209, 664, 492, 635, 1243, 1484, 1646, 1862, 16, 191, 112, 46, 44, 49, 69, 26, 38, 16, 29, 66, 49, 81, 103, 108, 125, 149, 146, 153, 217, 199]}],\n",
       "                        {\"legend\": {\"tracegroupgap\": 0}, \"margin\": {\"t\": 60}, \"template\": {\"data\": {\"bar\": [{\"error_x\": {\"color\": \"#2a3f5f\"}, \"error_y\": {\"color\": \"#2a3f5f\"}, \"marker\": {\"line\": {\"color\": \"#E5ECF6\", \"width\": 0.5}}, \"type\": \"bar\"}], \"barpolar\": [{\"marker\": {\"line\": {\"color\": \"#E5ECF6\", \"width\": 0.5}}, \"type\": \"barpolar\"}], \"carpet\": [{\"aaxis\": {\"endlinecolor\": \"#2a3f5f\", \"gridcolor\": \"white\", \"linecolor\": \"white\", \"minorgridcolor\": \"white\", \"startlinecolor\": \"#2a3f5f\"}, \"baxis\": {\"endlinecolor\": \"#2a3f5f\", \"gridcolor\": \"white\", \"linecolor\": \"white\", \"minorgridcolor\": \"white\", \"startlinecolor\": \"#2a3f5f\"}, \"type\": \"carpet\"}], \"choropleth\": [{\"colorbar\": {\"outlinewidth\": 0, \"ticks\": \"\"}, \"type\": \"choropleth\"}], \"contour\": [{\"colorbar\": {\"outlinewidth\": 0, \"ticks\": \"\"}, \"colorscale\": [[0.0, \"#0d0887\"], [0.1111111111111111, \"#46039f\"], [0.2222222222222222, \"#7201a8\"], [0.3333333333333333, \"#9c179e\"], [0.4444444444444444, \"#bd3786\"], [0.5555555555555556, \"#d8576b\"], [0.6666666666666666, \"#ed7953\"], [0.7777777777777778, \"#fb9f3a\"], [0.8888888888888888, \"#fdca26\"], [1.0, \"#f0f921\"]], \"type\": \"contour\"}], \"contourcarpet\": [{\"colorbar\": {\"outlinewidth\": 0, \"ticks\": \"\"}, \"type\": \"contourcarpet\"}], \"heatmap\": [{\"colorbar\": {\"outlinewidth\": 0, \"ticks\": \"\"}, \"colorscale\": [[0.0, \"#0d0887\"], [0.1111111111111111, \"#46039f\"], [0.2222222222222222, \"#7201a8\"], [0.3333333333333333, \"#9c179e\"], [0.4444444444444444, \"#bd3786\"], [0.5555555555555556, \"#d8576b\"], [0.6666666666666666, \"#ed7953\"], [0.7777777777777778, \"#fb9f3a\"], [0.8888888888888888, \"#fdca26\"], [1.0, \"#f0f921\"]], \"type\": \"heatmap\"}], \"heatmapgl\": [{\"colorbar\": {\"outlinewidth\": 0, \"ticks\": \"\"}, \"colorscale\": [[0.0, \"#0d0887\"], [0.1111111111111111, \"#46039f\"], [0.2222222222222222, \"#7201a8\"], [0.3333333333333333, \"#9c179e\"], [0.4444444444444444, \"#bd3786\"], [0.5555555555555556, \"#d8576b\"], [0.6666666666666666, \"#ed7953\"], [0.7777777777777778, \"#fb9f3a\"], [0.8888888888888888, \"#fdca26\"], [1.0, \"#f0f921\"]], \"type\": \"heatmapgl\"}], \"histogram\": [{\"marker\": {\"colorbar\": {\"outlinewidth\": 0, \"ticks\": \"\"}}, \"type\": \"histogram\"}], \"histogram2d\": [{\"colorbar\": {\"outlinewidth\": 0, \"ticks\": \"\"}, \"colorscale\": [[0.0, \"#0d0887\"], [0.1111111111111111, \"#46039f\"], [0.2222222222222222, \"#7201a8\"], [0.3333333333333333, \"#9c179e\"], [0.4444444444444444, \"#bd3786\"], [0.5555555555555556, \"#d8576b\"], [0.6666666666666666, \"#ed7953\"], [0.7777777777777778, \"#fb9f3a\"], [0.8888888888888888, \"#fdca26\"], [1.0, \"#f0f921\"]], \"type\": \"histogram2d\"}], \"histogram2dcontour\": [{\"colorbar\": {\"outlinewidth\": 0, \"ticks\": \"\"}, \"colorscale\": [[0.0, \"#0d0887\"], [0.1111111111111111, \"#46039f\"], [0.2222222222222222, \"#7201a8\"], [0.3333333333333333, \"#9c179e\"], [0.4444444444444444, \"#bd3786\"], [0.5555555555555556, \"#d8576b\"], [0.6666666666666666, \"#ed7953\"], [0.7777777777777778, \"#fb9f3a\"], [0.8888888888888888, \"#fdca26\"], [1.0, \"#f0f921\"]], \"type\": \"histogram2dcontour\"}], \"mesh3d\": [{\"colorbar\": {\"outlinewidth\": 0, \"ticks\": \"\"}, \"type\": \"mesh3d\"}], \"parcoords\": [{\"line\": {\"colorbar\": {\"outlinewidth\": 0, \"ticks\": \"\"}}, \"type\": \"parcoords\"}], \"pie\": [{\"automargin\": true, \"type\": \"pie\"}], \"scatter\": [{\"marker\": {\"colorbar\": {\"outlinewidth\": 0, \"ticks\": \"\"}}, \"type\": \"scatter\"}], \"scatter3d\": [{\"line\": {\"colorbar\": {\"outlinewidth\": 0, \"ticks\": \"\"}}, \"marker\": {\"colorbar\": {\"outlinewidth\": 0, \"ticks\": \"\"}}, \"type\": \"scatter3d\"}], \"scattercarpet\": [{\"marker\": {\"colorbar\": {\"outlinewidth\": 0, \"ticks\": \"\"}}, \"type\": \"scattercarpet\"}], \"scattergeo\": [{\"marker\": {\"colorbar\": {\"outlinewidth\": 0, \"ticks\": \"\"}}, \"type\": \"scattergeo\"}], \"scattergl\": [{\"marker\": {\"colorbar\": {\"outlinewidth\": 0, \"ticks\": \"\"}}, \"type\": \"scattergl\"}], \"scattermapbox\": [{\"marker\": {\"colorbar\": {\"outlinewidth\": 0, \"ticks\": \"\"}}, \"type\": \"scattermapbox\"}], \"scatterpolar\": [{\"marker\": {\"colorbar\": {\"outlinewidth\": 0, \"ticks\": \"\"}}, \"type\": \"scatterpolar\"}], \"scatterpolargl\": [{\"marker\": {\"colorbar\": {\"outlinewidth\": 0, \"ticks\": \"\"}}, \"type\": \"scatterpolargl\"}], \"scatterternary\": [{\"marker\": {\"colorbar\": {\"outlinewidth\": 0, \"ticks\": \"\"}}, \"type\": \"scatterternary\"}], \"surface\": [{\"colorbar\": {\"outlinewidth\": 0, \"ticks\": \"\"}, \"colorscale\": [[0.0, \"#0d0887\"], [0.1111111111111111, \"#46039f\"], [0.2222222222222222, \"#7201a8\"], [0.3333333333333333, \"#9c179e\"], [0.4444444444444444, \"#bd3786\"], [0.5555555555555556, \"#d8576b\"], [0.6666666666666666, \"#ed7953\"], [0.7777777777777778, \"#fb9f3a\"], [0.8888888888888888, \"#fdca26\"], [1.0, \"#f0f921\"]], \"type\": \"surface\"}], \"table\": [{\"cells\": {\"fill\": {\"color\": \"#EBF0F8\"}, \"line\": {\"color\": \"white\"}}, \"header\": {\"fill\": {\"color\": \"#C8D4E3\"}, \"line\": {\"color\": \"white\"}}, \"type\": \"table\"}]}, \"layout\": {\"annotationdefaults\": {\"arrowcolor\": \"#2a3f5f\", \"arrowhead\": 0, \"arrowwidth\": 1}, \"coloraxis\": {\"colorbar\": {\"outlinewidth\": 0, \"ticks\": \"\"}}, \"colorscale\": {\"diverging\": [[0, \"#8e0152\"], [0.1, \"#c51b7d\"], [0.2, \"#de77ae\"], [0.3, \"#f1b6da\"], [0.4, \"#fde0ef\"], [0.5, \"#f7f7f7\"], [0.6, \"#e6f5d0\"], [0.7, \"#b8e186\"], [0.8, \"#7fbc41\"], [0.9, \"#4d9221\"], [1, \"#276419\"]], \"sequential\": [[0.0, \"#0d0887\"], [0.1111111111111111, \"#46039f\"], [0.2222222222222222, \"#7201a8\"], [0.3333333333333333, \"#9c179e\"], [0.4444444444444444, \"#bd3786\"], [0.5555555555555556, \"#d8576b\"], [0.6666666666666666, \"#ed7953\"], [0.7777777777777778, \"#fb9f3a\"], [0.8888888888888888, \"#fdca26\"], [1.0, \"#f0f921\"]], \"sequentialminus\": [[0.0, \"#0d0887\"], [0.1111111111111111, \"#46039f\"], [0.2222222222222222, \"#7201a8\"], [0.3333333333333333, \"#9c179e\"], [0.4444444444444444, \"#bd3786\"], [0.5555555555555556, \"#d8576b\"], [0.6666666666666666, \"#ed7953\"], [0.7777777777777778, \"#fb9f3a\"], [0.8888888888888888, \"#fdca26\"], [1.0, \"#f0f921\"]]}, \"colorway\": [\"#636efa\", \"#EF553B\", \"#00cc96\", \"#ab63fa\", \"#FFA15A\", \"#19d3f3\", \"#FF6692\", \"#B6E880\", \"#FF97FF\", \"#FECB52\"], \"font\": {\"color\": \"#2a3f5f\"}, \"geo\": {\"bgcolor\": \"white\", \"lakecolor\": \"white\", \"landcolor\": \"#E5ECF6\", \"showlakes\": true, \"showland\": true, \"subunitcolor\": \"white\"}, \"hoverlabel\": {\"align\": \"left\"}, \"hovermode\": \"closest\", \"mapbox\": {\"style\": \"light\"}, \"paper_bgcolor\": \"white\", \"plot_bgcolor\": \"#E5ECF6\", \"polar\": {\"angularaxis\": {\"gridcolor\": \"white\", \"linecolor\": \"white\", \"ticks\": \"\"}, \"bgcolor\": \"#E5ECF6\", \"radialaxis\": {\"gridcolor\": \"white\", \"linecolor\": \"white\", \"ticks\": \"\"}}, \"scene\": {\"xaxis\": {\"backgroundcolor\": \"#E5ECF6\", \"gridcolor\": \"white\", \"gridwidth\": 2, \"linecolor\": \"white\", \"showbackground\": true, \"ticks\": \"\", \"zerolinecolor\": \"white\"}, \"yaxis\": {\"backgroundcolor\": \"#E5ECF6\", \"gridcolor\": \"white\", \"gridwidth\": 2, \"linecolor\": \"white\", \"showbackground\": true, \"ticks\": \"\", \"zerolinecolor\": \"white\"}, \"zaxis\": {\"backgroundcolor\": \"#E5ECF6\", \"gridcolor\": \"white\", \"gridwidth\": 2, \"linecolor\": \"white\", \"showbackground\": true, \"ticks\": \"\", \"zerolinecolor\": \"white\"}}, \"shapedefaults\": {\"line\": {\"color\": \"#2a3f5f\"}}, \"ternary\": {\"aaxis\": {\"gridcolor\": \"white\", \"linecolor\": \"white\", \"ticks\": \"\"}, \"baxis\": {\"gridcolor\": \"white\", \"linecolor\": \"white\", \"ticks\": \"\"}, \"bgcolor\": \"#E5ECF6\", \"caxis\": {\"gridcolor\": \"white\", \"linecolor\": \"white\", \"ticks\": \"\"}}, \"title\": {\"x\": 0.05}, \"xaxis\": {\"automargin\": true, \"gridcolor\": \"white\", \"linecolor\": \"white\", \"ticks\": \"\", \"title\": {\"standoff\": 15}, \"zerolinecolor\": \"white\", \"zerolinewidth\": 2}, \"yaxis\": {\"automargin\": true, \"gridcolor\": \"white\", \"linecolor\": \"white\", \"ticks\": \"\", \"title\": {\"standoff\": 15}, \"zerolinecolor\": \"white\", \"zerolinewidth\": 2}}}, \"updatemenus\": [{\"active\": 0, \"buttons\": [{\"args\": [{\"visible\": [true, true, true, true, true]}, {\"title\": \"Genre Ranking\"}], \"label\": \"None\", \"method\": \"update\"}, {\"args\": [{\"visible\": [true, false, false, false, false]}, {\"title\": \"Rock Ranking\"}], \"label\": \"Rock\", \"method\": \"update\"}, {\"args\": [{\"visible\": [false, true, false, false, false]}, {\"title\": \"Pop Ranking\"}], \"label\": \"Pop\", \"method\": \"update\"}, {\"args\": [{\"visible\": [false, false, true, false, false]}, {\"title\": \"Jazz Ranking\"}], \"label\": \"Jazz\", \"method\": \"update\"}, {\"args\": [{\"visible\": [false, false, false, true, false]}, {\"title\": \"Soul Ranking\"}], \"label\": \"Soul\", \"method\": \"update\"}, {\"args\": [{\"visible\": [false, false, false, false, true]}, {\"title\": \"Folk Ranking\"}], \"label\": \"Folk\", \"method\": \"update\"}, {\"args\": [{\"visible\": [true, true, true, true, true]}, {\"title\": \"All Genres\"}], \"label\": \"All\", \"method\": \"update\"}]}], \"xaxis\": {\"anchor\": \"y\", \"domain\": [0.0, 1.0]}, \"yaxis\": {\"anchor\": \"x\", \"domain\": [0.0, 1.0]}},\n",
       "                        {\"responsive\": true}\n",
       "                    ).then(function(){\n",
       "                            \n",
       "var gd = document.getElementById('238ca2fd-9c6f-4131-baa2-2ecac368282d');\n",
       "var x = new MutationObserver(function (mutations, observer) {{\n",
       "        var display = window.getComputedStyle(gd).display;\n",
       "        if (!display || display === 'none') {{\n",
       "            console.log([gd, 'removed!']);\n",
       "            Plotly.purge(gd);\n",
       "            observer.disconnect();\n",
       "        }}\n",
       "}});\n",
       "\n",
       "// Listen for the removal of the full notebook cells\n",
       "var notebookContainer = gd.closest('#notebook-container');\n",
       "if (notebookContainer) {{\n",
       "    x.observe(notebookContainer, {childList: true});\n",
       "}}\n",
       "\n",
       "// Listen for the clearing of the current output cell\n",
       "var outputEl = gd.closest('.output');\n",
       "if (outputEl) {{\n",
       "    x.observe(outputEl, {childList: true});\n",
       "}}\n",
       "\n",
       "                        })\n",
       "                };\n",
       "                });\n",
       "            </script>\n",
       "        </div>"
      ]
     },
     "metadata": {},
     "output_type": "display_data"
    }
   ],
   "source": [
    "specific_rock = sample_set.loc[sample_set['genre'] == \"rock\"]\n",
    "specific_rock = specific_rock.groupby('title').apply(pd.DataFrame.sort_values, 'bill_year', ascending=False)\n",
    "\n",
    "specific_pop = sample_set.loc[sample_set['genre'] == \"pop\"]\n",
    "specific_pop = specific_pop.groupby('title').apply(pd.DataFrame.sort_values, 'bill_year', ascending=True)\n",
    "\n",
    "#specific_pop = sample_set.loc[sample_set['genre'] == \"rock\"]\n",
    "\n",
    "specific_jazz = sample_set.loc[sample_set['genre'] == \"jazz\"]\n",
    "#specific_jazz = specific_jazz.groupby('title').apply(pd.DataFrame.sort_values, 'bill_year', ascending=True)\n",
    "\n",
    "# specific_jazz = specific_jazz.sort_values(['bill_year','bill_ranking'],ascending=[True,True])\n",
    "specific_soul= sample_set.loc[sample_set['genre'] == \"soul\"]\n",
    "# specific_soul = specific_soul.sort_values(['bill_year','bill_ranking'],ascending=[True,True])\n",
    "specific_folk = sample_set.loc[sample_set['genre'] == \"folk\"]\n",
    "# specific_folk = specific_soul.sort_values(['bill_year','bill_ranking'],ascending=[True,True])\n",
    "\n",
    "fig_3 = px.line()\n",
    "\n",
    "# Add Traces\n",
    "\n",
    "fig_3.add_trace(\n",
    "    go.Scatter(x=list(specific_rock.bill_year),\n",
    "               y=list(specific_rock.bill_ranking),\n",
    "               name=\"Rock\",\n",
    "               visible=False, text=specific_rock['title'],\n",
    "               line=dict(color=\"#33CFA5\"), mode='lines+markers'))\n",
    "fig_3.add_trace(\n",
    "    go.Scatter(x=list(specific_pop.bill_year),\n",
    "               y=list(specific_pop.bill_ranking),\n",
    "               name=\"Pop\",text=specific_pop['title'], \n",
    "               visible=False, \n",
    "               line=dict(color=\"#4287f5\"), mode='lines+markers'))\n",
    "   \n",
    "fig_3.add_trace(\n",
    "    go.Scatter(x=list(specific_jazz.bill_year),\n",
    "               y=list(specific_jazz.bill_ranking),\n",
    "               name=\"Jazz\",text=specific_jazz['title'],\n",
    "               visible=False,\n",
    "               line=dict(color=\"#4287f5\"), mode='lines+markers'))\n",
    "fig_3.add_trace(\n",
    "    go.Scatter(x=list(specific_soul.bill_year),\n",
    "               y=list(specific_soul.bill_ranking),\n",
    "               name=\"Soul\",text=specific_soul['title'],\n",
    "               visible=False,\n",
    "               line=dict(color=\"#4287f5\"), mode='lines+markers'))\n",
    "fig_3.add_trace(\n",
    "    go.Scatter(x=list(specific_folk.bill_year),\n",
    "               y=list(specific_folk.bill_ranking),\n",
    "               name=\"Folk\",text=specific_folk['title'],\n",
    "               visible=False,\n",
    "               line=dict(color=\"#4287f5\"), mode='lines+markers'))\n",
    "\n",
    "\n",
    "fig_3.update_layout(\n",
    "    updatemenus=[\n",
    "        dict(\n",
    "            active=0,\n",
    "            buttons=list([\n",
    "                dict(label=\"None\",\n",
    "                     method=\"update\",\n",
    "                     args=[{\"visible\": [True, True, True, True, True]},\n",
    "                           {\"title\": \"Genre Ranking\"}]),\n",
    "                dict(label=\"Rock\", \n",
    "                     method=\"update\",\n",
    "                     args=[{\"visible\": [True, False, False, False, False]},\n",
    "                           {\"title\": \"Rock Ranking\"}]),\n",
    "                dict(label=\"Pop\",\n",
    "                     method=\"update\",\n",
    "                     args=[{\"visible\": [False, True, False, False, False]},\n",
    "                           {\"title\": \"Pop Ranking\"}]),\n",
    "                dict(label=\"Jazz\",\n",
    "                     method=\"update\",\n",
    "                     args=[{\"visible\": [False, False, True, False, False]},\n",
    "                           {\"title\": \"Jazz Ranking\"}]),\n",
    "                dict(label=\"Soul\",\n",
    "                     method=\"update\",\n",
    "                     args=[{\"visible\": [False, False, False, True, False]},\n",
    "                           {\"title\": \"Soul Ranking\"}]),\n",
    "                dict(label=\"Folk\",\n",
    "                     method=\"update\",\n",
    "                     args=[{\"visible\": [False, False, False, False, True]},\n",
    "                           {\"title\": \"Folk Ranking\"}]),\n",
    "                dict(label=\"All\",\n",
    "                     method=\"update\",\n",
    "                     args=[{\"visible\": [True, True, True, True, True]},\n",
    "                           {\"title\": \"All Genres\"}]),\n",
    "            ]),\n",
    "        )\n",
    "    ])\n",
    "\n",
    "\n",
    "fig_3.show()"
   ]
  },
  {
   "cell_type": "code",
   "execution_count": 9,
   "metadata": {},
   "outputs": [],
   "source": [
    "# def get_genre(title):\n",
    "#     title = str(title)\n",
    "#     genre = str(json_data[title]['wiki'].get('Genre'))\n",
    "#     if genre == \"None\":\n",
    "#         return \"NA\"\n",
    "#     else:\n",
    "#         return genre"
   ]
  },
  {
   "cell_type": "code",
   "execution_count": 10,
   "metadata": {},
   "outputs": [],
   "source": [
    "# for i, row in new_top_10s.iterrows():\n",
    "#     title =  row['title']\n",
    "#     genre = get_genre(title)\n",
    "#     new_top_10s.loc[i,'genre']= genre\n",
    "    \n",
    "    "
   ]
  }
 ],
 "metadata": {
  "kernelspec": {
   "display_name": "Python 3",
   "language": "python",
   "name": "python3"
  },
  "language_info": {
   "codemirror_mode": {
    "name": "ipython",
    "version": 3
   },
   "file_extension": ".py",
   "mimetype": "text/x-python",
   "name": "python",
   "nbconvert_exporter": "python",
   "pygments_lexer": "ipython3",
   "version": "3.6.10"
  }
 },
 "nbformat": 4,
 "nbformat_minor": 4
}
